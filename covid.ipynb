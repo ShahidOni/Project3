{
 "metadata": {
  "language_info": {
   "codemirror_mode": {
    "name": "ipython",
    "version": 3
   },
   "file_extension": ".py",
   "mimetype": "text/x-python",
   "name": "python",
   "nbconvert_exporter": "python",
   "pygments_lexer": "ipython3",
   "version": "3.9.1-final"
  },
  "orig_nbformat": 2,
  "kernelspec": {
   "name": "python3",
   "display_name": "Python 3.9.1 64-bit",
   "metadata": {
    "interpreter": {
     "hash": "aee8b7b246df8f9039afb4144a1f6fd8d2ca17a180786b69acc140d282b71a49"
    }
   }
  }
 },
 "nbformat": 4,
 "nbformat_minor": 2,
 "cells": [
  {
   "cell_type": "code",
   "execution_count": 61,
   "metadata": {},
   "outputs": [],
   "source": [
    "import pandas as pd\n",
    "import seaborn as sns\n",
    "import matplotlib as plt\n",
    "import dateutil\n",
    "import plotly.graph_objects as go\n",
    "from scipy import stats\n",
    "from sklearn.preprocessing import StandardScaler\n",
    "import matplotlib.pylab as plt\n",
    "import requests"
   ]
  },
  {
   "cell_type": "code",
   "execution_count": 62,
   "metadata": {
    "tags": []
   },
   "outputs": [],
   "source": [
    "file_path = './all-states-history.csv'\n",
    "url = 'https://api.covidtracking.com/v1/states/daily.csv'\n",
    "\n",
    "with open(file_path, 'wb') as f:\n",
    "    f.write(requests.get(url).content)\n",
    "\n",
    "data = pd.read_csv(file_path)"
   ]
  },
  {
   "cell_type": "code",
   "execution_count": 63,
   "metadata": {},
   "outputs": [],
   "source": [
    "data[\"date\"] = data[\"date\"].apply(str).apply(dateutil.parser.parse, dayfirst=False)"
   ]
  },
  {
   "cell_type": "code",
   "execution_count": 64,
   "metadata": {},
   "outputs": [
    {
     "output_type": "execute_result",
     "data": {
      "text/plain": [
       "Index(['date', 'state', 'positive', 'probableCases', 'negative', 'pending',\n",
       "       'totalTestResultsSource', 'totalTestResults', 'hospitalizedCurrently',\n",
       "       'hospitalizedCumulative', 'inIcuCurrently', 'inIcuCumulative',\n",
       "       'onVentilatorCurrently', 'onVentilatorCumulative', 'recovered',\n",
       "       'lastUpdateEt', 'dateModified', 'checkTimeEt', 'death', 'hospitalized',\n",
       "       'dateChecked', 'totalTestsViral', 'positiveTestsViral',\n",
       "       'negativeTestsViral', 'positiveCasesViral', 'deathConfirmed',\n",
       "       'deathProbable', 'totalTestEncountersViral', 'totalTestsPeopleViral',\n",
       "       'totalTestsAntibody', 'positiveTestsAntibody', 'negativeTestsAntibody',\n",
       "       'totalTestsPeopleAntibody', 'positiveTestsPeopleAntibody',\n",
       "       'negativeTestsPeopleAntibody', 'totalTestsPeopleAntigen',\n",
       "       'positiveTestsPeopleAntigen', 'totalTestsAntigen',\n",
       "       'positiveTestsAntigen', 'fips', 'positiveIncrease', 'negativeIncrease',\n",
       "       'total', 'totalTestResultsIncrease', 'posNeg', 'dataQualityGrade',\n",
       "       'deathIncrease', 'hospitalizedIncrease', 'hash', 'commercialScore',\n",
       "       'negativeRegularScore', 'negativeScore', 'positiveScore', 'score',\n",
       "       'grade'],\n",
       "      dtype='object')"
      ]
     },
     "metadata": {},
     "execution_count": 64
    }
   ],
   "source": [
    "data.columns"
   ]
  },
  {
   "cell_type": "code",
   "execution_count": 65,
   "metadata": {},
   "outputs": [
    {
     "output_type": "execute_result",
     "data": {
      "text/plain": [
       "        date    death\n",
       "0 2021-02-16    287.0\n",
       "1 2021-02-16   9257.0\n",
       "2 2021-02-16   5287.0\n",
       "3 2021-02-16      0.0\n",
       "4 2021-02-16  14981.0"
      ],
      "text/html": "<div>\n<style scoped>\n    .dataframe tbody tr th:only-of-type {\n        vertical-align: middle;\n    }\n\n    .dataframe tbody tr th {\n        vertical-align: top;\n    }\n\n    .dataframe thead th {\n        text-align: right;\n    }\n</style>\n<table border=\"1\" class=\"dataframe\">\n  <thead>\n    <tr style=\"text-align: right;\">\n      <th></th>\n      <th>date</th>\n      <th>death</th>\n    </tr>\n  </thead>\n  <tbody>\n    <tr>\n      <th>0</th>\n      <td>2021-02-16</td>\n      <td>287.0</td>\n    </tr>\n    <tr>\n      <th>1</th>\n      <td>2021-02-16</td>\n      <td>9257.0</td>\n    </tr>\n    <tr>\n      <th>2</th>\n      <td>2021-02-16</td>\n      <td>5287.0</td>\n    </tr>\n    <tr>\n      <th>3</th>\n      <td>2021-02-16</td>\n      <td>0.0</td>\n    </tr>\n    <tr>\n      <th>4</th>\n      <td>2021-02-16</td>\n      <td>14981.0</td>\n    </tr>\n  </tbody>\n</table>\n</div>"
     },
     "metadata": {},
     "execution_count": 65
    }
   ],
   "source": [
    "death_data = data[['date','death']].dropna()\n",
    "death_data[\"date\"] = death_data[\"date\"].apply(str).apply(dateutil.parser.parse, dayfirst=False)\n",
    "death_data.head()"
   ]
  },
  {
   "cell_type": "code",
   "execution_count": 66,
   "metadata": {},
   "outputs": [
    {
     "output_type": "execute_result",
     "data": {
      "text/plain": [
       "<AxesSubplot:xlabel='ID', ylabel='daily_death_count'>"
      ]
     },
     "metadata": {},
     "execution_count": 66
    },
    {
     "output_type": "display_data",
     "data": {
      "text/plain": "<Figure size 432x288 with 1 Axes>",
      "image/svg+xml": "<?xml version=\"1.0\" encoding=\"utf-8\" standalone=\"no\"?>\n<!DOCTYPE svg PUBLIC \"-//W3C//DTD SVG 1.1//EN\"\n  \"http://www.w3.org/Graphics/SVG/1.1/DTD/svg11.dtd\">\n<!-- Created with matplotlib (https://matplotlib.org/) -->\n<svg height=\"262.19625pt\" version=\"1.1\" viewBox=\"0 0 395.60625 262.19625\" width=\"395.60625pt\" xmlns=\"http://www.w3.org/2000/svg\" xmlns:xlink=\"http://www.w3.org/1999/xlink\">\n <metadata>\n  <rdf:RDF xmlns:cc=\"http://creativecommons.org/ns#\" xmlns:dc=\"http://purl.org/dc/elements/1.1/\" xmlns:rdf=\"http://www.w3.org/1999/02/22-rdf-syntax-ns#\">\n   <cc:Work>\n    <dc:type rdf:resource=\"http://purl.org/dc/dcmitype/StillImage\"/>\n    <dc:date>2021-02-17T13:15:35.809241</dc:date>\n    <dc:format>image/svg+xml</dc:format>\n    <dc:creator>\n     <cc:Agent>\n      <dc:title>Matplotlib v3.3.4, https://matplotlib.org/</dc:title>\n     </cc:Agent>\n    </dc:creator>\n   </cc:Work>\n  </rdf:RDF>\n </metadata>\n <defs>\n  <style type=\"text/css\">*{stroke-linecap:butt;stroke-linejoin:round;}</style>\n </defs>\n <g id=\"figure_1\">\n  <g id=\"patch_1\">\n   <path d=\"M 0 262.19625 \nL 395.60625 262.19625 \nL 395.60625 0 \nL 0 0 \nz\n\" style=\"fill:none;\"/>\n  </g>\n  <g id=\"axes_1\">\n   <g id=\"patch_2\">\n    <path d=\"M 53.60625 224.64 \nL 388.40625 224.64 \nL 388.40625 7.2 \nL 53.60625 7.2 \nz\n\" style=\"fill:#ffffff;\"/>\n   </g>\n   <g id=\"matplotlib.axis_1\">\n    <g id=\"xtick_1\">\n     <g id=\"line2d_1\">\n      <defs>\n       <path d=\"M 0 0 \nL 0 3.5 \n\" id=\"m56019831c4\" style=\"stroke:#000000;stroke-width:0.8;\"/>\n      </defs>\n      <g>\n       <use style=\"stroke:#000000;stroke-width:0.8;\" x=\"68.004045\" xlink:href=\"#m56019831c4\" y=\"224.64\"/>\n      </g>\n     </g>\n     <g id=\"text_1\">\n      <!-- 0 -->\n      <g transform=\"translate(64.822795 239.238437)scale(0.1 -0.1)\">\n       <defs>\n        <path d=\"M 31.78125 66.40625 \nQ 24.171875 66.40625 20.328125 58.90625 \nQ 16.5 51.421875 16.5 36.375 \nQ 16.5 21.390625 20.328125 13.890625 \nQ 24.171875 6.390625 31.78125 6.390625 \nQ 39.453125 6.390625 43.28125 13.890625 \nQ 47.125 21.390625 47.125 36.375 \nQ 47.125 51.421875 43.28125 58.90625 \nQ 39.453125 66.40625 31.78125 66.40625 \nz\nM 31.78125 74.21875 \nQ 44.046875 74.21875 50.515625 64.515625 \nQ 56.984375 54.828125 56.984375 36.375 \nQ 56.984375 17.96875 50.515625 8.265625 \nQ 44.046875 -1.421875 31.78125 -1.421875 \nQ 19.53125 -1.421875 13.0625 8.265625 \nQ 6.59375 17.96875 6.59375 36.375 \nQ 6.59375 54.828125 13.0625 64.515625 \nQ 19.53125 74.21875 31.78125 74.21875 \nz\n\" id=\"DejaVuSans-48\"/>\n       </defs>\n       <use xlink:href=\"#DejaVuSans-48\"/>\n      </g>\n     </g>\n    </g>\n    <g id=\"xtick_2\">\n     <g id=\"line2d_2\">\n      <g>\n       <use style=\"stroke:#000000;stroke-width:0.8;\" x=\"109.023403\" xlink:href=\"#m56019831c4\" y=\"224.64\"/>\n      </g>\n     </g>\n     <g id=\"text_2\">\n      <!-- 50 -->\n      <g transform=\"translate(102.660903 239.238437)scale(0.1 -0.1)\">\n       <defs>\n        <path d=\"M 10.796875 72.90625 \nL 49.515625 72.90625 \nL 49.515625 64.59375 \nL 19.828125 64.59375 \nL 19.828125 46.734375 \nQ 21.96875 47.46875 24.109375 47.828125 \nQ 26.265625 48.1875 28.421875 48.1875 \nQ 40.625 48.1875 47.75 41.5 \nQ 54.890625 34.8125 54.890625 23.390625 \nQ 54.890625 11.625 47.5625 5.09375 \nQ 40.234375 -1.421875 26.90625 -1.421875 \nQ 22.3125 -1.421875 17.546875 -0.640625 \nQ 12.796875 0.140625 7.71875 1.703125 \nL 7.71875 11.625 \nQ 12.109375 9.234375 16.796875 8.0625 \nQ 21.484375 6.890625 26.703125 6.890625 \nQ 35.15625 6.890625 40.078125 11.328125 \nQ 45.015625 15.765625 45.015625 23.390625 \nQ 45.015625 31 40.078125 35.4375 \nQ 35.15625 39.890625 26.703125 39.890625 \nQ 22.75 39.890625 18.8125 39.015625 \nQ 14.890625 38.140625 10.796875 36.28125 \nz\n\" id=\"DejaVuSans-53\"/>\n       </defs>\n       <use xlink:href=\"#DejaVuSans-53\"/>\n       <use x=\"63.623047\" xlink:href=\"#DejaVuSans-48\"/>\n      </g>\n     </g>\n    </g>\n    <g id=\"xtick_3\">\n     <g id=\"line2d_3\">\n      <g>\n       <use style=\"stroke:#000000;stroke-width:0.8;\" x=\"150.042761\" xlink:href=\"#m56019831c4\" y=\"224.64\"/>\n      </g>\n     </g>\n     <g id=\"text_3\">\n      <!-- 100 -->\n      <g transform=\"translate(140.499011 239.238437)scale(0.1 -0.1)\">\n       <defs>\n        <path d=\"M 12.40625 8.296875 \nL 28.515625 8.296875 \nL 28.515625 63.921875 \nL 10.984375 60.40625 \nL 10.984375 69.390625 \nL 28.421875 72.90625 \nL 38.28125 72.90625 \nL 38.28125 8.296875 \nL 54.390625 8.296875 \nL 54.390625 0 \nL 12.40625 0 \nz\n\" id=\"DejaVuSans-49\"/>\n       </defs>\n       <use xlink:href=\"#DejaVuSans-49\"/>\n       <use x=\"63.623047\" xlink:href=\"#DejaVuSans-48\"/>\n       <use x=\"127.246094\" xlink:href=\"#DejaVuSans-48\"/>\n      </g>\n     </g>\n    </g>\n    <g id=\"xtick_4\">\n     <g id=\"line2d_4\">\n      <g>\n       <use style=\"stroke:#000000;stroke-width:0.8;\" x=\"191.062119\" xlink:href=\"#m56019831c4\" y=\"224.64\"/>\n      </g>\n     </g>\n     <g id=\"text_4\">\n      <!-- 150 -->\n      <g transform=\"translate(181.518369 239.238437)scale(0.1 -0.1)\">\n       <use xlink:href=\"#DejaVuSans-49\"/>\n       <use x=\"63.623047\" xlink:href=\"#DejaVuSans-53\"/>\n       <use x=\"127.246094\" xlink:href=\"#DejaVuSans-48\"/>\n      </g>\n     </g>\n    </g>\n    <g id=\"xtick_5\">\n     <g id=\"line2d_5\">\n      <g>\n       <use style=\"stroke:#000000;stroke-width:0.8;\" x=\"232.081477\" xlink:href=\"#m56019831c4\" y=\"224.64\"/>\n      </g>\n     </g>\n     <g id=\"text_5\">\n      <!-- 200 -->\n      <g transform=\"translate(222.537727 239.238437)scale(0.1 -0.1)\">\n       <defs>\n        <path d=\"M 19.1875 8.296875 \nL 53.609375 8.296875 \nL 53.609375 0 \nL 7.328125 0 \nL 7.328125 8.296875 \nQ 12.9375 14.109375 22.625 23.890625 \nQ 32.328125 33.6875 34.8125 36.53125 \nQ 39.546875 41.84375 41.421875 45.53125 \nQ 43.3125 49.21875 43.3125 52.78125 \nQ 43.3125 58.59375 39.234375 62.25 \nQ 35.15625 65.921875 28.609375 65.921875 \nQ 23.96875 65.921875 18.8125 64.3125 \nQ 13.671875 62.703125 7.8125 59.421875 \nL 7.8125 69.390625 \nQ 13.765625 71.78125 18.9375 73 \nQ 24.125 74.21875 28.421875 74.21875 \nQ 39.75 74.21875 46.484375 68.546875 \nQ 53.21875 62.890625 53.21875 53.421875 \nQ 53.21875 48.921875 51.53125 44.890625 \nQ 49.859375 40.875 45.40625 35.40625 \nQ 44.1875 33.984375 37.640625 27.21875 \nQ 31.109375 20.453125 19.1875 8.296875 \nz\n\" id=\"DejaVuSans-50\"/>\n       </defs>\n       <use xlink:href=\"#DejaVuSans-50\"/>\n       <use x=\"63.623047\" xlink:href=\"#DejaVuSans-48\"/>\n       <use x=\"127.246094\" xlink:href=\"#DejaVuSans-48\"/>\n      </g>\n     </g>\n    </g>\n    <g id=\"xtick_6\">\n     <g id=\"line2d_6\">\n      <g>\n       <use style=\"stroke:#000000;stroke-width:0.8;\" x=\"273.100835\" xlink:href=\"#m56019831c4\" y=\"224.64\"/>\n      </g>\n     </g>\n     <g id=\"text_6\">\n      <!-- 250 -->\n      <g transform=\"translate(263.557085 239.238437)scale(0.1 -0.1)\">\n       <use xlink:href=\"#DejaVuSans-50\"/>\n       <use x=\"63.623047\" xlink:href=\"#DejaVuSans-53\"/>\n       <use x=\"127.246094\" xlink:href=\"#DejaVuSans-48\"/>\n      </g>\n     </g>\n    </g>\n    <g id=\"xtick_7\">\n     <g id=\"line2d_7\">\n      <g>\n       <use style=\"stroke:#000000;stroke-width:0.8;\" x=\"314.120193\" xlink:href=\"#m56019831c4\" y=\"224.64\"/>\n      </g>\n     </g>\n     <g id=\"text_7\">\n      <!-- 300 -->\n      <g transform=\"translate(304.576443 239.238437)scale(0.1 -0.1)\">\n       <defs>\n        <path d=\"M 40.578125 39.3125 \nQ 47.65625 37.796875 51.625 33 \nQ 55.609375 28.21875 55.609375 21.1875 \nQ 55.609375 10.40625 48.1875 4.484375 \nQ 40.765625 -1.421875 27.09375 -1.421875 \nQ 22.515625 -1.421875 17.65625 -0.515625 \nQ 12.796875 0.390625 7.625 2.203125 \nL 7.625 11.71875 \nQ 11.71875 9.328125 16.59375 8.109375 \nQ 21.484375 6.890625 26.8125 6.890625 \nQ 36.078125 6.890625 40.9375 10.546875 \nQ 45.796875 14.203125 45.796875 21.1875 \nQ 45.796875 27.640625 41.28125 31.265625 \nQ 36.765625 34.90625 28.71875 34.90625 \nL 20.21875 34.90625 \nL 20.21875 43.015625 \nL 29.109375 43.015625 \nQ 36.375 43.015625 40.234375 45.921875 \nQ 44.09375 48.828125 44.09375 54.296875 \nQ 44.09375 59.90625 40.109375 62.90625 \nQ 36.140625 65.921875 28.71875 65.921875 \nQ 24.65625 65.921875 20.015625 65.03125 \nQ 15.375 64.15625 9.8125 62.3125 \nL 9.8125 71.09375 \nQ 15.4375 72.65625 20.34375 73.4375 \nQ 25.25 74.21875 29.59375 74.21875 \nQ 40.828125 74.21875 47.359375 69.109375 \nQ 53.90625 64.015625 53.90625 55.328125 \nQ 53.90625 49.265625 50.4375 45.09375 \nQ 46.96875 40.921875 40.578125 39.3125 \nz\n\" id=\"DejaVuSans-51\"/>\n       </defs>\n       <use xlink:href=\"#DejaVuSans-51\"/>\n       <use x=\"63.623047\" xlink:href=\"#DejaVuSans-48\"/>\n       <use x=\"127.246094\" xlink:href=\"#DejaVuSans-48\"/>\n      </g>\n     </g>\n    </g>\n    <g id=\"xtick_8\">\n     <g id=\"line2d_8\">\n      <g>\n       <use style=\"stroke:#000000;stroke-width:0.8;\" x=\"355.139551\" xlink:href=\"#m56019831c4\" y=\"224.64\"/>\n      </g>\n     </g>\n     <g id=\"text_8\">\n      <!-- 350 -->\n      <g transform=\"translate(345.595801 239.238437)scale(0.1 -0.1)\">\n       <use xlink:href=\"#DejaVuSans-51\"/>\n       <use x=\"63.623047\" xlink:href=\"#DejaVuSans-53\"/>\n       <use x=\"127.246094\" xlink:href=\"#DejaVuSans-48\"/>\n      </g>\n     </g>\n    </g>\n    <g id=\"text_9\">\n     <!-- ID -->\n     <g transform=\"translate(215.68125 252.916562)scale(0.1 -0.1)\">\n      <defs>\n       <path d=\"M 9.8125 72.90625 \nL 19.671875 72.90625 \nL 19.671875 0 \nL 9.8125 0 \nz\n\" id=\"DejaVuSans-73\"/>\n       <path d=\"M 19.671875 64.796875 \nL 19.671875 8.109375 \nL 31.59375 8.109375 \nQ 46.6875 8.109375 53.6875 14.9375 \nQ 60.6875 21.78125 60.6875 36.53125 \nQ 60.6875 51.171875 53.6875 57.984375 \nQ 46.6875 64.796875 31.59375 64.796875 \nz\nM 9.8125 72.90625 \nL 30.078125 72.90625 \nQ 51.265625 72.90625 61.171875 64.09375 \nQ 71.09375 55.28125 71.09375 36.53125 \nQ 71.09375 17.671875 61.125 8.828125 \nQ 51.171875 0 30.078125 0 \nL 9.8125 0 \nz\n\" id=\"DejaVuSans-68\"/>\n      </defs>\n      <use xlink:href=\"#DejaVuSans-73\"/>\n      <use x=\"29.492188\" xlink:href=\"#DejaVuSans-68\"/>\n     </g>\n    </g>\n   </g>\n   <g id=\"matplotlib.axis_2\">\n    <g id=\"ytick_1\">\n     <g id=\"line2d_9\">\n      <defs>\n       <path d=\"M 0 0 \nL -3.5 0 \n\" id=\"mbfaaa2cb76\" style=\"stroke:#000000;stroke-width:0.8;\"/>\n      </defs>\n      <g>\n       <use style=\"stroke:#000000;stroke-width:0.8;\" x=\"53.60625\" xlink:href=\"#mbfaaa2cb76\" y=\"214.756364\"/>\n      </g>\n     </g>\n     <g id=\"text_10\">\n      <!-- 0 -->\n      <g transform=\"translate(40.24375 218.555582)scale(0.1 -0.1)\">\n       <use xlink:href=\"#DejaVuSans-48\"/>\n      </g>\n     </g>\n    </g>\n    <g id=\"ytick_2\">\n     <g id=\"line2d_10\">\n      <g>\n       <use style=\"stroke:#000000;stroke-width:0.8;\" x=\"53.60625\" xlink:href=\"#mbfaaa2cb76\" y=\"178.332423\"/>\n      </g>\n     </g>\n     <g id=\"text_11\">\n      <!-- 1000 -->\n      <g transform=\"translate(21.15625 182.131641)scale(0.1 -0.1)\">\n       <use xlink:href=\"#DejaVuSans-49\"/>\n       <use x=\"63.623047\" xlink:href=\"#DejaVuSans-48\"/>\n       <use x=\"127.246094\" xlink:href=\"#DejaVuSans-48\"/>\n       <use x=\"190.869141\" xlink:href=\"#DejaVuSans-48\"/>\n      </g>\n     </g>\n    </g>\n    <g id=\"ytick_3\">\n     <g id=\"line2d_11\">\n      <g>\n       <use style=\"stroke:#000000;stroke-width:0.8;\" x=\"53.60625\" xlink:href=\"#mbfaaa2cb76\" y=\"141.908482\"/>\n      </g>\n     </g>\n     <g id=\"text_12\">\n      <!-- 2000 -->\n      <g transform=\"translate(21.15625 145.707701)scale(0.1 -0.1)\">\n       <use xlink:href=\"#DejaVuSans-50\"/>\n       <use x=\"63.623047\" xlink:href=\"#DejaVuSans-48\"/>\n       <use x=\"127.246094\" xlink:href=\"#DejaVuSans-48\"/>\n       <use x=\"190.869141\" xlink:href=\"#DejaVuSans-48\"/>\n      </g>\n     </g>\n    </g>\n    <g id=\"ytick_4\">\n     <g id=\"line2d_12\">\n      <g>\n       <use style=\"stroke:#000000;stroke-width:0.8;\" x=\"53.60625\" xlink:href=\"#mbfaaa2cb76\" y=\"105.484541\"/>\n      </g>\n     </g>\n     <g id=\"text_13\">\n      <!-- 3000 -->\n      <g transform=\"translate(21.15625 109.28376)scale(0.1 -0.1)\">\n       <use xlink:href=\"#DejaVuSans-51\"/>\n       <use x=\"63.623047\" xlink:href=\"#DejaVuSans-48\"/>\n       <use x=\"127.246094\" xlink:href=\"#DejaVuSans-48\"/>\n       <use x=\"190.869141\" xlink:href=\"#DejaVuSans-48\"/>\n      </g>\n     </g>\n    </g>\n    <g id=\"ytick_5\">\n     <g id=\"line2d_13\">\n      <g>\n       <use style=\"stroke:#000000;stroke-width:0.8;\" x=\"53.60625\" xlink:href=\"#mbfaaa2cb76\" y=\"69.0606\"/>\n      </g>\n     </g>\n     <g id=\"text_14\">\n      <!-- 4000 -->\n      <g transform=\"translate(21.15625 72.859819)scale(0.1 -0.1)\">\n       <defs>\n        <path d=\"M 37.796875 64.3125 \nL 12.890625 25.390625 \nL 37.796875 25.390625 \nz\nM 35.203125 72.90625 \nL 47.609375 72.90625 \nL 47.609375 25.390625 \nL 58.015625 25.390625 \nL 58.015625 17.1875 \nL 47.609375 17.1875 \nL 47.609375 0 \nL 37.796875 0 \nL 37.796875 17.1875 \nL 4.890625 17.1875 \nL 4.890625 26.703125 \nz\n\" id=\"DejaVuSans-52\"/>\n       </defs>\n       <use xlink:href=\"#DejaVuSans-52\"/>\n       <use x=\"63.623047\" xlink:href=\"#DejaVuSans-48\"/>\n       <use x=\"127.246094\" xlink:href=\"#DejaVuSans-48\"/>\n       <use x=\"190.869141\" xlink:href=\"#DejaVuSans-48\"/>\n      </g>\n     </g>\n    </g>\n    <g id=\"ytick_6\">\n     <g id=\"line2d_14\">\n      <g>\n       <use style=\"stroke:#000000;stroke-width:0.8;\" x=\"53.60625\" xlink:href=\"#mbfaaa2cb76\" y=\"32.636659\"/>\n      </g>\n     </g>\n     <g id=\"text_15\">\n      <!-- 5000 -->\n      <g transform=\"translate(21.15625 36.435878)scale(0.1 -0.1)\">\n       <use xlink:href=\"#DejaVuSans-53\"/>\n       <use x=\"63.623047\" xlink:href=\"#DejaVuSans-48\"/>\n       <use x=\"127.246094\" xlink:href=\"#DejaVuSans-48\"/>\n       <use x=\"190.869141\" xlink:href=\"#DejaVuSans-48\"/>\n      </g>\n     </g>\n    </g>\n    <g id=\"text_16\">\n     <!-- daily_death_count -->\n     <g transform=\"translate(14.798438 161.445781)rotate(-90)scale(0.1 -0.1)\">\n      <defs>\n       <path d=\"M 45.40625 46.390625 \nL 45.40625 75.984375 \nL 54.390625 75.984375 \nL 54.390625 0 \nL 45.40625 0 \nL 45.40625 8.203125 \nQ 42.578125 3.328125 38.25 0.953125 \nQ 33.9375 -1.421875 27.875 -1.421875 \nQ 17.96875 -1.421875 11.734375 6.484375 \nQ 5.515625 14.40625 5.515625 27.296875 \nQ 5.515625 40.1875 11.734375 48.09375 \nQ 17.96875 56 27.875 56 \nQ 33.9375 56 38.25 53.625 \nQ 42.578125 51.265625 45.40625 46.390625 \nz\nM 14.796875 27.296875 \nQ 14.796875 17.390625 18.875 11.75 \nQ 22.953125 6.109375 30.078125 6.109375 \nQ 37.203125 6.109375 41.296875 11.75 \nQ 45.40625 17.390625 45.40625 27.296875 \nQ 45.40625 37.203125 41.296875 42.84375 \nQ 37.203125 48.484375 30.078125 48.484375 \nQ 22.953125 48.484375 18.875 42.84375 \nQ 14.796875 37.203125 14.796875 27.296875 \nz\n\" id=\"DejaVuSans-100\"/>\n       <path d=\"M 34.28125 27.484375 \nQ 23.390625 27.484375 19.1875 25 \nQ 14.984375 22.515625 14.984375 16.5 \nQ 14.984375 11.71875 18.140625 8.90625 \nQ 21.296875 6.109375 26.703125 6.109375 \nQ 34.1875 6.109375 38.703125 11.40625 \nQ 43.21875 16.703125 43.21875 25.484375 \nL 43.21875 27.484375 \nz\nM 52.203125 31.203125 \nL 52.203125 0 \nL 43.21875 0 \nL 43.21875 8.296875 \nQ 40.140625 3.328125 35.546875 0.953125 \nQ 30.953125 -1.421875 24.3125 -1.421875 \nQ 15.921875 -1.421875 10.953125 3.296875 \nQ 6 8.015625 6 15.921875 \nQ 6 25.140625 12.171875 29.828125 \nQ 18.359375 34.515625 30.609375 34.515625 \nL 43.21875 34.515625 \nL 43.21875 35.40625 \nQ 43.21875 41.609375 39.140625 45 \nQ 35.0625 48.390625 27.6875 48.390625 \nQ 23 48.390625 18.546875 47.265625 \nQ 14.109375 46.140625 10.015625 43.890625 \nL 10.015625 52.203125 \nQ 14.9375 54.109375 19.578125 55.046875 \nQ 24.21875 56 28.609375 56 \nQ 40.484375 56 46.34375 49.84375 \nQ 52.203125 43.703125 52.203125 31.203125 \nz\n\" id=\"DejaVuSans-97\"/>\n       <path d=\"M 9.421875 54.6875 \nL 18.40625 54.6875 \nL 18.40625 0 \nL 9.421875 0 \nz\nM 9.421875 75.984375 \nL 18.40625 75.984375 \nL 18.40625 64.59375 \nL 9.421875 64.59375 \nz\n\" id=\"DejaVuSans-105\"/>\n       <path d=\"M 9.421875 75.984375 \nL 18.40625 75.984375 \nL 18.40625 0 \nL 9.421875 0 \nz\n\" id=\"DejaVuSans-108\"/>\n       <path d=\"M 32.171875 -5.078125 \nQ 28.375 -14.84375 24.75 -17.8125 \nQ 21.140625 -20.796875 15.09375 -20.796875 \nL 7.90625 -20.796875 \nL 7.90625 -13.28125 \nL 13.1875 -13.28125 \nQ 16.890625 -13.28125 18.9375 -11.515625 \nQ 21 -9.765625 23.484375 -3.21875 \nL 25.09375 0.875 \nL 2.984375 54.6875 \nL 12.5 54.6875 \nL 29.59375 11.921875 \nL 46.6875 54.6875 \nL 56.203125 54.6875 \nz\n\" id=\"DejaVuSans-121\"/>\n       <path d=\"M 50.984375 -16.609375 \nL 50.984375 -23.578125 \nL -0.984375 -23.578125 \nL -0.984375 -16.609375 \nz\n\" id=\"DejaVuSans-95\"/>\n       <path d=\"M 56.203125 29.59375 \nL 56.203125 25.203125 \nL 14.890625 25.203125 \nQ 15.484375 15.921875 20.484375 11.0625 \nQ 25.484375 6.203125 34.421875 6.203125 \nQ 39.59375 6.203125 44.453125 7.46875 \nQ 49.3125 8.734375 54.109375 11.28125 \nL 54.109375 2.78125 \nQ 49.265625 0.734375 44.1875 -0.34375 \nQ 39.109375 -1.421875 33.890625 -1.421875 \nQ 20.796875 -1.421875 13.15625 6.1875 \nQ 5.515625 13.8125 5.515625 26.8125 \nQ 5.515625 40.234375 12.765625 48.109375 \nQ 20.015625 56 32.328125 56 \nQ 43.359375 56 49.78125 48.890625 \nQ 56.203125 41.796875 56.203125 29.59375 \nz\nM 47.21875 32.234375 \nQ 47.125 39.59375 43.09375 43.984375 \nQ 39.0625 48.390625 32.421875 48.390625 \nQ 24.90625 48.390625 20.390625 44.140625 \nQ 15.875 39.890625 15.1875 32.171875 \nz\n\" id=\"DejaVuSans-101\"/>\n       <path d=\"M 18.3125 70.21875 \nL 18.3125 54.6875 \nL 36.8125 54.6875 \nL 36.8125 47.703125 \nL 18.3125 47.703125 \nL 18.3125 18.015625 \nQ 18.3125 11.328125 20.140625 9.421875 \nQ 21.96875 7.515625 27.59375 7.515625 \nL 36.8125 7.515625 \nL 36.8125 0 \nL 27.59375 0 \nQ 17.1875 0 13.234375 3.875 \nQ 9.28125 7.765625 9.28125 18.015625 \nL 9.28125 47.703125 \nL 2.6875 47.703125 \nL 2.6875 54.6875 \nL 9.28125 54.6875 \nL 9.28125 70.21875 \nz\n\" id=\"DejaVuSans-116\"/>\n       <path d=\"M 54.890625 33.015625 \nL 54.890625 0 \nL 45.90625 0 \nL 45.90625 32.71875 \nQ 45.90625 40.484375 42.875 44.328125 \nQ 39.84375 48.1875 33.796875 48.1875 \nQ 26.515625 48.1875 22.3125 43.546875 \nQ 18.109375 38.921875 18.109375 30.90625 \nL 18.109375 0 \nL 9.078125 0 \nL 9.078125 75.984375 \nL 18.109375 75.984375 \nL 18.109375 46.1875 \nQ 21.34375 51.125 25.703125 53.5625 \nQ 30.078125 56 35.796875 56 \nQ 45.21875 56 50.046875 50.171875 \nQ 54.890625 44.34375 54.890625 33.015625 \nz\n\" id=\"DejaVuSans-104\"/>\n       <path d=\"M 48.78125 52.59375 \nL 48.78125 44.1875 \nQ 44.96875 46.296875 41.140625 47.34375 \nQ 37.3125 48.390625 33.40625 48.390625 \nQ 24.65625 48.390625 19.8125 42.84375 \nQ 14.984375 37.3125 14.984375 27.296875 \nQ 14.984375 17.28125 19.8125 11.734375 \nQ 24.65625 6.203125 33.40625 6.203125 \nQ 37.3125 6.203125 41.140625 7.25 \nQ 44.96875 8.296875 48.78125 10.40625 \nL 48.78125 2.09375 \nQ 45.015625 0.34375 40.984375 -0.53125 \nQ 36.96875 -1.421875 32.421875 -1.421875 \nQ 20.0625 -1.421875 12.78125 6.34375 \nQ 5.515625 14.109375 5.515625 27.296875 \nQ 5.515625 40.671875 12.859375 48.328125 \nQ 20.21875 56 33.015625 56 \nQ 37.15625 56 41.109375 55.140625 \nQ 45.0625 54.296875 48.78125 52.59375 \nz\n\" id=\"DejaVuSans-99\"/>\n       <path d=\"M 30.609375 48.390625 \nQ 23.390625 48.390625 19.1875 42.75 \nQ 14.984375 37.109375 14.984375 27.296875 \nQ 14.984375 17.484375 19.15625 11.84375 \nQ 23.34375 6.203125 30.609375 6.203125 \nQ 37.796875 6.203125 41.984375 11.859375 \nQ 46.1875 17.53125 46.1875 27.296875 \nQ 46.1875 37.015625 41.984375 42.703125 \nQ 37.796875 48.390625 30.609375 48.390625 \nz\nM 30.609375 56 \nQ 42.328125 56 49.015625 48.375 \nQ 55.71875 40.765625 55.71875 27.296875 \nQ 55.71875 13.875 49.015625 6.21875 \nQ 42.328125 -1.421875 30.609375 -1.421875 \nQ 18.84375 -1.421875 12.171875 6.21875 \nQ 5.515625 13.875 5.515625 27.296875 \nQ 5.515625 40.765625 12.171875 48.375 \nQ 18.84375 56 30.609375 56 \nz\n\" id=\"DejaVuSans-111\"/>\n       <path d=\"M 8.5 21.578125 \nL 8.5 54.6875 \nL 17.484375 54.6875 \nL 17.484375 21.921875 \nQ 17.484375 14.15625 20.5 10.265625 \nQ 23.53125 6.390625 29.59375 6.390625 \nQ 36.859375 6.390625 41.078125 11.03125 \nQ 45.3125 15.671875 45.3125 23.6875 \nL 45.3125 54.6875 \nL 54.296875 54.6875 \nL 54.296875 0 \nL 45.3125 0 \nL 45.3125 8.40625 \nQ 42.046875 3.421875 37.71875 1 \nQ 33.40625 -1.421875 27.6875 -1.421875 \nQ 18.265625 -1.421875 13.375 4.4375 \nQ 8.5 10.296875 8.5 21.578125 \nz\nM 31.109375 56 \nz\n\" id=\"DejaVuSans-117\"/>\n       <path d=\"M 54.890625 33.015625 \nL 54.890625 0 \nL 45.90625 0 \nL 45.90625 32.71875 \nQ 45.90625 40.484375 42.875 44.328125 \nQ 39.84375 48.1875 33.796875 48.1875 \nQ 26.515625 48.1875 22.3125 43.546875 \nQ 18.109375 38.921875 18.109375 30.90625 \nL 18.109375 0 \nL 9.078125 0 \nL 9.078125 54.6875 \nL 18.109375 54.6875 \nL 18.109375 46.1875 \nQ 21.34375 51.125 25.703125 53.5625 \nQ 30.078125 56 35.796875 56 \nQ 45.21875 56 50.046875 50.171875 \nQ 54.890625 44.34375 54.890625 33.015625 \nz\n\" id=\"DejaVuSans-110\"/>\n      </defs>\n      <use xlink:href=\"#DejaVuSans-100\"/>\n      <use x=\"63.476562\" xlink:href=\"#DejaVuSans-97\"/>\n      <use x=\"124.755859\" xlink:href=\"#DejaVuSans-105\"/>\n      <use x=\"152.539062\" xlink:href=\"#DejaVuSans-108\"/>\n      <use x=\"180.322266\" xlink:href=\"#DejaVuSans-121\"/>\n      <use x=\"239.501953\" xlink:href=\"#DejaVuSans-95\"/>\n      <use x=\"289.501953\" xlink:href=\"#DejaVuSans-100\"/>\n      <use x=\"352.978516\" xlink:href=\"#DejaVuSans-101\"/>\n      <use x=\"414.501953\" xlink:href=\"#DejaVuSans-97\"/>\n      <use x=\"475.78125\" xlink:href=\"#DejaVuSans-116\"/>\n      <use x=\"514.990234\" xlink:href=\"#DejaVuSans-104\"/>\n      <use x=\"578.369141\" xlink:href=\"#DejaVuSans-95\"/>\n      <use x=\"628.369141\" xlink:href=\"#DejaVuSans-99\"/>\n      <use x=\"683.349609\" xlink:href=\"#DejaVuSans-111\"/>\n      <use x=\"744.53125\" xlink:href=\"#DejaVuSans-117\"/>\n      <use x=\"807.910156\" xlink:href=\"#DejaVuSans-110\"/>\n      <use x=\"871.289062\" xlink:href=\"#DejaVuSans-116\"/>\n     </g>\n    </g>\n   </g>\n   <g id=\"line2d_15\">\n    <path clip-path=\"url(#p06d02a445b)\" d=\"M 68.824432 214.756364 \nL 86.872949 214.683516 \nL 88.513724 214.53782 \nL 89.334111 214.71994 \nL 90.974885 214.610668 \nL 91.795272 214.683516 \nL 93.436047 214.464972 \nL 94.256434 214.574244 \nL 95.076821 214.464972 \nL 96.717595 213.991461 \nL 98.35837 213.736493 \nL 99.999144 212.206688 \nL 100.819531 212.498079 \nL 101.639918 209.474892 \nL 102.460305 211.077546 \nL 103.280693 206.160314 \nL 104.10108 205.978194 \nL 104.921467 203.35567 \nL 105.741854 199.822548 \nL 106.562241 194.686772 \nL 107.382628 196.362273 \nL 108.203015 193.448358 \nL 109.023403 181.683425 \nL 109.84379 178.113879 \nL 110.664177 171.958233 \nL 111.484564 167.878752 \nL 112.304951 160.921779 \nL 113.125338 165.875435 \nL 113.945726 166.895305 \nL 114.766113 140.524372 \nL 115.5865 141.79921 \nL 116.406887 140.050861 \nL 117.227274 138.885295 \nL 118.047661 139.176686 \nL 118.868049 152.835664 \nL 119.688436 155.276068 \nL 120.508823 129.087255 \nL 121.32921 122.057434 \nL 122.149597 134.842237 \nL 122.969984 137.610457 \nL 123.790372 145.732996 \nL 124.610759 150.540956 \nL 125.431146 148.610487 \nL 126.251533 124.461414 \nL 127.07192 138.812447 \nL 127.892307 148.865455 \nL 128.712694 142.855504 \nL 129.533082 155.421764 \nL 130.353469 170.35558 \nL 131.173856 167.76948 \nL 131.994243 139.067414 \nL 132.81463 117.285898 \nL 133.635017 136.080651 \nL 134.455405 148.865455 \nL 136.096179 169.299285 \nL 136.916566 177.312552 \nL 137.736953 124.060751 \nL 138.55734 144.895245 \nL 139.377728 114.663374 \nL 140.198115 149.776053 \nL 141.018502 161.723106 \nL 141.838889 177.057585 \nL 142.659276 182.302632 \nL 143.479663 159.792637 \nL 144.300051 151.742946 \nL 145.120438 147.262801 \nL 147.581599 182.958263 \nL 148.401986 183.650318 \nL 149.222373 166.786033 \nL 150.042761 163.872118 \nL 150.863148 164.491325 \nL 151.683535 167.76948 \nL 152.503922 176.875465 \nL 153.324309 189.696692 \nL 154.144696 194.504652 \nL 154.965084 190.534443 \nL 155.785471 166.130403 \nL 156.605858 169.772797 \nL 157.426245 171.994657 \nL 159.067019 190.898682 \nL 159.887407 190.024508 \nL 160.707794 179.388717 \nL 161.528181 179.243021 \nL 162.348568 182.594024 \nL 163.168955 184.342373 \nL 163.989342 188.74967 \nL 164.80973 198.474862 \nL 166.450504 182.484752 \nL 167.270891 182.229784 \nL 168.091278 182.120513 \nL 168.911665 186.855625 \nL 169.732052 189.478149 \nL 170.55244 201.825865 \nL 171.372827 200.733146 \nL 172.193214 188.531126 \nL 173.013601 186.34569 \nL 173.833988 189.915236 \nL 174.654375 191.007954 \nL 175.474763 192.35564 \nL 176.29515 204.084149 \nL 177.115537 204.266269 \nL 177.935924 188.38543 \nL 178.756311 189.113909 \nL 179.576698 191.15365 \nL 180.397086 192.246368 \nL 181.217473 196.253002 \nL 182.03786 204.812628 \nL 182.858247 202.517919 \nL 183.678634 193.666902 \nL 184.499021 189.332453 \nL 185.319409 189.296029 \nL 186.139796 192.792727 \nL 186.960183 203.974877 \nL 187.78057 207.14376 \nL 188.600957 206.12389 \nL 189.421344 181.792697 \nL 190.241731 184.925156 \nL 191.062119 183.322503 \nL 191.882506 184.196677 \nL 192.702893 187.256288 \nL 193.52328 197.564264 \nL 194.343667 202.772887 \nL 195.164054 187.766223 \nL 195.984442 183.322503 \nL 196.804829 180.481435 \nL 197.625216 180.554283 \nL 198.445603 182.848991 \nL 199.26599 195.560947 \nL 200.086377 201.060962 \nL 200.906765 176.839041 \nL 201.727152 172.905256 \nL 202.547539 175.782747 \nL 203.367926 171.958233 \nL 204.188313 177.822488 \nL 205.0087 194.322533 \nL 205.829088 175.928443 \nL 206.649475 174.289365 \nL 207.469862 160.01118 \nL 208.290249 169.299285 \nL 209.110636 166.38537 \nL 209.931023 171.011211 \nL 210.75141 196.690089 \nL 211.571798 195.96161 \nL 212.392185 169.554253 \nL 213.212572 165.401924 \nL 214.032959 169.554253 \nL 214.853346 166.56749 \nL 215.673733 175.199964 \nL 216.494121 192.137096 \nL 217.314508 199.094069 \nL 218.134895 166.676762 \nL 218.955282 159.501245 \nL 219.775669 172.39532 \nL 220.596056 170.100612 \nL 221.416444 170.064188 \nL 222.236831 192.282792 \nL 223.057218 199.786124 \nL 223.877605 171.812537 \nL 224.697992 163.362183 \nL 225.518379 173.633734 \nL 226.338767 173.997974 \nL 227.159154 177.057585 \nL 227.979541 193.73975 \nL 228.799928 202.3358 \nL 229.620315 173.233071 \nL 230.440702 167.40524 \nL 231.26109 173.670158 \nL 232.081477 177.603944 \nL 232.901864 177.713216 \nL 233.722251 197.382144 \nL 234.542638 200.915266 \nL 235.363025 177.822488 \nL 236.183412 177.057585 \nL 237.0038 175.709899 \nL 238.644574 181.027794 \nL 239.464961 198.292742 \nL 240.285348 206.488129 \nL 241.105735 202.117256 \nL 241.926123 175.127116 \nL 242.74651 172.468168 \nL 243.566897 177.786064 \nL 244.387284 184.998004 \nL 245.207671 200.478179 \nL 246.028058 199.93182 \nL 246.848446 177.094009 \nL 247.668833 171.411874 \nL 248.48922 182.703296 \nL 249.309607 181.938393 \nL 250.129994 187.54768 \nL 250.950381 202.845735 \nL 251.770769 204.521236 \nL 252.591156 183.468198 \nL 253.411543 172.650288 \nL 254.23193 180.590707 \nL 255.052317 183.905286 \nL 255.872704 182.958263 \nL 256.693091 203.464942 \nL 257.513479 205.796074 \nL 258.333866 188.38543 \nL 259.154253 176.001291 \nL 259.97464 183.358927 \nL 260.795027 184.087405 \nL 261.615414 187.875495 \nL 262.435802 200.915266 \nL 263.256189 202.700039 \nL 264.896963 180.918523 \nL 265.71735 179.097325 \nL 266.537737 181.501306 \nL 268.178512 197.600687 \nL 268.998899 204.37554 \nL 269.819286 188.603974 \nL 270.639673 185.580787 \nL 271.46006 180.954946 \nL 272.280448 182.302632 \nL 273.100835 186.34569 \nL 273.921222 200.004668 \nL 274.741609 198.620558 \nL 275.561996 184.415221 \nL 276.382383 177.312552 \nL 277.20277 174.070822 \nL 278.023158 180.190044 \nL 278.843545 182.120513 \nL 279.663932 200.514603 \nL 280.484319 200.296059 \nL 281.304706 181.17349 \nL 282.125093 176.620498 \nL 282.945481 176.146986 \nL 283.765868 180.262892 \nL 284.586255 179.862228 \nL 285.406642 199.822548 \nL 286.227029 197.454992 \nL 287.047416 159.501245 \nL 287.867804 173.560886 \nL 288.688191 172.723136 \nL 289.508578 171.593994 \nL 290.328965 173.77943 \nL 291.149352 196.070882 \nL 291.969739 193.73975 \nL 292.790127 165.292652 \nL 293.610514 157.315809 \nL 294.430901 174.252941 \nL 295.251288 167.368817 \nL 296.071675 165.474772 \nL 296.892062 188.822518 \nL 297.712449 192.647032 \nL 298.532837 158.189983 \nL 299.353224 146.097235 \nL 300.173611 141.544242 \nL 300.993998 145.186637 \nL 301.814385 158.262831 \nL 302.634772 181.137066 \nL 303.45516 183.686742 \nL 304.275547 138.593903 \nL 305.095934 131.673354 \nL 305.916321 164.054238 \nL 306.736708 163.617151 \nL 307.557095 169.481405 \nL 308.377483 184.706612 \nL 309.19787 176.984737 \nL 310.018257 124.097175 \nL 310.838644 112.368666 \nL 311.659031 111.968002 \nL 312.479418 121.401803 \nL 313.299806 124.206447 \nL 314.120193 172.39532 \nL 314.94058 167.733056 \nL 315.760967 117.140202 \nL 316.581354 99.328895 \nL 317.401741 100.676581 \nL 318.222128 114.699798 \nL 319.042516 123.805783 \nL 319.862903 160.084028 \nL 320.68329 165.329076 \nL 321.503677 108.25276 \nL 322.324064 88.984496 \nL 323.144451 88.547408 \nL 323.964839 110.365349 \nL 324.785226 116.120332 \nL 325.605613 154.00123 \nL 326.426 160.848931 \nL 327.246387 100.494461 \nL 328.066774 91.169932 \nL 328.887162 107.014346 \nL 329.707549 158.189983 \nL 330.527936 162.815824 \nL 331.348323 163.872118 \nL 332.16871 160.484692 \nL 332.989097 94.958022 \nL 333.809485 72.702994 \nL 334.629872 94.66663 \nL 335.450259 120.345509 \nL 336.270646 127.120362 \nL 337.091033 161.75953 \nL 337.91142 158.408527 \nL 338.731807 87.855354 \nL 339.552195 72.630146 \nL 340.372582 66.183109 \nL 341.192969 77.073867 \nL 342.013356 85.924885 \nL 342.833743 139.431654 \nL 343.65413 151.633674 \nL 344.474518 66.729468 \nL 345.294905 65.891717 \nL 346.115292 72.156635 \nL 346.935679 80.752685 \nL 347.756066 79.659967 \nL 348.576453 139.978013 \nL 349.396841 163.944966 \nL 350.217228 136.772706 \nL 351.037615 54.163208 \nL 351.858002 73.504321 \nL 352.678389 69.789079 \nL 353.498776 83.957992 \nL 354.319164 143.948223 \nL 355.139551 156.733026 \nL 355.959938 78.749368 \nL 356.780325 66.255957 \nL 357.600712 68.659937 \nL 359.241486 106.140172 \nL 360.061874 139.759469 \nL 360.882261 157.862168 \nL 361.702648 87.782506 \nL 362.523035 80.534141 \nL 363.343422 24.914784 \nL 364.163809 85.706341 \nL 364.984197 105.703085 \nL 365.804584 161.031051 \nL 366.624971 167.077425 \nL 367.445358 112.951449 \nL 368.265745 89.275887 \nL 369.086132 73.686441 \nL 369.90652 17.083636 \nL 371.547294 165.00126 \nL 372.367681 175.491355 \nL 373.188068 165.474772 \nL 373.188068 165.474772 \n\" style=\"fill:none;stroke:#1f77b4;stroke-linecap:square;stroke-width:1.5;\"/>\n   </g>\n   <g id=\"patch_3\">\n    <path d=\"M 53.60625 224.64 \nL 53.60625 7.2 \n\" style=\"fill:none;stroke:#000000;stroke-linecap:square;stroke-linejoin:miter;stroke-width:0.8;\"/>\n   </g>\n   <g id=\"patch_4\">\n    <path d=\"M 388.40625 224.64 \nL 388.40625 7.2 \n\" style=\"fill:none;stroke:#000000;stroke-linecap:square;stroke-linejoin:miter;stroke-width:0.8;\"/>\n   </g>\n   <g id=\"patch_5\">\n    <path d=\"M 53.60625 224.64 \nL 388.40625 224.64 \n\" style=\"fill:none;stroke:#000000;stroke-linecap:square;stroke-linejoin:miter;stroke-width:0.8;\"/>\n   </g>\n   <g id=\"patch_6\">\n    <path d=\"M 53.60625 7.2 \nL 388.40625 7.2 \n\" style=\"fill:none;stroke:#000000;stroke-linecap:square;stroke-linejoin:miter;stroke-width:0.8;\"/>\n   </g>\n  </g>\n </g>\n <defs>\n  <clipPath id=\"p06d02a445b\">\n   <rect height=\"217.44\" width=\"334.8\" x=\"53.60625\" y=\"7.2\"/>\n  </clipPath>\n </defs>\n</svg>\n",
      "image/png": "[encoded data removed]"
     },
     "metadata": {
      "needs_background": "light"
     }
    }
   ],
   "source": [
    "death_data = death_data.groupby(['date'])['death'].agg('sum').reset_index()\n",
    "difference = death_data[\"death\"].diff()\n",
    "death_data[\"daily_death_count\"] = difference\n",
    "death_data = death_data.dropna()\n",
    "death_data[\"ID\"] = range(1, len(death_data) + 1)\n",
    "sns.lineplot(x=\"ID\", y=\"daily_death_count\", data=death_data) "
   ]
  },
  {
   "cell_type": "code",
   "execution_count": 67,
   "metadata": {},
   "outputs": [
    {
     "output_type": "execute_result",
     "data": {
      "text/plain": [
       "<AxesSubplot:xlabel='date', ylabel='daily_death_count'>"
      ]
     },
     "metadata": {},
     "execution_count": 67
    },
    {
     "output_type": "display_data",
     "data": {
      "text/plain": "<Figure size 432x288 with 1 Axes>",
      "image/svg+xml": "<?xml version=\"1.0\" encoding=\"utf-8\" standalone=\"no\"?>\n<!DOCTYPE svg PUBLIC \"-//W3C//DTD SVG 1.1//EN\"\n  \"http://www.w3.org/Graphics/SVG/1.1/DTD/svg11.dtd\">\n<!-- Created with matplotlib (https://matplotlib.org/) -->\n<svg height=\"262.19625pt\" version=\"1.1\" viewBox=\"0 0 400.295505 262.19625\" width=\"400.295505pt\" xmlns=\"http://www.w3.org/2000/svg\" xmlns:xlink=\"http://www.w3.org/1999/xlink\">\n <metadata>\n  <rdf:RDF xmlns:cc=\"http://creativecommons.org/ns#\" xmlns:dc=\"http://purl.org/dc/elements/1.1/\" xmlns:rdf=\"http://www.w3.org/1999/02/22-rdf-syntax-ns#\">\n   <cc:Work>\n    <dc:type rdf:resource=\"http://purl.org/dc/dcmitype/StillImage\"/>\n    <dc:date>2021-02-17T13:15:36.138936</dc:date>\n    <dc:format>image/svg+xml</dc:format>\n    <dc:creator>\n     <cc:Agent>\n      <dc:title>Matplotlib v3.3.4, https://matplotlib.org/</dc:title>\n     </cc:Agent>\n    </dc:creator>\n   </cc:Work>\n  </rdf:RDF>\n </metadata>\n <defs>\n  <style type=\"text/css\">*{stroke-linecap:butt;stroke-linejoin:round;}</style>\n </defs>\n <g id=\"figure_1\">\n  <g id=\"patch_1\">\n   <path d=\"M 0 262.19625 \nL 400.295505 262.19625 \nL 400.295505 0 \nL 0 0 \nz\n\" style=\"fill:none;\"/>\n  </g>\n  <g id=\"axes_1\">\n   <g id=\"patch_2\">\n    <path d=\"M 40.88125 224.64 \nL 375.68125 224.64 \nL 375.68125 7.2 \nL 40.88125 7.2 \nz\n\" style=\"fill:#ffffff;\"/>\n   </g>\n   <g id=\"matplotlib.axis_1\">\n    <g id=\"xtick_1\">\n     <g id=\"line2d_1\">\n      <defs>\n       <path d=\"M 0 0 \nL 0 3.5 \n\" id=\"mcfff1edcb2\" style=\"stroke:#000000;stroke-width:0.8;\"/>\n      </defs>\n      <g>\n       <use style=\"stroke:#000000;stroke-width:0.8;\" x=\"42.552089\" xlink:href=\"#mcfff1edcb2\" y=\"224.64\"/>\n      </g>\n     </g>\n     <g id=\"text_1\">\n      <!-- 2020-03 -->\n      <g transform=\"translate(21.660683 239.238437)scale(0.1 -0.1)\">\n       <defs>\n        <path d=\"M 19.1875 8.296875 \nL 53.609375 8.296875 \nL 53.609375 0 \nL 7.328125 0 \nL 7.328125 8.296875 \nQ 12.9375 14.109375 22.625 23.890625 \nQ 32.328125 33.6875 34.8125 36.53125 \nQ 39.546875 41.84375 41.421875 45.53125 \nQ 43.3125 49.21875 43.3125 52.78125 \nQ 43.3125 58.59375 39.234375 62.25 \nQ 35.15625 65.921875 28.609375 65.921875 \nQ 23.96875 65.921875 18.8125 64.3125 \nQ 13.671875 62.703125 7.8125 59.421875 \nL 7.8125 69.390625 \nQ 13.765625 71.78125 18.9375 73 \nQ 24.125 74.21875 28.421875 74.21875 \nQ 39.75 74.21875 46.484375 68.546875 \nQ 53.21875 62.890625 53.21875 53.421875 \nQ 53.21875 48.921875 51.53125 44.890625 \nQ 49.859375 40.875 45.40625 35.40625 \nQ 44.1875 33.984375 37.640625 27.21875 \nQ 31.109375 20.453125 19.1875 8.296875 \nz\n\" id=\"DejaVuSans-50\"/>\n        <path d=\"M 31.78125 66.40625 \nQ 24.171875 66.40625 20.328125 58.90625 \nQ 16.5 51.421875 16.5 36.375 \nQ 16.5 21.390625 20.328125 13.890625 \nQ 24.171875 6.390625 31.78125 6.390625 \nQ 39.453125 6.390625 43.28125 13.890625 \nQ 47.125 21.390625 47.125 36.375 \nQ 47.125 51.421875 43.28125 58.90625 \nQ 39.453125 66.40625 31.78125 66.40625 \nz\nM 31.78125 74.21875 \nQ 44.046875 74.21875 50.515625 64.515625 \nQ 56.984375 54.828125 56.984375 36.375 \nQ 56.984375 17.96875 50.515625 8.265625 \nQ 44.046875 -1.421875 31.78125 -1.421875 \nQ 19.53125 -1.421875 13.0625 8.265625 \nQ 6.59375 17.96875 6.59375 36.375 \nQ 6.59375 54.828125 13.0625 64.515625 \nQ 19.53125 74.21875 31.78125 74.21875 \nz\n\" id=\"DejaVuSans-48\"/>\n        <path d=\"M 4.890625 31.390625 \nL 31.203125 31.390625 \nL 31.203125 23.390625 \nL 4.890625 23.390625 \nz\n\" id=\"DejaVuSans-45\"/>\n        <path d=\"M 40.578125 39.3125 \nQ 47.65625 37.796875 51.625 33 \nQ 55.609375 28.21875 55.609375 21.1875 \nQ 55.609375 10.40625 48.1875 4.484375 \nQ 40.765625 -1.421875 27.09375 -1.421875 \nQ 22.515625 -1.421875 17.65625 -0.515625 \nQ 12.796875 0.390625 7.625 2.203125 \nL 7.625 11.71875 \nQ 11.71875 9.328125 16.59375 8.109375 \nQ 21.484375 6.890625 26.8125 6.890625 \nQ 36.078125 6.890625 40.9375 10.546875 \nQ 45.796875 14.203125 45.796875 21.1875 \nQ 45.796875 27.640625 41.28125 31.265625 \nQ 36.765625 34.90625 28.71875 34.90625 \nL 20.21875 34.90625 \nL 20.21875 43.015625 \nL 29.109375 43.015625 \nQ 36.375 43.015625 40.234375 45.921875 \nQ 44.09375 48.828125 44.09375 54.296875 \nQ 44.09375 59.90625 40.109375 62.90625 \nQ 36.140625 65.921875 28.71875 65.921875 \nQ 24.65625 65.921875 20.015625 65.03125 \nQ 15.375 64.15625 9.8125 62.3125 \nL 9.8125 71.09375 \nQ 15.4375 72.65625 20.34375 73.4375 \nQ 25.25 74.21875 29.59375 74.21875 \nQ 40.828125 74.21875 47.359375 69.109375 \nQ 53.90625 64.015625 53.90625 55.328125 \nQ 53.90625 49.265625 50.4375 45.09375 \nQ 46.96875 40.921875 40.578125 39.3125 \nz\n\" id=\"DejaVuSans-51\"/>\n       </defs>\n       <use xlink:href=\"#DejaVuSans-50\"/>\n       <use x=\"63.623047\" xlink:href=\"#DejaVuSans-48\"/>\n       <use x=\"127.246094\" xlink:href=\"#DejaVuSans-50\"/>\n       <use x=\"190.869141\" xlink:href=\"#DejaVuSans-48\"/>\n       <use x=\"254.492188\" xlink:href=\"#DejaVuSans-45\"/>\n       <use x=\"290.576172\" xlink:href=\"#DejaVuSans-48\"/>\n       <use x=\"354.199219\" xlink:href=\"#DejaVuSans-51\"/>\n      </g>\n     </g>\n    </g>\n    <g id=\"xtick_2\">\n     <g id=\"line2d_2\">\n      <g>\n       <use style=\"stroke:#000000;stroke-width:0.8;\" x=\"97.644617\" xlink:href=\"#mcfff1edcb2\" y=\"224.64\"/>\n      </g>\n     </g>\n     <g id=\"text_2\">\n      <!-- 2020-05 -->\n      <g transform=\"translate(76.75321 239.238437)scale(0.1 -0.1)\">\n       <defs>\n        <path d=\"M 10.796875 72.90625 \nL 49.515625 72.90625 \nL 49.515625 64.59375 \nL 19.828125 64.59375 \nL 19.828125 46.734375 \nQ 21.96875 47.46875 24.109375 47.828125 \nQ 26.265625 48.1875 28.421875 48.1875 \nQ 40.625 48.1875 47.75 41.5 \nQ 54.890625 34.8125 54.890625 23.390625 \nQ 54.890625 11.625 47.5625 5.09375 \nQ 40.234375 -1.421875 26.90625 -1.421875 \nQ 22.3125 -1.421875 17.546875 -0.640625 \nQ 12.796875 0.140625 7.71875 1.703125 \nL 7.71875 11.625 \nQ 12.109375 9.234375 16.796875 8.0625 \nQ 21.484375 6.890625 26.703125 6.890625 \nQ 35.15625 6.890625 40.078125 11.328125 \nQ 45.015625 15.765625 45.015625 23.390625 \nQ 45.015625 31 40.078125 35.4375 \nQ 35.15625 39.890625 26.703125 39.890625 \nQ 22.75 39.890625 18.8125 39.015625 \nQ 14.890625 38.140625 10.796875 36.28125 \nz\n\" id=\"DejaVuSans-53\"/>\n       </defs>\n       <use xlink:href=\"#DejaVuSans-50\"/>\n       <use x=\"63.623047\" xlink:href=\"#DejaVuSans-48\"/>\n       <use x=\"127.246094\" xlink:href=\"#DejaVuSans-50\"/>\n       <use x=\"190.869141\" xlink:href=\"#DejaVuSans-48\"/>\n       <use x=\"254.492188\" xlink:href=\"#DejaVuSans-45\"/>\n       <use x=\"290.576172\" xlink:href=\"#DejaVuSans-48\"/>\n       <use x=\"354.199219\" xlink:href=\"#DejaVuSans-53\"/>\n      </g>\n     </g>\n    </g>\n    <g id=\"xtick_3\">\n     <g id=\"line2d_3\">\n      <g>\n       <use style=\"stroke:#000000;stroke-width:0.8;\" x=\"152.737144\" xlink:href=\"#mcfff1edcb2\" y=\"224.64\"/>\n      </g>\n     </g>\n     <g id=\"text_3\">\n      <!-- 2020-07 -->\n      <g transform=\"translate(131.845738 239.238437)scale(0.1 -0.1)\">\n       <defs>\n        <path d=\"M 8.203125 72.90625 \nL 55.078125 72.90625 \nL 55.078125 68.703125 \nL 28.609375 0 \nL 18.3125 0 \nL 43.21875 64.59375 \nL 8.203125 64.59375 \nz\n\" id=\"DejaVuSans-55\"/>\n       </defs>\n       <use xlink:href=\"#DejaVuSans-50\"/>\n       <use x=\"63.623047\" xlink:href=\"#DejaVuSans-48\"/>\n       <use x=\"127.246094\" xlink:href=\"#DejaVuSans-50\"/>\n       <use x=\"190.869141\" xlink:href=\"#DejaVuSans-48\"/>\n       <use x=\"254.492188\" xlink:href=\"#DejaVuSans-45\"/>\n       <use x=\"290.576172\" xlink:href=\"#DejaVuSans-48\"/>\n       <use x=\"354.199219\" xlink:href=\"#DejaVuSans-55\"/>\n      </g>\n     </g>\n    </g>\n    <g id=\"xtick_4\">\n     <g id=\"line2d_4\">\n      <g>\n       <use style=\"stroke:#000000;stroke-width:0.8;\" x=\"208.732828\" xlink:href=\"#mcfff1edcb2\" y=\"224.64\"/>\n      </g>\n     </g>\n     <g id=\"text_4\">\n      <!-- 2020-09 -->\n      <g transform=\"translate(187.841422 239.238437)scale(0.1 -0.1)\">\n       <defs>\n        <path d=\"M 10.984375 1.515625 \nL 10.984375 10.5 \nQ 14.703125 8.734375 18.5 7.8125 \nQ 22.3125 6.890625 25.984375 6.890625 \nQ 35.75 6.890625 40.890625 13.453125 \nQ 46.046875 20.015625 46.78125 33.40625 \nQ 43.953125 29.203125 39.59375 26.953125 \nQ 35.25 24.703125 29.984375 24.703125 \nQ 19.046875 24.703125 12.671875 31.3125 \nQ 6.296875 37.9375 6.296875 49.421875 \nQ 6.296875 60.640625 12.9375 67.421875 \nQ 19.578125 74.21875 30.609375 74.21875 \nQ 43.265625 74.21875 49.921875 64.515625 \nQ 56.59375 54.828125 56.59375 36.375 \nQ 56.59375 19.140625 48.40625 8.859375 \nQ 40.234375 -1.421875 26.421875 -1.421875 \nQ 22.703125 -1.421875 18.890625 -0.6875 \nQ 15.09375 0.046875 10.984375 1.515625 \nz\nM 30.609375 32.421875 \nQ 37.25 32.421875 41.125 36.953125 \nQ 45.015625 41.5 45.015625 49.421875 \nQ 45.015625 57.28125 41.125 61.84375 \nQ 37.25 66.40625 30.609375 66.40625 \nQ 23.96875 66.40625 20.09375 61.84375 \nQ 16.21875 57.28125 16.21875 49.421875 \nQ 16.21875 41.5 20.09375 36.953125 \nQ 23.96875 32.421875 30.609375 32.421875 \nz\n\" id=\"DejaVuSans-57\"/>\n       </defs>\n       <use xlink:href=\"#DejaVuSans-50\"/>\n       <use x=\"63.623047\" xlink:href=\"#DejaVuSans-48\"/>\n       <use x=\"127.246094\" xlink:href=\"#DejaVuSans-50\"/>\n       <use x=\"190.869141\" xlink:href=\"#DejaVuSans-48\"/>\n       <use x=\"254.492188\" xlink:href=\"#DejaVuSans-45\"/>\n       <use x=\"290.576172\" xlink:href=\"#DejaVuSans-48\"/>\n       <use x=\"354.199219\" xlink:href=\"#DejaVuSans-57\"/>\n      </g>\n     </g>\n    </g>\n    <g id=\"xtick_5\">\n     <g id=\"line2d_5\">\n      <g>\n       <use style=\"stroke:#000000;stroke-width:0.8;\" x=\"263.825356\" xlink:href=\"#mcfff1edcb2\" y=\"224.64\"/>\n      </g>\n     </g>\n     <g id=\"text_5\">\n      <!-- 2020-11 -->\n      <g transform=\"translate(242.933949 239.238437)scale(0.1 -0.1)\">\n       <defs>\n        <path d=\"M 12.40625 8.296875 \nL 28.515625 8.296875 \nL 28.515625 63.921875 \nL 10.984375 60.40625 \nL 10.984375 69.390625 \nL 28.421875 72.90625 \nL 38.28125 72.90625 \nL 38.28125 8.296875 \nL 54.390625 8.296875 \nL 54.390625 0 \nL 12.40625 0 \nz\n\" id=\"DejaVuSans-49\"/>\n       </defs>\n       <use xlink:href=\"#DejaVuSans-50\"/>\n       <use x=\"63.623047\" xlink:href=\"#DejaVuSans-48\"/>\n       <use x=\"127.246094\" xlink:href=\"#DejaVuSans-50\"/>\n       <use x=\"190.869141\" xlink:href=\"#DejaVuSans-48\"/>\n       <use x=\"254.492188\" xlink:href=\"#DejaVuSans-45\"/>\n       <use x=\"290.576172\" xlink:href=\"#DejaVuSans-49\"/>\n       <use x=\"354.199219\" xlink:href=\"#DejaVuSans-49\"/>\n      </g>\n     </g>\n    </g>\n    <g id=\"xtick_6\">\n     <g id=\"line2d_6\">\n      <g>\n       <use style=\"stroke:#000000;stroke-width:0.8;\" x=\"318.917883\" xlink:href=\"#mcfff1edcb2\" y=\"224.64\"/>\n      </g>\n     </g>\n     <g id=\"text_6\">\n      <!-- 2021-01 -->\n      <g transform=\"translate(298.026477 239.238437)scale(0.1 -0.1)\">\n       <use xlink:href=\"#DejaVuSans-50\"/>\n       <use x=\"63.623047\" xlink:href=\"#DejaVuSans-48\"/>\n       <use x=\"127.246094\" xlink:href=\"#DejaVuSans-50\"/>\n       <use x=\"190.869141\" xlink:href=\"#DejaVuSans-49\"/>\n       <use x=\"254.492188\" xlink:href=\"#DejaVuSans-45\"/>\n       <use x=\"290.576172\" xlink:href=\"#DejaVuSans-48\"/>\n       <use x=\"354.199219\" xlink:href=\"#DejaVuSans-49\"/>\n      </g>\n     </g>\n    </g>\n    <g id=\"xtick_7\">\n     <g id=\"line2d_7\">\n      <g>\n       <use style=\"stroke:#000000;stroke-width:0.8;\" x=\"372.204099\" xlink:href=\"#mcfff1edcb2\" y=\"224.64\"/>\n      </g>\n     </g>\n     <g id=\"text_7\">\n      <!-- 2021-03 -->\n      <g transform=\"translate(351.312692 239.238437)scale(0.1 -0.1)\">\n       <use xlink:href=\"#DejaVuSans-50\"/>\n       <use x=\"63.623047\" xlink:href=\"#DejaVuSans-48\"/>\n       <use x=\"127.246094\" xlink:href=\"#DejaVuSans-50\"/>\n       <use x=\"190.869141\" xlink:href=\"#DejaVuSans-49\"/>\n       <use x=\"254.492188\" xlink:href=\"#DejaVuSans-45\"/>\n       <use x=\"290.576172\" xlink:href=\"#DejaVuSans-48\"/>\n       <use x=\"354.199219\" xlink:href=\"#DejaVuSans-51\"/>\n      </g>\n     </g>\n    </g>\n    <g id=\"text_8\">\n     <!-- date -->\n     <g transform=\"translate(197.00625 252.916562)scale(0.1 -0.1)\">\n      <defs>\n       <path d=\"M 45.40625 46.390625 \nL 45.40625 75.984375 \nL 54.390625 75.984375 \nL 54.390625 0 \nL 45.40625 0 \nL 45.40625 8.203125 \nQ 42.578125 3.328125 38.25 0.953125 \nQ 33.9375 -1.421875 27.875 -1.421875 \nQ 17.96875 -1.421875 11.734375 6.484375 \nQ 5.515625 14.40625 5.515625 27.296875 \nQ 5.515625 40.1875 11.734375 48.09375 \nQ 17.96875 56 27.875 56 \nQ 33.9375 56 38.25 53.625 \nQ 42.578125 51.265625 45.40625 46.390625 \nz\nM 14.796875 27.296875 \nQ 14.796875 17.390625 18.875 11.75 \nQ 22.953125 6.109375 30.078125 6.109375 \nQ 37.203125 6.109375 41.296875 11.75 \nQ 45.40625 17.390625 45.40625 27.296875 \nQ 45.40625 37.203125 41.296875 42.84375 \nQ 37.203125 48.484375 30.078125 48.484375 \nQ 22.953125 48.484375 18.875 42.84375 \nQ 14.796875 37.203125 14.796875 27.296875 \nz\n\" id=\"DejaVuSans-100\"/>\n       <path d=\"M 34.28125 27.484375 \nQ 23.390625 27.484375 19.1875 25 \nQ 14.984375 22.515625 14.984375 16.5 \nQ 14.984375 11.71875 18.140625 8.90625 \nQ 21.296875 6.109375 26.703125 6.109375 \nQ 34.1875 6.109375 38.703125 11.40625 \nQ 43.21875 16.703125 43.21875 25.484375 \nL 43.21875 27.484375 \nz\nM 52.203125 31.203125 \nL 52.203125 0 \nL 43.21875 0 \nL 43.21875 8.296875 \nQ 40.140625 3.328125 35.546875 0.953125 \nQ 30.953125 -1.421875 24.3125 -1.421875 \nQ 15.921875 -1.421875 10.953125 3.296875 \nQ 6 8.015625 6 15.921875 \nQ 6 25.140625 12.171875 29.828125 \nQ 18.359375 34.515625 30.609375 34.515625 \nL 43.21875 34.515625 \nL 43.21875 35.40625 \nQ 43.21875 41.609375 39.140625 45 \nQ 35.0625 48.390625 27.6875 48.390625 \nQ 23 48.390625 18.546875 47.265625 \nQ 14.109375 46.140625 10.015625 43.890625 \nL 10.015625 52.203125 \nQ 14.9375 54.109375 19.578125 55.046875 \nQ 24.21875 56 28.609375 56 \nQ 40.484375 56 46.34375 49.84375 \nQ 52.203125 43.703125 52.203125 31.203125 \nz\n\" id=\"DejaVuSans-97\"/>\n       <path d=\"M 18.3125 70.21875 \nL 18.3125 54.6875 \nL 36.8125 54.6875 \nL 36.8125 47.703125 \nL 18.3125 47.703125 \nL 18.3125 18.015625 \nQ 18.3125 11.328125 20.140625 9.421875 \nQ 21.96875 7.515625 27.59375 7.515625 \nL 36.8125 7.515625 \nL 36.8125 0 \nL 27.59375 0 \nQ 17.1875 0 13.234375 3.875 \nQ 9.28125 7.765625 9.28125 18.015625 \nL 9.28125 47.703125 \nL 2.6875 47.703125 \nL 2.6875 54.6875 \nL 9.28125 54.6875 \nL 9.28125 70.21875 \nz\n\" id=\"DejaVuSans-116\"/>\n       <path d=\"M 56.203125 29.59375 \nL 56.203125 25.203125 \nL 14.890625 25.203125 \nQ 15.484375 15.921875 20.484375 11.0625 \nQ 25.484375 6.203125 34.421875 6.203125 \nQ 39.59375 6.203125 44.453125 7.46875 \nQ 49.3125 8.734375 54.109375 11.28125 \nL 54.109375 2.78125 \nQ 49.265625 0.734375 44.1875 -0.34375 \nQ 39.109375 -1.421875 33.890625 -1.421875 \nQ 20.796875 -1.421875 13.15625 6.1875 \nQ 5.515625 13.8125 5.515625 26.8125 \nQ 5.515625 40.234375 12.765625 48.109375 \nQ 20.015625 56 32.328125 56 \nQ 43.359375 56 49.78125 48.890625 \nQ 56.203125 41.796875 56.203125 29.59375 \nz\nM 47.21875 32.234375 \nQ 47.125 39.59375 43.09375 43.984375 \nQ 39.0625 48.390625 32.421875 48.390625 \nQ 24.90625 48.390625 20.390625 44.140625 \nQ 15.875 39.890625 15.1875 32.171875 \nz\n\" id=\"DejaVuSans-101\"/>\n      </defs>\n      <use xlink:href=\"#DejaVuSans-100\"/>\n      <use x=\"63.476562\" xlink:href=\"#DejaVuSans-97\"/>\n      <use x=\"124.755859\" xlink:href=\"#DejaVuSans-116\"/>\n      <use x=\"163.964844\" xlink:href=\"#DejaVuSans-101\"/>\n     </g>\n    </g>\n   </g>\n   <g id=\"matplotlib.axis_2\">\n    <g id=\"ytick_1\">\n     <g id=\"line2d_8\">\n      <defs>\n       <path d=\"M 0 0 \nL -3.5 0 \n\" id=\"m7e0ab36883\" style=\"stroke:#000000;stroke-width:0.8;\"/>\n      </defs>\n      <g>\n       <use style=\"stroke:#000000;stroke-width:0.8;\" x=\"40.88125\" xlink:href=\"#m7e0ab36883\" y=\"214.756364\"/>\n      </g>\n     </g>\n     <g id=\"text_9\">\n      <!-- 0 -->\n      <g transform=\"translate(27.51875 218.555582)scale(0.1 -0.1)\">\n       <use xlink:href=\"#DejaVuSans-48\"/>\n      </g>\n     </g>\n    </g>\n    <g id=\"ytick_2\">\n     <g id=\"line2d_9\">\n      <g>\n       <use style=\"stroke:#000000;stroke-width:0.8;\" x=\"40.88125\" xlink:href=\"#m7e0ab36883\" y=\"186.517403\"/>\n      </g>\n     </g>\n     <g id=\"text_10\">\n      <!-- 5 -->\n      <g transform=\"translate(27.51875 190.316621)scale(0.1 -0.1)\">\n       <use xlink:href=\"#DejaVuSans-53\"/>\n      </g>\n     </g>\n    </g>\n    <g id=\"ytick_3\">\n     <g id=\"line2d_10\">\n      <g>\n       <use style=\"stroke:#000000;stroke-width:0.8;\" x=\"40.88125\" xlink:href=\"#m7e0ab36883\" y=\"158.278442\"/>\n      </g>\n     </g>\n     <g id=\"text_11\">\n      <!-- 10 -->\n      <g transform=\"translate(21.15625 162.07766)scale(0.1 -0.1)\">\n       <use xlink:href=\"#DejaVuSans-49\"/>\n       <use x=\"63.623047\" xlink:href=\"#DejaVuSans-48\"/>\n      </g>\n     </g>\n    </g>\n    <g id=\"ytick_4\">\n     <g id=\"line2d_11\">\n      <g>\n       <use style=\"stroke:#000000;stroke-width:0.8;\" x=\"40.88125\" xlink:href=\"#m7e0ab36883\" y=\"130.039481\"/>\n      </g>\n     </g>\n     <g id=\"text_12\">\n      <!-- 15 -->\n      <g transform=\"translate(21.15625 133.838699)scale(0.1 -0.1)\">\n       <use xlink:href=\"#DejaVuSans-49\"/>\n       <use x=\"63.623047\" xlink:href=\"#DejaVuSans-53\"/>\n      </g>\n     </g>\n    </g>\n    <g id=\"ytick_5\">\n     <g id=\"line2d_12\">\n      <g>\n       <use style=\"stroke:#000000;stroke-width:0.8;\" x=\"40.88125\" xlink:href=\"#m7e0ab36883\" y=\"101.800519\"/>\n      </g>\n     </g>\n     <g id=\"text_13\">\n      <!-- 20 -->\n      <g transform=\"translate(21.15625 105.599738)scale(0.1 -0.1)\">\n       <use xlink:href=\"#DejaVuSans-50\"/>\n       <use x=\"63.623047\" xlink:href=\"#DejaVuSans-48\"/>\n      </g>\n     </g>\n    </g>\n    <g id=\"ytick_6\">\n     <g id=\"line2d_13\">\n      <g>\n       <use style=\"stroke:#000000;stroke-width:0.8;\" x=\"40.88125\" xlink:href=\"#m7e0ab36883\" y=\"73.561558\"/>\n      </g>\n     </g>\n     <g id=\"text_14\">\n      <!-- 25 -->\n      <g transform=\"translate(21.15625 77.360777)scale(0.1 -0.1)\">\n       <use xlink:href=\"#DejaVuSans-50\"/>\n       <use x=\"63.623047\" xlink:href=\"#DejaVuSans-53\"/>\n      </g>\n     </g>\n    </g>\n    <g id=\"ytick_7\">\n     <g id=\"line2d_14\">\n      <g>\n       <use style=\"stroke:#000000;stroke-width:0.8;\" x=\"40.88125\" xlink:href=\"#m7e0ab36883\" y=\"45.322597\"/>\n      </g>\n     </g>\n     <g id=\"text_15\">\n      <!-- 30 -->\n      <g transform=\"translate(21.15625 49.121816)scale(0.1 -0.1)\">\n       <use xlink:href=\"#DejaVuSans-51\"/>\n       <use x=\"63.623047\" xlink:href=\"#DejaVuSans-48\"/>\n      </g>\n     </g>\n    </g>\n    <g id=\"ytick_8\">\n     <g id=\"line2d_15\">\n      <g>\n       <use style=\"stroke:#000000;stroke-width:0.8;\" x=\"40.88125\" xlink:href=\"#m7e0ab36883\" y=\"17.083636\"/>\n      </g>\n     </g>\n     <g id=\"text_16\">\n      <!-- 35 -->\n      <g transform=\"translate(21.15625 20.882855)scale(0.1 -0.1)\">\n       <use xlink:href=\"#DejaVuSans-51\"/>\n       <use x=\"63.623047\" xlink:href=\"#DejaVuSans-53\"/>\n      </g>\n     </g>\n    </g>\n    <g id=\"text_17\">\n     <!-- daily_death_count -->\n     <g transform=\"translate(14.798438 161.445781)rotate(-90)scale(0.1 -0.1)\">\n      <defs>\n       <path d=\"M 9.421875 54.6875 \nL 18.40625 54.6875 \nL 18.40625 0 \nL 9.421875 0 \nz\nM 9.421875 75.984375 \nL 18.40625 75.984375 \nL 18.40625 64.59375 \nL 9.421875 64.59375 \nz\n\" id=\"DejaVuSans-105\"/>\n       <path d=\"M 9.421875 75.984375 \nL 18.40625 75.984375 \nL 18.40625 0 \nL 9.421875 0 \nz\n\" id=\"DejaVuSans-108\"/>\n       <path d=\"M 32.171875 -5.078125 \nQ 28.375 -14.84375 24.75 -17.8125 \nQ 21.140625 -20.796875 15.09375 -20.796875 \nL 7.90625 -20.796875 \nL 7.90625 -13.28125 \nL 13.1875 -13.28125 \nQ 16.890625 -13.28125 18.9375 -11.515625 \nQ 21 -9.765625 23.484375 -3.21875 \nL 25.09375 0.875 \nL 2.984375 54.6875 \nL 12.5 54.6875 \nL 29.59375 11.921875 \nL 46.6875 54.6875 \nL 56.203125 54.6875 \nz\n\" id=\"DejaVuSans-121\"/>\n       <path d=\"M 50.984375 -16.609375 \nL 50.984375 -23.578125 \nL -0.984375 -23.578125 \nL -0.984375 -16.609375 \nz\n\" id=\"DejaVuSans-95\"/>\n       <path d=\"M 54.890625 33.015625 \nL 54.890625 0 \nL 45.90625 0 \nL 45.90625 32.71875 \nQ 45.90625 40.484375 42.875 44.328125 \nQ 39.84375 48.1875 33.796875 48.1875 \nQ 26.515625 48.1875 22.3125 43.546875 \nQ 18.109375 38.921875 18.109375 30.90625 \nL 18.109375 0 \nL 9.078125 0 \nL 9.078125 75.984375 \nL 18.109375 75.984375 \nL 18.109375 46.1875 \nQ 21.34375 51.125 25.703125 53.5625 \nQ 30.078125 56 35.796875 56 \nQ 45.21875 56 50.046875 50.171875 \nQ 54.890625 44.34375 54.890625 33.015625 \nz\n\" id=\"DejaVuSans-104\"/>\n       <path d=\"M 48.78125 52.59375 \nL 48.78125 44.1875 \nQ 44.96875 46.296875 41.140625 47.34375 \nQ 37.3125 48.390625 33.40625 48.390625 \nQ 24.65625 48.390625 19.8125 42.84375 \nQ 14.984375 37.3125 14.984375 27.296875 \nQ 14.984375 17.28125 19.8125 11.734375 \nQ 24.65625 6.203125 33.40625 6.203125 \nQ 37.3125 6.203125 41.140625 7.25 \nQ 44.96875 8.296875 48.78125 10.40625 \nL 48.78125 2.09375 \nQ 45.015625 0.34375 40.984375 -0.53125 \nQ 36.96875 -1.421875 32.421875 -1.421875 \nQ 20.0625 -1.421875 12.78125 6.34375 \nQ 5.515625 14.109375 5.515625 27.296875 \nQ 5.515625 40.671875 12.859375 48.328125 \nQ 20.21875 56 33.015625 56 \nQ 37.15625 56 41.109375 55.140625 \nQ 45.0625 54.296875 48.78125 52.59375 \nz\n\" id=\"DejaVuSans-99\"/>\n       <path d=\"M 30.609375 48.390625 \nQ 23.390625 48.390625 19.1875 42.75 \nQ 14.984375 37.109375 14.984375 27.296875 \nQ 14.984375 17.484375 19.15625 11.84375 \nQ 23.34375 6.203125 30.609375 6.203125 \nQ 37.796875 6.203125 41.984375 11.859375 \nQ 46.1875 17.53125 46.1875 27.296875 \nQ 46.1875 37.015625 41.984375 42.703125 \nQ 37.796875 48.390625 30.609375 48.390625 \nz\nM 30.609375 56 \nQ 42.328125 56 49.015625 48.375 \nQ 55.71875 40.765625 55.71875 27.296875 \nQ 55.71875 13.875 49.015625 6.21875 \nQ 42.328125 -1.421875 30.609375 -1.421875 \nQ 18.84375 -1.421875 12.171875 6.21875 \nQ 5.515625 13.875 5.515625 27.296875 \nQ 5.515625 40.765625 12.171875 48.375 \nQ 18.84375 56 30.609375 56 \nz\n\" id=\"DejaVuSans-111\"/>\n       <path d=\"M 8.5 21.578125 \nL 8.5 54.6875 \nL 17.484375 54.6875 \nL 17.484375 21.921875 \nQ 17.484375 14.15625 20.5 10.265625 \nQ 23.53125 6.390625 29.59375 6.390625 \nQ 36.859375 6.390625 41.078125 11.03125 \nQ 45.3125 15.671875 45.3125 23.6875 \nL 45.3125 54.6875 \nL 54.296875 54.6875 \nL 54.296875 0 \nL 45.3125 0 \nL 45.3125 8.40625 \nQ 42.046875 3.421875 37.71875 1 \nQ 33.40625 -1.421875 27.6875 -1.421875 \nQ 18.265625 -1.421875 13.375 4.4375 \nQ 8.5 10.296875 8.5 21.578125 \nz\nM 31.109375 56 \nz\n\" id=\"DejaVuSans-117\"/>\n       <path d=\"M 54.890625 33.015625 \nL 54.890625 0 \nL 45.90625 0 \nL 45.90625 32.71875 \nQ 45.90625 40.484375 42.875 44.328125 \nQ 39.84375 48.1875 33.796875 48.1875 \nQ 26.515625 48.1875 22.3125 43.546875 \nQ 18.109375 38.921875 18.109375 30.90625 \nL 18.109375 0 \nL 9.078125 0 \nL 9.078125 54.6875 \nL 18.109375 54.6875 \nL 18.109375 46.1875 \nQ 21.34375 51.125 25.703125 53.5625 \nQ 30.078125 56 35.796875 56 \nQ 45.21875 56 50.046875 50.171875 \nQ 54.890625 44.34375 54.890625 33.015625 \nz\n\" id=\"DejaVuSans-110\"/>\n      </defs>\n      <use xlink:href=\"#DejaVuSans-100\"/>\n      <use x=\"63.476562\" xlink:href=\"#DejaVuSans-97\"/>\n      <use x=\"124.755859\" xlink:href=\"#DejaVuSans-105\"/>\n      <use x=\"152.539062\" xlink:href=\"#DejaVuSans-108\"/>\n      <use x=\"180.322266\" xlink:href=\"#DejaVuSans-121\"/>\n      <use x=\"239.501953\" xlink:href=\"#DejaVuSans-95\"/>\n      <use x=\"289.501953\" xlink:href=\"#DejaVuSans-100\"/>\n      <use x=\"352.978516\" xlink:href=\"#DejaVuSans-101\"/>\n      <use x=\"414.501953\" xlink:href=\"#DejaVuSans-97\"/>\n      <use x=\"475.78125\" xlink:href=\"#DejaVuSans-116\"/>\n      <use x=\"514.990234\" xlink:href=\"#DejaVuSans-104\"/>\n      <use x=\"578.369141\" xlink:href=\"#DejaVuSans-95\"/>\n      <use x=\"628.369141\" xlink:href=\"#DejaVuSans-99\"/>\n      <use x=\"683.349609\" xlink:href=\"#DejaVuSans-111\"/>\n      <use x=\"744.53125\" xlink:href=\"#DejaVuSans-117\"/>\n      <use x=\"807.910156\" xlink:href=\"#DejaVuSans-110\"/>\n      <use x=\"871.289062\" xlink:href=\"#DejaVuSans-116\"/>\n     </g>\n    </g>\n   </g>\n   <g id=\"line2d_16\">\n    <path clip-path=\"url(#p5925a082a2)\" d=\"M 56.099432 214.756364 \nL 60.615213 214.756364 \nL 61.518369 209.108571 \nL 62.421525 214.756364 \nL 65.130994 214.756364 \nL 66.03415 209.108571 \nL 66.937306 214.756364 \nL 67.840462 214.756364 \nL 68.743618 203.460779 \nL 69.646775 209.108571 \nL 70.549931 203.460779 \nL 71.453087 214.756364 \nL 72.356243 214.756364 \nL 73.259399 209.108571 \nL 74.162556 214.756364 \nL 75.065712 186.517403 \nL 75.968868 214.756364 \nL 77.77518 214.756364 \nL 78.678337 192.165195 \nL 79.581493 209.108571 \nL 80.484649 214.756364 \nL 81.387805 214.756364 \nL 82.290961 209.108571 \nL 84.097274 209.108571 \nL 85.00043 203.460779 \nL 86.806742 203.460779 \nL 87.709899 209.108571 \nL 88.613055 192.165195 \nL 89.516211 203.460779 \nL 90.419367 209.108571 \nL 91.322523 192.165195 \nL 93.128836 214.756364 \nL 94.031992 214.756364 \nL 94.935148 192.165195 \nL 95.838304 214.756364 \nL 96.74146 209.108571 \nL 97.644617 214.756364 \nL 98.547773 197.812987 \nL 99.450929 209.108571 \nL 100.354085 214.756364 \nL 101.257241 180.86961 \nL 102.160398 203.460779 \nL 103.063554 197.812987 \nL 103.96671 214.756364 \nL 104.869866 186.517403 \nL 105.773022 209.108571 \nL 106.676179 209.108571 \nL 107.579335 186.517403 \nL 108.482491 203.460779 \nL 109.385647 214.756364 \nL 110.288803 203.460779 \nL 111.191959 209.108571 \nL 112.095116 203.460779 \nL 112.998272 214.756364 \nL 113.901428 169.574026 \nL 114.804584 203.460779 \nL 115.70774 203.460779 \nL 116.610897 209.108571 \nL 117.514053 192.165195 \nL 118.417209 214.756364 \nL 119.320365 209.108571 \nL 120.223521 197.812987 \nL 121.126678 192.165195 \nL 122.029834 209.108571 \nL 122.93299 209.108571 \nL 123.836146 186.517403 \nL 124.739302 209.108571 \nL 125.642459 214.756364 \nL 126.545615 214.756364 \nL 127.448771 192.165195 \nL 128.351927 214.756364 \nL 129.255083 197.812987 \nL 130.158239 209.108571 \nL 131.061396 214.756364 \nL 131.964552 197.812987 \nL 132.867708 197.812987 \nL 133.770864 209.108571 \nL 134.67402 197.812987 \nL 135.577177 169.574026 \nL 136.480333 214.756364 \nL 137.383489 214.756364 \nL 138.286645 192.165195 \nL 139.189801 203.460779 \nL 140.092958 192.165195 \nL 140.996114 197.812987 \nL 141.89927 197.812987 \nL 142.802426 214.756364 \nL 143.705582 197.812987 \nL 144.608739 214.756364 \nL 145.511895 186.517403 \nL 146.415051 214.756364 \nL 148.221363 203.460779 \nL 150.027676 214.756364 \nL 150.930832 209.108571 \nL 151.833988 192.165195 \nL 152.737144 209.108571 \nL 154.543457 186.517403 \nL 155.446613 214.756364 \nL 157.252925 180.86961 \nL 158.156081 192.165195 \nL 159.059238 175.221818 \nL 159.962394 192.165195 \nL 160.86555 203.460779 \nL 161.768706 186.517403 \nL 163.575019 209.108571 \nL 164.478175 158.278442 \nL 165.381331 175.221818 \nL 166.284487 209.108571 \nL 167.187643 209.108571 \nL 168.0908 169.574026 \nL 168.993956 214.756364 \nL 169.897112 192.165195 \nL 170.800268 192.165195 \nL 171.703424 163.926234 \nL 172.60658 175.221818 \nL 173.509737 180.86961 \nL 174.412893 209.108571 \nL 175.316049 214.756364 \nL 176.219205 175.221818 \nL 177.122361 186.517403 \nL 178.025518 180.86961 \nL 178.928674 169.574026 \nL 179.83183 192.165195 \nL 180.734986 180.86961 \nL 181.638142 209.108571 \nL 182.541299 197.812987 \nL 183.444455 175.221818 \nL 184.347611 180.86961 \nL 185.250767 197.812987 \nL 186.153923 186.517403 \nL 187.05708 214.756364 \nL 187.960236 209.108571 \nL 188.863392 163.926234 \nL 189.766548 192.165195 \nL 190.669704 203.460779 \nL 191.57286 203.460779 \nL 192.476017 175.221818 \nL 193.379173 197.812987 \nL 194.282329 214.756364 \nL 195.185485 209.108571 \nL 196.088641 186.517403 \nL 196.991798 169.574026 \nL 197.894954 192.165195 \nL 198.79811 203.460779 \nL 199.701266 203.460779 \nL 200.604422 214.756364 \nL 201.507579 186.517403 \nL 202.410735 175.221818 \nL 203.313891 192.165195 \nL 204.217047 203.460779 \nL 205.120203 192.165195 \nL 206.02336 214.756364 \nL 207.829672 214.756364 \nL 208.732828 203.460779 \nL 209.635984 209.108571 \nL 210.53914 192.165195 \nL 211.442297 186.517403 \nL 212.345453 209.108571 \nL 213.248609 203.460779 \nL 214.151765 209.108571 \nL 215.054921 209.108571 \nL 215.958078 197.812987 \nL 216.861234 197.812987 \nL 217.76439 209.108571 \nL 218.667546 203.460779 \nL 219.570702 214.756364 \nL 220.473859 197.812987 \nL 221.377015 214.756364 \nL 222.280171 209.108571 \nL 223.183327 214.756364 \nL 224.086483 214.756364 \nL 224.98964 197.812987 \nL 225.892796 214.756364 \nL 227.699108 203.460779 \nL 229.50542 214.756364 \nL 230.408577 192.165195 \nL 231.311733 214.756364 \nL 232.214889 186.517403 \nL 233.118045 214.756364 \nL 234.021201 192.165195 \nL 235.827514 214.756364 \nL 236.73067 130.039481 \nL 237.633826 203.460779 \nL 238.536982 203.460779 \nL 241.246451 169.574026 \nL 242.149607 186.517403 \nL 243.052763 192.165195 \nL 243.95592 186.517403 \nL 244.859076 175.221818 \nL 245.762232 186.517403 \nL 246.665388 214.756364 \nL 247.568544 186.517403 \nL 248.4717 203.460779 \nL 249.374857 169.574026 \nL 250.278013 197.812987 \nL 252.084325 197.812987 \nL 252.987481 186.517403 \nL 253.890638 180.86961 \nL 254.793794 180.86961 \nL 255.69695 192.165195 \nL 256.600106 209.108571 \nL 257.503262 192.165195 \nL 258.406419 203.460779 \nL 259.309575 192.165195 \nL 260.212731 158.278442 \nL 261.115887 158.278442 \nL 262.019043 197.812987 \nL 262.9222 197.812987 \nL 263.825356 158.278442 \nL 264.728512 214.756364 \nL 265.631668 180.86961 \nL 266.534824 186.517403 \nL 267.437981 175.221818 \nL 268.341137 118.743896 \nL 270.147449 209.108571 \nL 271.050605 203.460779 \nL 271.953761 152.630649 \nL 272.856918 180.86961 \nL 273.760074 163.926234 \nL 274.66323 135.687273 \nL 275.566386 163.926234 \nL 276.469542 169.574026 \nL 277.372699 186.517403 \nL 278.275855 163.926234 \nL 279.179011 169.574026 \nL 280.082167 124.391688 \nL 280.985323 118.743896 \nL 281.88848 135.687273 \nL 282.791636 180.86961 \nL 283.694792 192.165195 \nL 284.597948 152.630649 \nL 285.501104 67.913766 \nL 286.404261 214.756364 \nL 287.307417 130.039481 \nL 288.210573 135.687273 \nL 289.113729 186.517403 \nL 290.016885 197.812987 \nL 290.920041 107.448312 \nL 291.823198 124.391688 \nL 292.726354 152.630649 \nL 293.62951 169.574026 \nL 294.532666 135.687273 \nL 295.435822 214.756364 \nL 296.338979 158.278442 \nL 297.242135 84.857143 \nL 298.145291 84.857143 \nL 299.048447 96.152727 \nL 299.951603 163.926234 \nL 301.757916 118.743896 \nL 302.661072 175.221818 \nL 303.564228 130.039481 \nL 304.467384 107.448312 \nL 305.370541 45.322597 \nL 306.273697 135.687273 \nL 307.176853 169.574026 \nL 308.983165 180.86961 \nL 309.886321 146.982857 \nL 310.789478 84.857143 \nL 311.692634 169.574026 \nL 312.59579 214.756364 \nL 313.498946 169.574026 \nL 314.402102 203.460779 \nL 315.305259 186.517403 \nL 316.208415 124.391688 \nL 317.111571 96.152727 \nL 318.014727 141.335065 \nL 318.917883 214.756364 \nL 319.82104 73.561558 \nL 320.724196 175.221818 \nL 321.627352 192.165195 \nL 322.530508 175.221818 \nL 324.336821 50.97039 \nL 325.239977 90.504935 \nL 326.143133 163.926234 \nL 327.046289 203.460779 \nL 327.949445 192.165195 \nL 328.852601 67.913766 \nL 329.755758 62.265974 \nL 330.658914 152.630649 \nL 332.465226 141.335065 \nL 333.368382 169.574026 \nL 334.271539 175.221818 \nL 335.174695 175.221818 \nL 336.077851 158.278442 \nL 336.981007 45.322597 \nL 337.884163 79.209351 \nL 338.78732 152.630649 \nL 339.690476 141.335065 \nL 340.593632 203.460779 \nL 341.496788 124.391688 \nL 342.399944 175.221818 \nL 343.303101 214.756364 \nL 344.206257 17.083636 \nL 345.109413 169.574026 \nL 346.012569 203.460779 \nL 346.915725 197.812987 \nL 347.818882 118.743896 \nL 348.722038 146.982857 \nL 349.625194 135.687273 \nL 350.52835 118.743896 \nL 351.431506 186.517403 \nL 352.334662 197.812987 \nL 353.237819 203.460779 \nL 354.140975 158.278442 \nL 355.044131 118.743896 \nL 355.947287 163.926234 \nL 356.850443 152.630649 \nL 357.7536 186.517403 \nL 358.656756 192.165195 \nL 359.559912 203.460779 \nL 360.463068 209.108571 \nL 360.463068 209.108571 \n\" style=\"fill:none;stroke:#1f77b4;stroke-linecap:square;stroke-width:1.5;\"/>\n   </g>\n   <g id=\"patch_3\">\n    <path d=\"M 40.88125 224.64 \nL 40.88125 7.2 \n\" style=\"fill:none;stroke:#000000;stroke-linecap:square;stroke-linejoin:miter;stroke-width:0.8;\"/>\n   </g>\n   <g id=\"patch_4\">\n    <path d=\"M 375.68125 224.64 \nL 375.68125 7.2 \n\" style=\"fill:none;stroke:#000000;stroke-linecap:square;stroke-linejoin:miter;stroke-width:0.8;\"/>\n   </g>\n   <g id=\"patch_5\">\n    <path d=\"M 40.88125 224.64 \nL 375.68125 224.64 \n\" style=\"fill:none;stroke:#000000;stroke-linecap:square;stroke-linejoin:miter;stroke-width:0.8;\"/>\n   </g>\n   <g id=\"patch_6\">\n    <path d=\"M 40.88125 7.2 \nL 375.68125 7.2 \n\" style=\"fill:none;stroke:#000000;stroke-linecap:square;stroke-linejoin:miter;stroke-width:0.8;\"/>\n   </g>\n  </g>\n </g>\n <defs>\n  <clipPath id=\"p5925a082a2\">\n   <rect height=\"217.44\" width=\"334.8\" x=\"40.88125\" y=\"7.2\"/>\n  </clipPath>\n </defs>\n</svg>\n",
      "image/png": "[encoded data removed]"
     },
     "metadata": {
      "needs_background": "light"
     }
    }
   ],
   "source": [
    "d = data[['date','death',\"state\"]].dropna()\n",
    "ut_death = d[d['state']=='UT']\n",
    "\n",
    "ut_death = ut_death.groupby(['date'])['death'].agg('sum').reset_index()\n",
    "differ = ut_death[\"death\"].diff()\n",
    "ut_death[\"daily_death_count\"] = differ\n",
    "ut_death = ut_death.dropna()\n",
    "sns.lineplot(x=\"date\", y=\"daily_death_count\", data=ut_death) \n"
   ]
  },
  {
   "cell_type": "code",
   "execution_count": 68,
   "metadata": {},
   "outputs": [],
   "source": [
    "def death_by_state(state):\n",
    "    d = data[['date','death',\"state\"]].dropna()\n",
    "    state_death = d[d['state']==state]\n",
    "\n",
    "    state_death = state_death.groupby(['date'])['death'].agg('sum').reset_index()\n",
    "    differ = state_death[\"death\"].diff()\n",
    "    state_death[\"daily_death_count\"] = differ\n",
    "    state_death = state_death.dropna()\n",
    "    state_death[\"id\"] = range(1, len(state_death) + 1)\n",
    "    return state_death\n"
   ]
  },
  {
   "cell_type": "code",
   "execution_count": 69,
   "metadata": {},
   "outputs": [
    {
     "output_type": "execute_result",
     "data": {
      "text/plain": [
       "<AxesSubplot:xlabel='id', ylabel='daily_death_count'>"
      ]
     },
     "metadata": {},
     "execution_count": 69
    },
    {
     "output_type": "display_data",
     "data": {
      "text/plain": "<Figure size 432x288 with 1 Axes>",
      "image/svg+xml": "<?xml version=\"1.0\" encoding=\"utf-8\" standalone=\"no\"?>\n<!DOCTYPE svg PUBLIC \"-//W3C//DTD SVG 1.1//EN\"\n  \"http://www.w3.org/Graphics/SVG/1.1/DTD/svg11.dtd\">\n<!-- Created with matplotlib (https://matplotlib.org/) -->\n<svg height=\"262.19625pt\" version=\"1.1\" viewBox=\"0 0 394.407192 262.19625\" width=\"394.407192pt\" xmlns=\"http://www.w3.org/2000/svg\" xmlns:xlink=\"http://www.w3.org/1999/xlink\">\n <metadata>\n  <rdf:RDF xmlns:cc=\"http://creativecommons.org/ns#\" xmlns:dc=\"http://purl.org/dc/elements/1.1/\" xmlns:rdf=\"http://www.w3.org/1999/02/22-rdf-syntax-ns#\">\n   <cc:Work>\n    <dc:type rdf:resource=\"http://purl.org/dc/dcmitype/StillImage\"/>\n    <dc:date>2021-02-17T13:15:36.527461</dc:date>\n    <dc:format>image/svg+xml</dc:format>\n    <dc:creator>\n     <cc:Agent>\n      <dc:title>Matplotlib v3.3.4, https://matplotlib.org/</dc:title>\n     </cc:Agent>\n    </dc:creator>\n   </cc:Work>\n  </rdf:RDF>\n </metadata>\n <defs>\n  <style type=\"text/css\">*{stroke-linecap:butt;stroke-linejoin:round;}</style>\n </defs>\n <g id=\"figure_1\">\n  <g id=\"patch_1\">\n   <path d=\"M 0 262.19625 \nL 394.407192 262.19625 \nL 394.407192 0 \nL 0 0 \nz\n\" style=\"fill:none;\"/>\n  </g>\n  <g id=\"axes_1\">\n   <g id=\"patch_2\">\n    <path d=\"M 47.24375 224.64 \nL 382.04375 224.64 \nL 382.04375 7.2 \nL 47.24375 7.2 \nz\n\" style=\"fill:#ffffff;\"/>\n   </g>\n   <g id=\"matplotlib.axis_1\">\n    <g id=\"xtick_1\">\n     <g id=\"line2d_1\">\n      <defs>\n       <path d=\"M 0 0 \nL 0 3.5 \n\" id=\"m1db316ce29\" style=\"stroke:#000000;stroke-width:0.8;\"/>\n      </defs>\n      <g>\n       <use style=\"stroke:#000000;stroke-width:0.8;\" x=\"61.558776\" xlink:href=\"#m1db316ce29\" y=\"224.64\"/>\n      </g>\n     </g>\n     <g id=\"text_1\">\n      <!-- 0 -->\n      <g transform=\"translate(58.377526 239.238437)scale(0.1 -0.1)\">\n       <defs>\n        <path d=\"M 31.78125 66.40625 \nQ 24.171875 66.40625 20.328125 58.90625 \nQ 16.5 51.421875 16.5 36.375 \nQ 16.5 21.390625 20.328125 13.890625 \nQ 24.171875 6.390625 31.78125 6.390625 \nQ 39.453125 6.390625 43.28125 13.890625 \nQ 47.125 21.390625 47.125 36.375 \nQ 47.125 51.421875 43.28125 58.90625 \nQ 39.453125 66.40625 31.78125 66.40625 \nz\nM 31.78125 74.21875 \nQ 44.046875 74.21875 50.515625 64.515625 \nQ 56.984375 54.828125 56.984375 36.375 \nQ 56.984375 17.96875 50.515625 8.265625 \nQ 44.046875 -1.421875 31.78125 -1.421875 \nQ 19.53125 -1.421875 13.0625 8.265625 \nQ 6.59375 17.96875 6.59375 36.375 \nQ 6.59375 54.828125 13.0625 64.515625 \nQ 19.53125 74.21875 31.78125 74.21875 \nz\n\" id=\"DejaVuSans-48\"/>\n       </defs>\n       <use xlink:href=\"#DejaVuSans-48\"/>\n      </g>\n     </g>\n    </g>\n    <g id=\"xtick_2\">\n     <g id=\"line2d_2\">\n      <g>\n       <use style=\"stroke:#000000;stroke-width:0.8;\" x=\"106.716585\" xlink:href=\"#m1db316ce29\" y=\"224.64\"/>\n      </g>\n     </g>\n     <g id=\"text_2\">\n      <!-- 50 -->\n      <g transform=\"translate(100.354085 239.238437)scale(0.1 -0.1)\">\n       <defs>\n        <path d=\"M 10.796875 72.90625 \nL 49.515625 72.90625 \nL 49.515625 64.59375 \nL 19.828125 64.59375 \nL 19.828125 46.734375 \nQ 21.96875 47.46875 24.109375 47.828125 \nQ 26.265625 48.1875 28.421875 48.1875 \nQ 40.625 48.1875 47.75 41.5 \nQ 54.890625 34.8125 54.890625 23.390625 \nQ 54.890625 11.625 47.5625 5.09375 \nQ 40.234375 -1.421875 26.90625 -1.421875 \nQ 22.3125 -1.421875 17.546875 -0.640625 \nQ 12.796875 0.140625 7.71875 1.703125 \nL 7.71875 11.625 \nQ 12.109375 9.234375 16.796875 8.0625 \nQ 21.484375 6.890625 26.703125 6.890625 \nQ 35.15625 6.890625 40.078125 11.328125 \nQ 45.015625 15.765625 45.015625 23.390625 \nQ 45.015625 31 40.078125 35.4375 \nQ 35.15625 39.890625 26.703125 39.890625 \nQ 22.75 39.890625 18.8125 39.015625 \nQ 14.890625 38.140625 10.796875 36.28125 \nz\n\" id=\"DejaVuSans-53\"/>\n       </defs>\n       <use xlink:href=\"#DejaVuSans-53\"/>\n       <use x=\"63.623047\" xlink:href=\"#DejaVuSans-48\"/>\n      </g>\n     </g>\n    </g>\n    <g id=\"xtick_3\">\n     <g id=\"line2d_3\">\n      <g>\n       <use style=\"stroke:#000000;stroke-width:0.8;\" x=\"151.874395\" xlink:href=\"#m1db316ce29\" y=\"224.64\"/>\n      </g>\n     </g>\n     <g id=\"text_3\">\n      <!-- 100 -->\n      <g transform=\"translate(142.330645 239.238437)scale(0.1 -0.1)\">\n       <defs>\n        <path d=\"M 12.40625 8.296875 \nL 28.515625 8.296875 \nL 28.515625 63.921875 \nL 10.984375 60.40625 \nL 10.984375 69.390625 \nL 28.421875 72.90625 \nL 38.28125 72.90625 \nL 38.28125 8.296875 \nL 54.390625 8.296875 \nL 54.390625 0 \nL 12.40625 0 \nz\n\" id=\"DejaVuSans-49\"/>\n       </defs>\n       <use xlink:href=\"#DejaVuSans-49\"/>\n       <use x=\"63.623047\" xlink:href=\"#DejaVuSans-48\"/>\n       <use x=\"127.246094\" xlink:href=\"#DejaVuSans-48\"/>\n      </g>\n     </g>\n    </g>\n    <g id=\"xtick_4\">\n     <g id=\"line2d_4\">\n      <g>\n       <use style=\"stroke:#000000;stroke-width:0.8;\" x=\"197.032204\" xlink:href=\"#m1db316ce29\" y=\"224.64\"/>\n      </g>\n     </g>\n     <g id=\"text_4\">\n      <!-- 150 -->\n      <g transform=\"translate(187.488454 239.238437)scale(0.1 -0.1)\">\n       <use xlink:href=\"#DejaVuSans-49\"/>\n       <use x=\"63.623047\" xlink:href=\"#DejaVuSans-53\"/>\n       <use x=\"127.246094\" xlink:href=\"#DejaVuSans-48\"/>\n      </g>\n     </g>\n    </g>\n    <g id=\"xtick_5\">\n     <g id=\"line2d_5\">\n      <g>\n       <use style=\"stroke:#000000;stroke-width:0.8;\" x=\"242.190014\" xlink:href=\"#m1db316ce29\" y=\"224.64\"/>\n      </g>\n     </g>\n     <g id=\"text_5\">\n      <!-- 200 -->\n      <g transform=\"translate(232.646264 239.238437)scale(0.1 -0.1)\">\n       <defs>\n        <path d=\"M 19.1875 8.296875 \nL 53.609375 8.296875 \nL 53.609375 0 \nL 7.328125 0 \nL 7.328125 8.296875 \nQ 12.9375 14.109375 22.625 23.890625 \nQ 32.328125 33.6875 34.8125 36.53125 \nQ 39.546875 41.84375 41.421875 45.53125 \nQ 43.3125 49.21875 43.3125 52.78125 \nQ 43.3125 58.59375 39.234375 62.25 \nQ 35.15625 65.921875 28.609375 65.921875 \nQ 23.96875 65.921875 18.8125 64.3125 \nQ 13.671875 62.703125 7.8125 59.421875 \nL 7.8125 69.390625 \nQ 13.765625 71.78125 18.9375 73 \nQ 24.125 74.21875 28.421875 74.21875 \nQ 39.75 74.21875 46.484375 68.546875 \nQ 53.21875 62.890625 53.21875 53.421875 \nQ 53.21875 48.921875 51.53125 44.890625 \nQ 49.859375 40.875 45.40625 35.40625 \nQ 44.1875 33.984375 37.640625 27.21875 \nQ 31.109375 20.453125 19.1875 8.296875 \nz\n\" id=\"DejaVuSans-50\"/>\n       </defs>\n       <use xlink:href=\"#DejaVuSans-50\"/>\n       <use x=\"63.623047\" xlink:href=\"#DejaVuSans-48\"/>\n       <use x=\"127.246094\" xlink:href=\"#DejaVuSans-48\"/>\n      </g>\n     </g>\n    </g>\n    <g id=\"xtick_6\">\n     <g id=\"line2d_6\">\n      <g>\n       <use style=\"stroke:#000000;stroke-width:0.8;\" x=\"287.347823\" xlink:href=\"#m1db316ce29\" y=\"224.64\"/>\n      </g>\n     </g>\n     <g id=\"text_6\">\n      <!-- 250 -->\n      <g transform=\"translate(277.804073 239.238437)scale(0.1 -0.1)\">\n       <use xlink:href=\"#DejaVuSans-50\"/>\n       <use x=\"63.623047\" xlink:href=\"#DejaVuSans-53\"/>\n       <use x=\"127.246094\" xlink:href=\"#DejaVuSans-48\"/>\n      </g>\n     </g>\n    </g>\n    <g id=\"xtick_7\">\n     <g id=\"line2d_7\">\n      <g>\n       <use style=\"stroke:#000000;stroke-width:0.8;\" x=\"332.505633\" xlink:href=\"#m1db316ce29\" y=\"224.64\"/>\n      </g>\n     </g>\n     <g id=\"text_7\">\n      <!-- 300 -->\n      <g transform=\"translate(322.961883 239.238437)scale(0.1 -0.1)\">\n       <defs>\n        <path d=\"M 40.578125 39.3125 \nQ 47.65625 37.796875 51.625 33 \nQ 55.609375 28.21875 55.609375 21.1875 \nQ 55.609375 10.40625 48.1875 4.484375 \nQ 40.765625 -1.421875 27.09375 -1.421875 \nQ 22.515625 -1.421875 17.65625 -0.515625 \nQ 12.796875 0.390625 7.625 2.203125 \nL 7.625 11.71875 \nQ 11.71875 9.328125 16.59375 8.109375 \nQ 21.484375 6.890625 26.8125 6.890625 \nQ 36.078125 6.890625 40.9375 10.546875 \nQ 45.796875 14.203125 45.796875 21.1875 \nQ 45.796875 27.640625 41.28125 31.265625 \nQ 36.765625 34.90625 28.71875 34.90625 \nL 20.21875 34.90625 \nL 20.21875 43.015625 \nL 29.109375 43.015625 \nQ 36.375 43.015625 40.234375 45.921875 \nQ 44.09375 48.828125 44.09375 54.296875 \nQ 44.09375 59.90625 40.109375 62.90625 \nQ 36.140625 65.921875 28.71875 65.921875 \nQ 24.65625 65.921875 20.015625 65.03125 \nQ 15.375 64.15625 9.8125 62.3125 \nL 9.8125 71.09375 \nQ 15.4375 72.65625 20.34375 73.4375 \nQ 25.25 74.21875 29.59375 74.21875 \nQ 40.828125 74.21875 47.359375 69.109375 \nQ 53.90625 64.015625 53.90625 55.328125 \nQ 53.90625 49.265625 50.4375 45.09375 \nQ 46.96875 40.921875 40.578125 39.3125 \nz\n\" id=\"DejaVuSans-51\"/>\n       </defs>\n       <use xlink:href=\"#DejaVuSans-51\"/>\n       <use x=\"63.623047\" xlink:href=\"#DejaVuSans-48\"/>\n       <use x=\"127.246094\" xlink:href=\"#DejaVuSans-48\"/>\n      </g>\n     </g>\n    </g>\n    <g id=\"xtick_8\">\n     <g id=\"line2d_8\">\n      <g>\n       <use style=\"stroke:#000000;stroke-width:0.8;\" x=\"377.663442\" xlink:href=\"#m1db316ce29\" y=\"224.64\"/>\n      </g>\n     </g>\n     <g id=\"text_8\">\n      <!-- 350 -->\n      <g transform=\"translate(368.119692 239.238437)scale(0.1 -0.1)\">\n       <use xlink:href=\"#DejaVuSans-51\"/>\n       <use x=\"63.623047\" xlink:href=\"#DejaVuSans-53\"/>\n       <use x=\"127.246094\" xlink:href=\"#DejaVuSans-48\"/>\n      </g>\n     </g>\n    </g>\n    <g id=\"text_9\">\n     <!-- id -->\n     <g transform=\"translate(210.080469 252.916562)scale(0.1 -0.1)\">\n      <defs>\n       <path d=\"M 9.421875 54.6875 \nL 18.40625 54.6875 \nL 18.40625 0 \nL 9.421875 0 \nz\nM 9.421875 75.984375 \nL 18.40625 75.984375 \nL 18.40625 64.59375 \nL 9.421875 64.59375 \nz\n\" id=\"DejaVuSans-105\"/>\n       <path d=\"M 45.40625 46.390625 \nL 45.40625 75.984375 \nL 54.390625 75.984375 \nL 54.390625 0 \nL 45.40625 0 \nL 45.40625 8.203125 \nQ 42.578125 3.328125 38.25 0.953125 \nQ 33.9375 -1.421875 27.875 -1.421875 \nQ 17.96875 -1.421875 11.734375 6.484375 \nQ 5.515625 14.40625 5.515625 27.296875 \nQ 5.515625 40.1875 11.734375 48.09375 \nQ 17.96875 56 27.875 56 \nQ 33.9375 56 38.25 53.625 \nQ 42.578125 51.265625 45.40625 46.390625 \nz\nM 14.796875 27.296875 \nQ 14.796875 17.390625 18.875 11.75 \nQ 22.953125 6.109375 30.078125 6.109375 \nQ 37.203125 6.109375 41.296875 11.75 \nQ 45.40625 17.390625 45.40625 27.296875 \nQ 45.40625 37.203125 41.296875 42.84375 \nQ 37.203125 48.484375 30.078125 48.484375 \nQ 22.953125 48.484375 18.875 42.84375 \nQ 14.796875 37.203125 14.796875 27.296875 \nz\n\" id=\"DejaVuSans-100\"/>\n      </defs>\n      <use xlink:href=\"#DejaVuSans-105\"/>\n      <use x=\"27.783203\" xlink:href=\"#DejaVuSans-100\"/>\n     </g>\n    </g>\n   </g>\n   <g id=\"matplotlib.axis_2\">\n    <g id=\"ytick_1\">\n     <g id=\"line2d_9\">\n      <defs>\n       <path d=\"M 0 0 \nL -3.5 0 \n\" id=\"me56e890c4a\" style=\"stroke:#000000;stroke-width:0.8;\"/>\n      </defs>\n      <g>\n       <use style=\"stroke:#000000;stroke-width:0.8;\" x=\"47.24375\" xlink:href=\"#me56e890c4a\" y=\"205.604848\"/>\n      </g>\n     </g>\n     <g id=\"text_10\">\n      <!-- 0 -->\n      <g transform=\"translate(33.88125 209.404067)scale(0.1 -0.1)\">\n       <use xlink:href=\"#DejaVuSans-48\"/>\n      </g>\n     </g>\n    </g>\n    <g id=\"ytick_2\">\n     <g id=\"line2d_10\">\n      <g>\n       <use style=\"stroke:#000000;stroke-width:0.8;\" x=\"47.24375\" xlink:href=\"#me56e890c4a\" y=\"175.099798\"/>\n      </g>\n     </g>\n     <g id=\"text_11\">\n      <!-- 50 -->\n      <g transform=\"translate(27.51875 178.899017)scale(0.1 -0.1)\">\n       <use xlink:href=\"#DejaVuSans-53\"/>\n       <use x=\"63.623047\" xlink:href=\"#DejaVuSans-48\"/>\n      </g>\n     </g>\n    </g>\n    <g id=\"ytick_3\">\n     <g id=\"line2d_11\">\n      <g>\n       <use style=\"stroke:#000000;stroke-width:0.8;\" x=\"47.24375\" xlink:href=\"#me56e890c4a\" y=\"144.594747\"/>\n      </g>\n     </g>\n     <g id=\"text_12\">\n      <!-- 100 -->\n      <g transform=\"translate(21.15625 148.393966)scale(0.1 -0.1)\">\n       <use xlink:href=\"#DejaVuSans-49\"/>\n       <use x=\"63.623047\" xlink:href=\"#DejaVuSans-48\"/>\n       <use x=\"127.246094\" xlink:href=\"#DejaVuSans-48\"/>\n      </g>\n     </g>\n    </g>\n    <g id=\"ytick_4\">\n     <g id=\"line2d_12\">\n      <g>\n       <use style=\"stroke:#000000;stroke-width:0.8;\" x=\"47.24375\" xlink:href=\"#me56e890c4a\" y=\"114.089697\"/>\n      </g>\n     </g>\n     <g id=\"text_13\">\n      <!-- 150 -->\n      <g transform=\"translate(21.15625 117.888916)scale(0.1 -0.1)\">\n       <use xlink:href=\"#DejaVuSans-49\"/>\n       <use x=\"63.623047\" xlink:href=\"#DejaVuSans-53\"/>\n       <use x=\"127.246094\" xlink:href=\"#DejaVuSans-48\"/>\n      </g>\n     </g>\n    </g>\n    <g id=\"ytick_5\">\n     <g id=\"line2d_13\">\n      <g>\n       <use style=\"stroke:#000000;stroke-width:0.8;\" x=\"47.24375\" xlink:href=\"#me56e890c4a\" y=\"83.584646\"/>\n      </g>\n     </g>\n     <g id=\"text_14\">\n      <!-- 200 -->\n      <g transform=\"translate(21.15625 87.383865)scale(0.1 -0.1)\">\n       <use xlink:href=\"#DejaVuSans-50\"/>\n       <use x=\"63.623047\" xlink:href=\"#DejaVuSans-48\"/>\n       <use x=\"127.246094\" xlink:href=\"#DejaVuSans-48\"/>\n      </g>\n     </g>\n    </g>\n    <g id=\"ytick_6\">\n     <g id=\"line2d_14\">\n      <g>\n       <use style=\"stroke:#000000;stroke-width:0.8;\" x=\"47.24375\" xlink:href=\"#me56e890c4a\" y=\"53.079596\"/>\n      </g>\n     </g>\n     <g id=\"text_15\">\n      <!-- 250 -->\n      <g transform=\"translate(21.15625 56.878815)scale(0.1 -0.1)\">\n       <use xlink:href=\"#DejaVuSans-50\"/>\n       <use x=\"63.623047\" xlink:href=\"#DejaVuSans-53\"/>\n       <use x=\"127.246094\" xlink:href=\"#DejaVuSans-48\"/>\n      </g>\n     </g>\n    </g>\n    <g id=\"ytick_7\">\n     <g id=\"line2d_15\">\n      <g>\n       <use style=\"stroke:#000000;stroke-width:0.8;\" x=\"47.24375\" xlink:href=\"#me56e890c4a\" y=\"22.574545\"/>\n      </g>\n     </g>\n     <g id=\"text_16\">\n      <!-- 300 -->\n      <g transform=\"translate(21.15625 26.373764)scale(0.1 -0.1)\">\n       <use xlink:href=\"#DejaVuSans-51\"/>\n       <use x=\"63.623047\" xlink:href=\"#DejaVuSans-48\"/>\n       <use x=\"127.246094\" xlink:href=\"#DejaVuSans-48\"/>\n      </g>\n     </g>\n    </g>\n    <g id=\"text_17\">\n     <!-- daily_death_count -->\n     <g transform=\"translate(14.798438 161.445781)rotate(-90)scale(0.1 -0.1)\">\n      <defs>\n       <path d=\"M 34.28125 27.484375 \nQ 23.390625 27.484375 19.1875 25 \nQ 14.984375 22.515625 14.984375 16.5 \nQ 14.984375 11.71875 18.140625 8.90625 \nQ 21.296875 6.109375 26.703125 6.109375 \nQ 34.1875 6.109375 38.703125 11.40625 \nQ 43.21875 16.703125 43.21875 25.484375 \nL 43.21875 27.484375 \nz\nM 52.203125 31.203125 \nL 52.203125 0 \nL 43.21875 0 \nL 43.21875 8.296875 \nQ 40.140625 3.328125 35.546875 0.953125 \nQ 30.953125 -1.421875 24.3125 -1.421875 \nQ 15.921875 -1.421875 10.953125 3.296875 \nQ 6 8.015625 6 15.921875 \nQ 6 25.140625 12.171875 29.828125 \nQ 18.359375 34.515625 30.609375 34.515625 \nL 43.21875 34.515625 \nL 43.21875 35.40625 \nQ 43.21875 41.609375 39.140625 45 \nQ 35.0625 48.390625 27.6875 48.390625 \nQ 23 48.390625 18.546875 47.265625 \nQ 14.109375 46.140625 10.015625 43.890625 \nL 10.015625 52.203125 \nQ 14.9375 54.109375 19.578125 55.046875 \nQ 24.21875 56 28.609375 56 \nQ 40.484375 56 46.34375 49.84375 \nQ 52.203125 43.703125 52.203125 31.203125 \nz\n\" id=\"DejaVuSans-97\"/>\n       <path d=\"M 9.421875 75.984375 \nL 18.40625 75.984375 \nL 18.40625 0 \nL 9.421875 0 \nz\n\" id=\"DejaVuSans-108\"/>\n       <path d=\"M 32.171875 -5.078125 \nQ 28.375 -14.84375 24.75 -17.8125 \nQ 21.140625 -20.796875 15.09375 -20.796875 \nL 7.90625 -20.796875 \nL 7.90625 -13.28125 \nL 13.1875 -13.28125 \nQ 16.890625 -13.28125 18.9375 -11.515625 \nQ 21 -9.765625 23.484375 -3.21875 \nL 25.09375 0.875 \nL 2.984375 54.6875 \nL 12.5 54.6875 \nL 29.59375 11.921875 \nL 46.6875 54.6875 \nL 56.203125 54.6875 \nz\n\" id=\"DejaVuSans-121\"/>\n       <path d=\"M 50.984375 -16.609375 \nL 50.984375 -23.578125 \nL -0.984375 -23.578125 \nL -0.984375 -16.609375 \nz\n\" id=\"DejaVuSans-95\"/>\n       <path d=\"M 56.203125 29.59375 \nL 56.203125 25.203125 \nL 14.890625 25.203125 \nQ 15.484375 15.921875 20.484375 11.0625 \nQ 25.484375 6.203125 34.421875 6.203125 \nQ 39.59375 6.203125 44.453125 7.46875 \nQ 49.3125 8.734375 54.109375 11.28125 \nL 54.109375 2.78125 \nQ 49.265625 0.734375 44.1875 -0.34375 \nQ 39.109375 -1.421875 33.890625 -1.421875 \nQ 20.796875 -1.421875 13.15625 6.1875 \nQ 5.515625 13.8125 5.515625 26.8125 \nQ 5.515625 40.234375 12.765625 48.109375 \nQ 20.015625 56 32.328125 56 \nQ 43.359375 56 49.78125 48.890625 \nQ 56.203125 41.796875 56.203125 29.59375 \nz\nM 47.21875 32.234375 \nQ 47.125 39.59375 43.09375 43.984375 \nQ 39.0625 48.390625 32.421875 48.390625 \nQ 24.90625 48.390625 20.390625 44.140625 \nQ 15.875 39.890625 15.1875 32.171875 \nz\n\" id=\"DejaVuSans-101\"/>\n       <path d=\"M 18.3125 70.21875 \nL 18.3125 54.6875 \nL 36.8125 54.6875 \nL 36.8125 47.703125 \nL 18.3125 47.703125 \nL 18.3125 18.015625 \nQ 18.3125 11.328125 20.140625 9.421875 \nQ 21.96875 7.515625 27.59375 7.515625 \nL 36.8125 7.515625 \nL 36.8125 0 \nL 27.59375 0 \nQ 17.1875 0 13.234375 3.875 \nQ 9.28125 7.765625 9.28125 18.015625 \nL 9.28125 47.703125 \nL 2.6875 47.703125 \nL 2.6875 54.6875 \nL 9.28125 54.6875 \nL 9.28125 70.21875 \nz\n\" id=\"DejaVuSans-116\"/>\n       <path d=\"M 54.890625 33.015625 \nL 54.890625 0 \nL 45.90625 0 \nL 45.90625 32.71875 \nQ 45.90625 40.484375 42.875 44.328125 \nQ 39.84375 48.1875 33.796875 48.1875 \nQ 26.515625 48.1875 22.3125 43.546875 \nQ 18.109375 38.921875 18.109375 30.90625 \nL 18.109375 0 \nL 9.078125 0 \nL 9.078125 75.984375 \nL 18.109375 75.984375 \nL 18.109375 46.1875 \nQ 21.34375 51.125 25.703125 53.5625 \nQ 30.078125 56 35.796875 56 \nQ 45.21875 56 50.046875 50.171875 \nQ 54.890625 44.34375 54.890625 33.015625 \nz\n\" id=\"DejaVuSans-104\"/>\n       <path d=\"M 48.78125 52.59375 \nL 48.78125 44.1875 \nQ 44.96875 46.296875 41.140625 47.34375 \nQ 37.3125 48.390625 33.40625 48.390625 \nQ 24.65625 48.390625 19.8125 42.84375 \nQ 14.984375 37.3125 14.984375 27.296875 \nQ 14.984375 17.28125 19.8125 11.734375 \nQ 24.65625 6.203125 33.40625 6.203125 \nQ 37.3125 6.203125 41.140625 7.25 \nQ 44.96875 8.296875 48.78125 10.40625 \nL 48.78125 2.09375 \nQ 45.015625 0.34375 40.984375 -0.53125 \nQ 36.96875 -1.421875 32.421875 -1.421875 \nQ 20.0625 -1.421875 12.78125 6.34375 \nQ 5.515625 14.109375 5.515625 27.296875 \nQ 5.515625 40.671875 12.859375 48.328125 \nQ 20.21875 56 33.015625 56 \nQ 37.15625 56 41.109375 55.140625 \nQ 45.0625 54.296875 48.78125 52.59375 \nz\n\" id=\"DejaVuSans-99\"/>\n       <path d=\"M 30.609375 48.390625 \nQ 23.390625 48.390625 19.1875 42.75 \nQ 14.984375 37.109375 14.984375 27.296875 \nQ 14.984375 17.484375 19.15625 11.84375 \nQ 23.34375 6.203125 30.609375 6.203125 \nQ 37.796875 6.203125 41.984375 11.859375 \nQ 46.1875 17.53125 46.1875 27.296875 \nQ 46.1875 37.015625 41.984375 42.703125 \nQ 37.796875 48.390625 30.609375 48.390625 \nz\nM 30.609375 56 \nQ 42.328125 56 49.015625 48.375 \nQ 55.71875 40.765625 55.71875 27.296875 \nQ 55.71875 13.875 49.015625 6.21875 \nQ 42.328125 -1.421875 30.609375 -1.421875 \nQ 18.84375 -1.421875 12.171875 6.21875 \nQ 5.515625 13.875 5.515625 27.296875 \nQ 5.515625 40.765625 12.171875 48.375 \nQ 18.84375 56 30.609375 56 \nz\n\" id=\"DejaVuSans-111\"/>\n       <path d=\"M 8.5 21.578125 \nL 8.5 54.6875 \nL 17.484375 54.6875 \nL 17.484375 21.921875 \nQ 17.484375 14.15625 20.5 10.265625 \nQ 23.53125 6.390625 29.59375 6.390625 \nQ 36.859375 6.390625 41.078125 11.03125 \nQ 45.3125 15.671875 45.3125 23.6875 \nL 45.3125 54.6875 \nL 54.296875 54.6875 \nL 54.296875 0 \nL 45.3125 0 \nL 45.3125 8.40625 \nQ 42.046875 3.421875 37.71875 1 \nQ 33.40625 -1.421875 27.6875 -1.421875 \nQ 18.265625 -1.421875 13.375 4.4375 \nQ 8.5 10.296875 8.5 21.578125 \nz\nM 31.109375 56 \nz\n\" id=\"DejaVuSans-117\"/>\n       <path d=\"M 54.890625 33.015625 \nL 54.890625 0 \nL 45.90625 0 \nL 45.90625 32.71875 \nQ 45.90625 40.484375 42.875 44.328125 \nQ 39.84375 48.1875 33.796875 48.1875 \nQ 26.515625 48.1875 22.3125 43.546875 \nQ 18.109375 38.921875 18.109375 30.90625 \nL 18.109375 0 \nL 9.078125 0 \nL 9.078125 54.6875 \nL 18.109375 54.6875 \nL 18.109375 46.1875 \nQ 21.34375 51.125 25.703125 53.5625 \nQ 30.078125 56 35.796875 56 \nQ 45.21875 56 50.046875 50.171875 \nQ 54.890625 44.34375 54.890625 33.015625 \nz\n\" id=\"DejaVuSans-110\"/>\n      </defs>\n      <use xlink:href=\"#DejaVuSans-100\"/>\n      <use x=\"63.476562\" xlink:href=\"#DejaVuSans-97\"/>\n      <use x=\"124.755859\" xlink:href=\"#DejaVuSans-105\"/>\n      <use x=\"152.539062\" xlink:href=\"#DejaVuSans-108\"/>\n      <use x=\"180.322266\" xlink:href=\"#DejaVuSans-121\"/>\n      <use x=\"239.501953\" xlink:href=\"#DejaVuSans-95\"/>\n      <use x=\"289.501953\" xlink:href=\"#DejaVuSans-100\"/>\n      <use x=\"352.978516\" xlink:href=\"#DejaVuSans-101\"/>\n      <use x=\"414.501953\" xlink:href=\"#DejaVuSans-97\"/>\n      <use x=\"475.78125\" xlink:href=\"#DejaVuSans-116\"/>\n      <use x=\"514.990234\" xlink:href=\"#DejaVuSans-104\"/>\n      <use x=\"578.369141\" xlink:href=\"#DejaVuSans-95\"/>\n      <use x=\"628.369141\" xlink:href=\"#DejaVuSans-99\"/>\n      <use x=\"683.349609\" xlink:href=\"#DejaVuSans-111\"/>\n      <use x=\"744.53125\" xlink:href=\"#DejaVuSans-117\"/>\n      <use x=\"807.910156\" xlink:href=\"#DejaVuSans-110\"/>\n      <use x=\"871.289062\" xlink:href=\"#DejaVuSans-116\"/>\n     </g>\n    </g>\n   </g>\n   <g id=\"line2d_16\">\n    <path clip-path=\"url(#p01b626703b)\" d=\"M 62.461932 205.604848 \nL 70.590338 205.604848 \nL 72.39665 204.384646 \nL 73.299806 205.604848 \nL 75.106118 204.384646 \nL 76.009275 201.334141 \nL 76.912431 197.673535 \nL 77.815587 201.944242 \nL 78.718743 203.774545 \nL 79.621899 200.72404 \nL 80.525056 204.384646 \nL 81.428212 202.554343 \nL 82.331368 201.944242 \nL 83.234524 199.503838 \nL 85.040837 201.944242 \nL 85.943993 198.893737 \nL 86.847149 204.384646 \nL 87.750305 201.944242 \nL 88.653461 198.893737 \nL 89.556618 198.893737 \nL 90.459774 198.283636 \nL 91.36293 198.893737 \nL 92.266086 204.384646 \nL 93.169242 200.72404 \nL 94.072399 197.673535 \nL 94.975555 199.503838 \nL 95.878711 195.233131 \nL 96.781867 203.774545 \nL 97.685023 205.604848 \nL 98.588179 196.453333 \nL 99.491336 203.164444 \nL 100.394492 201.944242 \nL 101.297648 193.402828 \nL 102.200804 203.774545 \nL 103.10396 190.962424 \nL 104.007117 199.503838 \nL 104.910273 200.113939 \nL 105.813429 204.384646 \nL 106.716585 201.944242 \nL 108.522898 189.132121 \nL 109.426054 200.113939 \nL 110.32921 189.742222 \nL 111.232366 197.673535 \nL 112.135522 202.554343 \nL 113.038679 200.72404 \nL 113.941835 188.52202 \nL 114.844991 193.402828 \nL 115.748147 194.62303 \nL 116.651303 200.113939 \nL 117.554459 200.113939 \nL 118.457616 203.774545 \nL 119.360772 204.994747 \nL 120.263928 196.453333 \nL 121.167084 197.673535 \nL 122.07024 198.283636 \nL 122.973397 200.72404 \nL 123.876553 200.113939 \nL 124.779709 202.554343 \nL 125.682865 198.893737 \nL 126.586021 197.673535 \nL 127.489178 201.944242 \nL 128.392334 200.113939 \nL 129.29549 196.453333 \nL 130.198646 197.673535 \nL 131.101802 197.673535 \nL 132.004959 196.453333 \nL 132.908115 202.554343 \nL 133.811271 204.384646 \nL 134.714427 205.604848 \nL 135.617583 191.572525 \nL 137.423896 203.774545 \nL 138.327052 189.742222 \nL 139.230208 198.893737 \nL 140.133364 196.453333 \nL 141.03652 198.893737 \nL 141.939677 197.063434 \nL 142.842833 203.164444 \nL 143.745989 205.604848 \nL 144.649145 204.994747 \nL 145.552301 198.893737 \nL 146.455458 202.554343 \nL 147.358614 193.402828 \nL 148.26177 198.283636 \nL 149.164926 195.843232 \nL 150.068082 204.994747 \nL 150.971239 204.384646 \nL 151.874395 191.572525 \nL 152.777551 189.132121 \nL 153.680707 202.554343 \nL 154.583863 198.893737 \nL 155.487019 198.283636 \nL 156.390176 205.604848 \nL 158.196488 192.792727 \nL 159.099644 192.182626 \nL 160.0028 197.673535 \nL 160.905957 192.792727 \nL 161.809113 204.994747 \nL 162.712269 205.604848 \nL 163.615425 205.604848 \nL 164.518581 189.742222 \nL 165.421738 190.352323 \nL 166.324894 199.503838 \nL 167.22805 183.641212 \nL 168.131206 199.503838 \nL 169.034362 201.334141 \nL 169.937519 203.774545 \nL 170.840675 181.200808 \nL 171.743831 176.930101 \nL 172.646987 194.012929 \nL 173.550143 184.251313 \nL 174.4533 192.792727 \nL 175.356456 204.994747 \nL 176.259612 203.164444 \nL 177.162768 198.283636 \nL 178.065924 168.388687 \nL 178.96908 185.471515 \nL 179.872237 180.590707 \nL 180.775393 194.62303 \nL 181.678549 195.233131 \nL 182.581705 194.62303 \nL 183.484861 205.604848 \nL 184.388018 176.930101 \nL 185.291174 189.132121 \nL 186.19433 196.453333 \nL 187.097486 191.572525 \nL 188.000642 190.962424 \nL 188.903799 201.944242 \nL 189.806955 185.471515 \nL 190.710111 187.911919 \nL 191.613267 194.012929 \nL 192.516423 192.792727 \nL 193.41958 205.604848 \nL 194.322736 185.471515 \nL 195.225892 187.911919 \nL 196.129048 175.099798 \nL 197.032204 184.251313 \nL 197.93536 200.72404 \nL 198.838517 203.774545 \nL 199.741673 203.774545 \nL 200.644829 204.384646 \nL 201.547985 189.132121 \nL 202.451141 198.893737 \nL 203.354298 200.72404 \nL 204.257454 187.301818 \nL 205.16061 195.843232 \nL 206.063766 192.792727 \nL 206.966922 204.384646 \nL 207.870079 198.893737 \nL 208.773235 197.673535 \nL 209.676391 200.72404 \nL 210.579547 186.691717 \nL 211.482703 186.691717 \nL 212.38586 178.150303 \nL 213.289016 199.503838 \nL 214.192172 193.402828 \nL 215.095328 194.62303 \nL 216.90164 195.843232 \nL 217.804797 185.471515 \nL 218.707953 200.113939 \nL 219.611109 204.994747 \nL 220.514265 205.604848 \nL 221.417421 204.994747 \nL 222.320578 200.72404 \nL 223.223734 195.843232 \nL 224.12689 186.081616 \nL 225.933202 204.994747 \nL 226.836359 203.164444 \nL 227.739515 186.081616 \nL 228.642671 202.554343 \nL 229.545827 200.113939 \nL 230.448983 189.132121 \nL 231.35214 200.113939 \nL 232.255296 205.604848 \nL 233.158452 204.384646 \nL 234.061608 194.62303 \nL 234.964764 186.691717 \nL 235.86792 194.62303 \nL 236.771077 214.756364 \nL 237.674233 199.503838 \nL 238.577389 205.604848 \nL 239.480545 205.604848 \nL 240.383701 195.843232 \nL 241.286858 191.572525 \nL 242.190014 200.72404 \nL 243.09317 204.384646 \nL 243.996326 200.72404 \nL 244.899482 205.604848 \nL 245.802639 204.994747 \nL 246.705795 192.792727 \nL 247.608951 192.792727 \nL 248.512107 183.641212 \nL 249.415263 195.843232 \nL 250.31842 198.893737 \nL 251.221576 205.604848 \nL 252.124732 204.994747 \nL 253.027888 205.604848 \nL 253.931044 180.590707 \nL 254.8342 175.099798 \nL 255.737357 187.301818 \nL 256.640513 204.384646 \nL 257.543669 205.604848 \nL 258.446825 204.994747 \nL 259.349981 195.843232 \nL 260.253138 205.604848 \nL 261.156294 182.42101 \nL 262.05945 195.843232 \nL 262.962606 201.334141 \nL 263.865762 205.604848 \nL 264.768919 205.604848 \nL 265.672075 189.742222 \nL 266.575231 194.012929 \nL 267.478387 203.774545 \nL 268.381543 194.62303 \nL 269.2847 184.251313 \nL 270.187856 201.944242 \nL 271.091012 205.604848 \nL 271.994168 197.063434 \nL 272.897324 194.012929 \nL 273.800481 193.402828 \nL 274.703637 191.572525 \nL 275.606793 185.471515 \nL 276.509949 204.384646 \nL 277.413105 205.604848 \nL 278.316261 183.641212 \nL 279.219418 156.186667 \nL 280.122574 198.283636 \nL 281.02573 194.62303 \nL 281.928886 196.453333 \nL 282.832042 204.384646 \nL 283.735199 204.994747 \nL 284.638355 173.879596 \nL 285.541511 177.540202 \nL 286.444667 161.677576 \nL 287.347823 186.081616 \nL 288.25098 201.944242 \nL 289.154136 205.604848 \nL 290.057292 204.384646 \nL 290.960448 197.673535 \nL 291.863604 168.998788 \nL 292.766761 181.200808 \nL 293.669917 205.604848 \nL 294.573073 205.604848 \nL 295.476229 202.554343 \nL 296.379385 204.994747 \nL 297.282541 168.998788 \nL 298.185698 161.067475 \nL 299.088854 165.948283 \nL 300.895166 177.540202 \nL 301.798322 198.283636 \nL 302.701479 203.774545 \nL 303.604635 175.099798 \nL 304.507791 179.370505 \nL 305.410947 175.709899 \nL 306.314103 173.879596 \nL 307.21726 195.843232 \nL 308.120416 205.604848 \nL 309.023572 205.604848 \nL 309.926728 192.182626 \nL 310.829884 160.457374 \nL 311.733041 171.439192 \nL 312.636197 179.980606 \nL 313.539353 148.865455 \nL 314.442509 205.604848 \nL 315.345665 205.604848 \nL 316.248821 167.168485 \nL 317.151978 123.241212 \nL 318.055134 151.305859 \nL 318.95829 203.164444 \nL 320.764602 201.944242 \nL 321.667759 192.792727 \nL 322.570915 190.352323 \nL 323.474071 183.031111 \nL 324.377227 173.269495 \nL 325.280383 178.150303 \nL 326.18354 205.604848 \nL 327.086696 204.994747 \nL 327.989852 202.554343 \nL 328.893008 200.72404 \nL 329.796164 139.713939 \nL 330.699321 153.136162 \nL 331.602477 137.883636 \nL 332.505633 139.713939 \nL 333.408789 184.251313 \nL 334.311945 197.673535 \nL 335.215101 67.72202 \nL 336.118258 91.51596 \nL 337.021414 92.736162 \nL 337.92457 153.746263 \nL 338.827726 151.305859 \nL 339.730882 204.994747 \nL 340.634039 204.994747 \nL 341.537195 202.554343 \nL 342.440351 109.81899 \nL 343.343507 147.035152 \nL 344.246663 140.32404 \nL 345.14982 101.277576 \nL 346.052976 203.774545 \nL 346.956132 204.384646 \nL 347.859288 62.841212 \nL 348.762444 37.21697 \nL 349.665601 103.107879 \nL 350.568757 67.72202 \nL 351.471913 205.604848 \nL 352.375069 131.172525 \nL 353.278225 205.604848 \nL 354.181382 79.92404 \nL 355.084538 17.083636 \nL 355.987694 106.768485 \nL 356.89085 154.356364 \nL 357.794006 166.558384 \nL 358.697162 204.384646 \nL 359.600319 200.72404 \nL 360.503475 171.439192 \nL 361.406631 17.083636 \nL 362.309787 124.461414 \nL 363.212943 108.598788 \nL 364.1161 167.778586 \nL 365.019256 205.604848 \nL 365.922412 204.384646 \nL 366.825568 197.673535 \nL 366.825568 197.673535 \n\" style=\"fill:none;stroke:#1f77b4;stroke-linecap:square;stroke-width:1.5;\"/>\n   </g>\n   <g id=\"patch_3\">\n    <path d=\"M 47.24375 224.64 \nL 47.24375 7.2 \n\" style=\"fill:none;stroke:#000000;stroke-linecap:square;stroke-linejoin:miter;stroke-width:0.8;\"/>\n   </g>\n   <g id=\"patch_4\">\n    <path d=\"M 382.04375 224.64 \nL 382.04375 7.2 \n\" style=\"fill:none;stroke:#000000;stroke-linecap:square;stroke-linejoin:miter;stroke-width:0.8;\"/>\n   </g>\n   <g id=\"patch_5\">\n    <path d=\"M 47.24375 224.64 \nL 382.04375 224.64 \n\" style=\"fill:none;stroke:#000000;stroke-linecap:square;stroke-linejoin:miter;stroke-width:0.8;\"/>\n   </g>\n   <g id=\"patch_6\">\n    <path d=\"M 47.24375 7.2 \nL 382.04375 7.2 \n\" style=\"fill:none;stroke:#000000;stroke-linecap:square;stroke-linejoin:miter;stroke-width:0.8;\"/>\n   </g>\n  </g>\n </g>\n <defs>\n  <clipPath id=\"p01b626703b\">\n   <rect height=\"217.44\" width=\"334.8\" x=\"47.24375\" y=\"7.2\"/>\n  </clipPath>\n </defs>\n</svg>\n",
      "image/png": "[encoded data removed]"
     },
     "metadata": {
      "needs_background": "light"
     }
    }
   ],
   "source": [
    "death_state = death_by_state(\"AL\")\n",
    "sns.lineplot(x=\"id\", y=\"daily_death_count\", data=death_state) "
   ]
  },
  {
   "cell_type": "code",
   "execution_count": 70,
   "metadata": {},
   "outputs": [
    {
     "output_type": "display_data",
     "data": {
      "application/vnd.plotly.v1+json": {
       "config": {
        "plotlyServerURL": "https://plot.ly"
       },
       "data": [
        {
         "colorbar": {
          "title": {
           "text": "Thousands"
          }
         },
         "colorscale": [
          [
           0,
           "rgb(247,251,255)"
          ],
          [
           0.125,
           "rgb(222,235,247)"
          ],
          [
           0.25,
           "rgb(198,219,239)"
          ],
          [
           0.375,
           "rgb(158,202,225)"
          ],
          [
           0.5,
           "rgb(107,174,214)"
          ],
          [
           0.625,
           "rgb(66,146,198)"
          ],
          [
           0.75,
           "rgb(33,113,181)"
          ],
          [
           0.875,
           "rgb(8,81,156)"
          ],
          [
           1,
           "rgb(8,48,107)"
          ]
         ],
         "locationmode": "USA-states",
         "locations": [
          "AK",
          "AL",
          "AR",
          "AS",
          "AZ",
          "CA",
          "CO",
          "CT",
          "DC",
          "DE",
          "FL",
          "GA",
          "GU",
          "HI",
          "IA",
          "ID",
          "IL",
          "IN",
          "KS",
          "KY",
          "LA",
          "MA",
          "MD",
          "ME",
          "MI",
          "MN",
          "MO",
          "MP",
          "MS",
          "MT",
          "NC",
          "ND",
          "NE",
          "NH",
          "NJ",
          "NM",
          "NV",
          "NY",
          "OH",
          "OK",
          "OR",
          "PA",
          "PR",
          "RI",
          "SC",
          "SD",
          "TN",
          "TX",
          "UT",
          "VA",
          "VI",
          "VT",
          "WA",
          "WI",
          "WV",
          "WY"
         ],
         "type": "choropleth",
         "z": [
          287,
          9257,
          5287,
          0,
          14981,
          47107,
          5828,
          7449,
          982,
          1291,
          29659,
          16174,
          130,
          426,
          5263,
          1803,
          22199,
          12231,
          4406,
          4318,
          9325,
          15567,
          7612,
          651,
          16149,
          6380,
          7458,
          2,
          6501,
          1331,
          10562,
          1461,
          2004,
          1136,
          22497,
          3550,
          4733,
          37328,
          16453,
          4061,
          2137,
          23126,
          1924,
          2344,
          8055,
          1844,
          10954,
          40645,
          1797,
          7037,
          25,
          191,
          4675,
          6788,
          2216,
          662
         ]
        }
       ],
       "layout": {
        "geo": {
         "scope": "usa"
        },
        "template": {
         "data": {
          "bar": [
           {
            "error_x": {
             "color": "#2a3f5f"
            },
            "error_y": {
             "color": "#2a3f5f"
            },
            "marker": {
             "line": {
              "color": "#E5ECF6",
              "width": 0.5
             }
            },
            "type": "bar"
           }
          ],
          "barpolar": [
           {
            "marker": {
             "line": {
              "color": "#E5ECF6",
              "width": 0.5
             }
            },
            "type": "barpolar"
           }
          ],
          "carpet": [
           {
            "aaxis": {
             "endlinecolor": "#2a3f5f",
             "gridcolor": "white",
             "linecolor": "white",
             "minorgridcolor": "white",
             "startlinecolor": "#2a3f5f"
            },
            "baxis": {
             "endlinecolor": "#2a3f5f",
             "gridcolor": "white",
             "linecolor": "white",
             "minorgridcolor": "white",
             "startlinecolor": "#2a3f5f"
            },
            "type": "carpet"
           }
          ],
          "choropleth": [
           {
            "colorbar": {
             "outlinewidth": 0,
             "ticks": ""
            },
            "type": "choropleth"
           }
          ],
          "contour": [
           {
            "colorbar": {
             "outlinewidth": 0,
             "ticks": ""
            },
            "colorscale": [
             [
              0,
              "#0d0887"
             ],
             [
              0.1111111111111111,
              "#46039f"
             ],
             [
              0.2222222222222222,
              "#7201a8"
             ],
             [
              0.3333333333333333,
              "#9c179e"
             ],
             [
              0.4444444444444444,
              "#bd3786"
             ],
             [
              0.5555555555555556,
              "#d8576b"
             ],
             [
              0.6666666666666666,
              "#ed7953"
             ],
             [
              0.7777777777777778,
              "#fb9f3a"
             ],
             [
              0.8888888888888888,
              "#fdca26"
             ],
             [
              1,
              "#f0f921"
             ]
            ],
            "type": "contour"
           }
          ],
          "contourcarpet": [
           {
            "colorbar": {
             "outlinewidth": 0,
             "ticks": ""
            },
            "type": "contourcarpet"
           }
          ],
          "heatmap": [
           {
            "colorbar": {
             "outlinewidth": 0,
             "ticks": ""
            },
            "colorscale": [
             [
              0,
              "#0d0887"
             ],
             [
              0.1111111111111111,
              "#46039f"
             ],
             [
              0.2222222222222222,
              "#7201a8"
             ],
             [
              0.3333333333333333,
              "#9c179e"
             ],
             [
              0.4444444444444444,
              "#bd3786"
             ],
             [
              0.5555555555555556,
              "#d8576b"
             ],
             [
              0.6666666666666666,
              "#ed7953"
             ],
             [
              0.7777777777777778,
              "#fb9f3a"
             ],
             [
              0.8888888888888888,
              "#fdca26"
             ],
             [
              1,
              "#f0f921"
             ]
            ],
            "type": "heatmap"
           }
          ],
          "heatmapgl": [
           {
            "colorbar": {
             "outlinewidth": 0,
             "ticks": ""
            },
            "colorscale": [
             [
              0,
              "#0d0887"
             ],
             [
              0.1111111111111111,
              "#46039f"
             ],
             [
              0.2222222222222222,
              "#7201a8"
             ],
             [
              0.3333333333333333,
              "#9c179e"
             ],
             [
              0.4444444444444444,
              "#bd3786"
             ],
             [
              0.5555555555555556,
              "#d8576b"
             ],
             [
              0.6666666666666666,
              "#ed7953"
             ],
             [
              0.7777777777777778,
              "#fb9f3a"
             ],
             [
              0.8888888888888888,
              "#fdca26"
             ],
             [
              1,
              "#f0f921"
             ]
            ],
            "type": "heatmapgl"
           }
          ],
          "histogram": [
           {
            "marker": {
             "colorbar": {
              "outlinewidth": 0,
              "ticks": ""
             }
            },
            "type": "histogram"
           }
          ],
          "histogram2d": [
           {
            "colorbar": {
             "outlinewidth": 0,
             "ticks": ""
            },
            "colorscale": [
             [
              0,
              "#0d0887"
             ],
             [
              0.1111111111111111,
              "#46039f"
             ],
             [
              0.2222222222222222,
              "#7201a8"
             ],
             [
              0.3333333333333333,
              "#9c179e"
             ],
             [
              0.4444444444444444,
              "#bd3786"
             ],
             [
              0.5555555555555556,
              "#d8576b"
             ],
             [
              0.6666666666666666,
              "#ed7953"
             ],
             [
              0.7777777777777778,
              "#fb9f3a"
             ],
             [
              0.8888888888888888,
              "#fdca26"
             ],
             [
              1,
              "#f0f921"
             ]
            ],
            "type": "histogram2d"
           }
          ],
          "histogram2dcontour": [
           {
            "colorbar": {
             "outlinewidth": 0,
             "ticks": ""
            },
            "colorscale": [
             [
              0,
              "#0d0887"
             ],
             [
              0.1111111111111111,
              "#46039f"
             ],
             [
              0.2222222222222222,
              "#7201a8"
             ],
             [
              0.3333333333333333,
              "#9c179e"
             ],
             [
              0.4444444444444444,
              "#bd3786"
             ],
             [
              0.5555555555555556,
              "#d8576b"
             ],
             [
              0.6666666666666666,
              "#ed7953"
             ],
             [
              0.7777777777777778,
              "#fb9f3a"
             ],
             [
              0.8888888888888888,
              "#fdca26"
             ],
             [
              1,
              "#f0f921"
             ]
            ],
            "type": "histogram2dcontour"
           }
          ],
          "mesh3d": [
           {
            "colorbar": {
             "outlinewidth": 0,
             "ticks": ""
            },
            "type": "mesh3d"
           }
          ],
          "parcoords": [
           {
            "line": {
             "colorbar": {
              "outlinewidth": 0,
              "ticks": ""
             }
            },
            "type": "parcoords"
           }
          ],
          "pie": [
           {
            "automargin": true,
            "type": "pie"
           }
          ],
          "scatter": [
           {
            "marker": {
             "colorbar": {
              "outlinewidth": 0,
              "ticks": ""
             }
            },
            "type": "scatter"
           }
          ],
          "scatter3d": [
           {
            "line": {
             "colorbar": {
              "outlinewidth": 0,
              "ticks": ""
             }
            },
            "marker": {
             "colorbar": {
              "outlinewidth": 0,
              "ticks": ""
             }
            },
            "type": "scatter3d"
           }
          ],
          "scattercarpet": [
           {
            "marker": {
             "colorbar": {
              "outlinewidth": 0,
              "ticks": ""
             }
            },
            "type": "scattercarpet"
           }
          ],
          "scattergeo": [
           {
            "marker": {
             "colorbar": {
              "outlinewidth": 0,
              "ticks": ""
             }
            },
            "type": "scattergeo"
           }
          ],
          "scattergl": [
           {
            "marker": {
             "colorbar": {
              "outlinewidth": 0,
              "ticks": ""
             }
            },
            "type": "scattergl"
           }
          ],
          "scattermapbox": [
           {
            "marker": {
             "colorbar": {
              "outlinewidth": 0,
              "ticks": ""
             }
            },
            "type": "scattermapbox"
           }
          ],
          "scatterpolar": [
           {
            "marker": {
             "colorbar": {
              "outlinewidth": 0,
              "ticks": ""
             }
            },
            "type": "scatterpolar"
           }
          ],
          "scatterpolargl": [
           {
            "marker": {
             "colorbar": {
              "outlinewidth": 0,
              "ticks": ""
             }
            },
            "type": "scatterpolargl"
           }
          ],
          "scatterternary": [
           {
            "marker": {
             "colorbar": {
              "outlinewidth": 0,
              "ticks": ""
             }
            },
            "type": "scatterternary"
           }
          ],
          "surface": [
           {
            "colorbar": {
             "outlinewidth": 0,
             "ticks": ""
            },
            "colorscale": [
             [
              0,
              "#0d0887"
             ],
             [
              0.1111111111111111,
              "#46039f"
             ],
             [
              0.2222222222222222,
              "#7201a8"
             ],
             [
              0.3333333333333333,
              "#9c179e"
             ],
             [
              0.4444444444444444,
              "#bd3786"
             ],
             [
              0.5555555555555556,
              "#d8576b"
             ],
             [
              0.6666666666666666,
              "#ed7953"
             ],
             [
              0.7777777777777778,
              "#fb9f3a"
             ],
             [
              0.8888888888888888,
              "#fdca26"
             ],
             [
              1,
              "#f0f921"
             ]
            ],
            "type": "surface"
           }
          ],
          "table": [
           {
            "cells": {
             "fill": {
              "color": "#EBF0F8"
             },
             "line": {
              "color": "white"
             }
            },
            "header": {
             "fill": {
              "color": "#C8D4E3"
             },
             "line": {
              "color": "white"
             }
            },
            "type": "table"
           }
          ]
         },
         "layout": {
          "annotationdefaults": {
           "arrowcolor": "#2a3f5f",
           "arrowhead": 0,
           "arrowwidth": 1
          },
          "autotypenumbers": "strict",
          "coloraxis": {
           "colorbar": {
            "outlinewidth": 0,
            "ticks": ""
           }
          },
          "colorscale": {
           "diverging": [
            [
             0,
             "#8e0152"
            ],
            [
             0.1,
             "#c51b7d"
            ],
            [
             0.2,
             "#de77ae"
            ],
            [
             0.3,
             "#f1b6da"
            ],
            [
             0.4,
             "#fde0ef"
            ],
            [
             0.5,
             "#f7f7f7"
            ],
            [
             0.6,
             "#e6f5d0"
            ],
            [
             0.7,
             "#b8e186"
            ],
            [
             0.8,
             "#7fbc41"
            ],
            [
             0.9,
             "#4d9221"
            ],
            [
             1,
             "#276419"
            ]
           ],
           "sequential": [
            [
             0,
             "#0d0887"
            ],
            [
             0.1111111111111111,
             "#46039f"
            ],
            [
             0.2222222222222222,
             "#7201a8"
            ],
            [
             0.3333333333333333,
             "#9c179e"
            ],
            [
             0.4444444444444444,
             "#bd3786"
            ],
            [
             0.5555555555555556,
             "#d8576b"
            ],
            [
             0.6666666666666666,
             "#ed7953"
            ],
            [
             0.7777777777777778,
             "#fb9f3a"
            ],
            [
             0.8888888888888888,
             "#fdca26"
            ],
            [
             1,
             "#f0f921"
            ]
           ],
           "sequentialminus": [
            [
             0,
             "#0d0887"
            ],
            [
             0.1111111111111111,
             "#46039f"
            ],
            [
             0.2222222222222222,
             "#7201a8"
            ],
            [
             0.3333333333333333,
             "#9c179e"
            ],
            [
             0.4444444444444444,
             "#bd3786"
            ],
            [
             0.5555555555555556,
             "#d8576b"
            ],
            [
             0.6666666666666666,
             "#ed7953"
            ],
            [
             0.7777777777777778,
             "#fb9f3a"
            ],
            [
             0.8888888888888888,
             "#fdca26"
            ],
            [
             1,
             "#f0f921"
            ]
           ]
          },
          "colorway": [
           "#636efa",
           "#EF553B",
           "#00cc96",
           "#ab63fa",
           "#FFA15A",
           "#19d3f3",
           "#FF6692",
           "#B6E880",
           "#FF97FF",
           "#FECB52"
          ],
          "font": {
           "color": "#2a3f5f"
          },
          "geo": {
           "bgcolor": "white",
           "lakecolor": "white",
           "landcolor": "#E5ECF6",
           "showlakes": true,
           "showland": true,
           "subunitcolor": "white"
          },
          "hoverlabel": {
           "align": "left"
          },
          "hovermode": "closest",
          "mapbox": {
           "style": "light"
          },
          "paper_bgcolor": "white",
          "plot_bgcolor": "#E5ECF6",
          "polar": {
           "angularaxis": {
            "gridcolor": "white",
            "linecolor": "white",
            "ticks": ""
           },
           "bgcolor": "#E5ECF6",
           "radialaxis": {
            "gridcolor": "white",
            "linecolor": "white",
            "ticks": ""
           }
          },
          "scene": {
           "xaxis": {
            "backgroundcolor": "#E5ECF6",
            "gridcolor": "white",
            "gridwidth": 2,
            "linecolor": "white",
            "showbackground": true,
            "ticks": "",
            "zerolinecolor": "white"
           },
           "yaxis": {
            "backgroundcolor": "#E5ECF6",
            "gridcolor": "white",
            "gridwidth": 2,
            "linecolor": "white",
            "showbackground": true,
            "ticks": "",
            "zerolinecolor": "white"
           },
           "zaxis": {
            "backgroundcolor": "#E5ECF6",
            "gridcolor": "white",
            "gridwidth": 2,
            "linecolor": "white",
            "showbackground": true,
            "ticks": "",
            "zerolinecolor": "white"
           }
          },
          "shapedefaults": {
           "line": {
            "color": "#2a3f5f"
           }
          },
          "ternary": {
           "aaxis": {
            "gridcolor": "white",
            "linecolor": "white",
            "ticks": ""
           },
           "baxis": {
            "gridcolor": "white",
            "linecolor": "white",
            "ticks": ""
           },
           "bgcolor": "#E5ECF6",
           "caxis": {
            "gridcolor": "white",
            "linecolor": "white",
            "ticks": ""
           }
          },
          "title": {
           "x": 0.05
          },
          "xaxis": {
           "automargin": true,
           "gridcolor": "white",
           "linecolor": "white",
           "ticks": "",
           "title": {
            "standoff": 15
           },
           "zerolinecolor": "white",
           "zerolinewidth": 2
          },
          "yaxis": {
           "automargin": true,
           "gridcolor": "white",
           "linecolor": "white",
           "ticks": "",
           "title": {
            "standoff": 15
           },
           "zerolinecolor": "white",
           "zerolinewidth": 2
          }
         }
        },
        "title": {
         "text": "Covid death by states"
        }
       }
      }
     },
     "metadata": {}
    }
   ],
   "source": [
    "death_data_by_state_ = data[['state', 'death']].dropna()\n",
    "death_data_by_state_ = death_data_by_state_.groupby(['state'], sort=False)['death'].max().reset_index()\n",
    "\n",
    "fig = go.Figure(data=go.Choropleth(\n",
    "    locations=death_data_by_state_['state'], # Spatial coordinates\n",
    "    z = death_data_by_state_['death'].astype(float), # Data to be color-coded\n",
    "    locationmode = 'USA-states', # set of locations match entries in `locations`\n",
    "    colorscale = 'Blues',\n",
    "    colorbar_title = \"Thousands\",\n",
    "))\n",
    "\n",
    "fig.update_layout(\n",
    "    title_text = 'Covid death by states',\n",
    "    geo_scope='usa', # limite map scope to USA\n",
    ")\n",
    "\n",
    "fig.show()\n"
   ]
  },
  {
   "cell_type": "code",
   "execution_count": 71,
   "metadata": {},
   "outputs": [
    {
     "output_type": "display_data",
     "data": {
      "text/plain": "  state  positive  recovered    death\n0    AL  482488.0   264621.0   9257.0\n1    AR  313525.0   299107.0   5287.0\n2    AZ  799740.0   112430.0  14981.0\n3    CO  415037.0    22017.0   5828.0\n4    CT  270822.0     9800.0   7449.0",
      "text/html": "<div>\n<style scoped>\n    .dataframe tbody tr th:only-of-type {\n        vertical-align: middle;\n    }\n\n    .dataframe tbody tr th {\n        vertical-align: top;\n    }\n\n    .dataframe thead th {\n        text-align: right;\n    }\n</style>\n<table border=\"1\" class=\"dataframe\">\n  <thead>\n    <tr style=\"text-align: right;\">\n      <th></th>\n      <th>state</th>\n      <th>positive</th>\n      <th>recovered</th>\n      <th>death</th>\n    </tr>\n  </thead>\n  <tbody>\n    <tr>\n      <th>0</th>\n      <td>AL</td>\n      <td>482488.0</td>\n      <td>264621.0</td>\n      <td>9257.0</td>\n    </tr>\n    <tr>\n      <th>1</th>\n      <td>AR</td>\n      <td>313525.0</td>\n      <td>299107.0</td>\n      <td>5287.0</td>\n    </tr>\n    <tr>\n      <th>2</th>\n      <td>AZ</td>\n      <td>799740.0</td>\n      <td>112430.0</td>\n      <td>14981.0</td>\n    </tr>\n    <tr>\n      <th>3</th>\n      <td>CO</td>\n      <td>415037.0</td>\n      <td>22017.0</td>\n      <td>5828.0</td>\n    </tr>\n    <tr>\n      <th>4</th>\n      <td>CT</td>\n      <td>270822.0</td>\n      <td>9800.0</td>\n      <td>7449.0</td>\n    </tr>\n  </tbody>\n</table>\n</div>"
     },
     "metadata": {}
    },
    {
     "output_type": "display_data",
     "data": {
      "text/plain": "(0.830702163153482, 2.779510166612449e-13)"
     },
     "metadata": {}
    },
    {
     "output_type": "display_data",
     "data": {
      "text/plain": "<Figure size 432x288 with 1 Axes>",
      "image/svg+xml": "<?xml version=\"1.0\" encoding=\"utf-8\" standalone=\"no\"?>\n<!DOCTYPE svg PUBLIC \"-//W3C//DTD SVG 1.1//EN\"\n  \"http://www.w3.org/Graphics/SVG/1.1/DTD/svg11.dtd\">\n<!-- Created with matplotlib (https://matplotlib.org/) -->\n<svg height=\"262.19625pt\" version=\"1.1\" viewBox=\"0 0 385.78125 262.19625\" width=\"385.78125pt\" xmlns=\"http://www.w3.org/2000/svg\" xmlns:xlink=\"http://www.w3.org/1999/xlink\">\n <metadata>\n  <rdf:RDF xmlns:cc=\"http://creativecommons.org/ns#\" xmlns:dc=\"http://purl.org/dc/elements/1.1/\" xmlns:rdf=\"http://www.w3.org/1999/02/22-rdf-syntax-ns#\">\n   <cc:Work>\n    <dc:type rdf:resource=\"http://purl.org/dc/dcmitype/StillImage\"/>\n    <dc:date>2021-02-17T13:15:37.172320</dc:date>\n    <dc:format>image/svg+xml</dc:format>\n    <dc:creator>\n     <cc:Agent>\n      <dc:title>Matplotlib v3.3.4, https://matplotlib.org/</dc:title>\n     </cc:Agent>\n    </dc:creator>\n   </cc:Work>\n  </rdf:RDF>\n </metadata>\n <defs>\n  <style type=\"text/css\">*{stroke-linecap:butt;stroke-linejoin:round;}</style>\n </defs>\n <g id=\"figure_1\">\n  <g id=\"patch_1\">\n   <path d=\"M 0 262.19625 \nL 385.78125 262.19625 \nL 385.78125 0 \nL 0 0 \nz\n\" style=\"fill:none;\"/>\n  </g>\n  <g id=\"axes_1\">\n   <g id=\"patch_2\">\n    <path d=\"M 43.78125 224.64 \nL 378.58125 224.64 \nL 378.58125 7.2 \nL 43.78125 7.2 \nz\n\" style=\"fill:#ffffff;\"/>\n   </g>\n   <g id=\"matplotlib.axis_1\">\n    <g id=\"xtick_1\">\n     <g id=\"line2d_1\">\n      <defs>\n       <path d=\"M 0 0 \nL 0 3.5 \n\" id=\"me10ca672b1\" style=\"stroke:#000000;stroke-width:0.8;\"/>\n      </defs>\n      <g>\n       <use style=\"stroke:#000000;stroke-width:0.8;\" x=\"68.141819\" xlink:href=\"#me10ca672b1\" y=\"224.64\"/>\n      </g>\n     </g>\n     <g id=\"text_1\">\n      <!-- −2 -->\n      <g transform=\"translate(60.770725 239.238437)scale(0.1 -0.1)\">\n       <defs>\n        <path d=\"M 10.59375 35.5 \nL 73.1875 35.5 \nL 73.1875 27.203125 \nL 10.59375 27.203125 \nz\n\" id=\"DejaVuSans-8722\"/>\n        <path d=\"M 19.1875 8.296875 \nL 53.609375 8.296875 \nL 53.609375 0 \nL 7.328125 0 \nL 7.328125 8.296875 \nQ 12.9375 14.109375 22.625 23.890625 \nQ 32.328125 33.6875 34.8125 36.53125 \nQ 39.546875 41.84375 41.421875 45.53125 \nQ 43.3125 49.21875 43.3125 52.78125 \nQ 43.3125 58.59375 39.234375 62.25 \nQ 35.15625 65.921875 28.609375 65.921875 \nQ 23.96875 65.921875 18.8125 64.3125 \nQ 13.671875 62.703125 7.8125 59.421875 \nL 7.8125 69.390625 \nQ 13.765625 71.78125 18.9375 73 \nQ 24.125 74.21875 28.421875 74.21875 \nQ 39.75 74.21875 46.484375 68.546875 \nQ 53.21875 62.890625 53.21875 53.421875 \nQ 53.21875 48.921875 51.53125 44.890625 \nQ 49.859375 40.875 45.40625 35.40625 \nQ 44.1875 33.984375 37.640625 27.21875 \nQ 31.109375 20.453125 19.1875 8.296875 \nz\n\" id=\"DejaVuSans-50\"/>\n       </defs>\n       <use xlink:href=\"#DejaVuSans-8722\"/>\n       <use x=\"83.789062\" xlink:href=\"#DejaVuSans-50\"/>\n      </g>\n     </g>\n    </g>\n    <g id=\"xtick_2\">\n     <g id=\"line2d_2\">\n      <g>\n       <use style=\"stroke:#000000;stroke-width:0.8;\" x=\"135.555568\" xlink:href=\"#me10ca672b1\" y=\"224.64\"/>\n      </g>\n     </g>\n     <g id=\"text_2\">\n      <!-- 0 -->\n      <g transform=\"translate(132.374318 239.238437)scale(0.1 -0.1)\">\n       <defs>\n        <path d=\"M 31.78125 66.40625 \nQ 24.171875 66.40625 20.328125 58.90625 \nQ 16.5 51.421875 16.5 36.375 \nQ 16.5 21.390625 20.328125 13.890625 \nQ 24.171875 6.390625 31.78125 6.390625 \nQ 39.453125 6.390625 43.28125 13.890625 \nQ 47.125 21.390625 47.125 36.375 \nQ 47.125 51.421875 43.28125 58.90625 \nQ 39.453125 66.40625 31.78125 66.40625 \nz\nM 31.78125 74.21875 \nQ 44.046875 74.21875 50.515625 64.515625 \nQ 56.984375 54.828125 56.984375 36.375 \nQ 56.984375 17.96875 50.515625 8.265625 \nQ 44.046875 -1.421875 31.78125 -1.421875 \nQ 19.53125 -1.421875 13.0625 8.265625 \nQ 6.59375 17.96875 6.59375 36.375 \nQ 6.59375 54.828125 13.0625 64.515625 \nQ 19.53125 74.21875 31.78125 74.21875 \nz\n\" id=\"DejaVuSans-48\"/>\n       </defs>\n       <use xlink:href=\"#DejaVuSans-48\"/>\n      </g>\n     </g>\n    </g>\n    <g id=\"xtick_3\">\n     <g id=\"line2d_3\">\n      <g>\n       <use style=\"stroke:#000000;stroke-width:0.8;\" x=\"202.969316\" xlink:href=\"#me10ca672b1\" y=\"224.64\"/>\n      </g>\n     </g>\n     <g id=\"text_3\">\n      <!-- 2 -->\n      <g transform=\"translate(199.788066 239.238437)scale(0.1 -0.1)\">\n       <use xlink:href=\"#DejaVuSans-50\"/>\n      </g>\n     </g>\n    </g>\n    <g id=\"xtick_4\">\n     <g id=\"line2d_4\">\n      <g>\n       <use style=\"stroke:#000000;stroke-width:0.8;\" x=\"270.383065\" xlink:href=\"#me10ca672b1\" y=\"224.64\"/>\n      </g>\n     </g>\n     <g id=\"text_4\">\n      <!-- 4 -->\n      <g transform=\"translate(267.201815 239.238437)scale(0.1 -0.1)\">\n       <defs>\n        <path d=\"M 37.796875 64.3125 \nL 12.890625 25.390625 \nL 37.796875 25.390625 \nz\nM 35.203125 72.90625 \nL 47.609375 72.90625 \nL 47.609375 25.390625 \nL 58.015625 25.390625 \nL 58.015625 17.1875 \nL 47.609375 17.1875 \nL 47.609375 0 \nL 37.796875 0 \nL 37.796875 17.1875 \nL 4.890625 17.1875 \nL 4.890625 26.703125 \nz\n\" id=\"DejaVuSans-52\"/>\n       </defs>\n       <use xlink:href=\"#DejaVuSans-52\"/>\n      </g>\n     </g>\n    </g>\n    <g id=\"xtick_5\">\n     <g id=\"line2d_5\">\n      <g>\n       <use style=\"stroke:#000000;stroke-width:0.8;\" x=\"337.796814\" xlink:href=\"#me10ca672b1\" y=\"224.64\"/>\n      </g>\n     </g>\n     <g id=\"text_5\">\n      <!-- 6 -->\n      <g transform=\"translate(334.615564 239.238437)scale(0.1 -0.1)\">\n       <defs>\n        <path d=\"M 33.015625 40.375 \nQ 26.375 40.375 22.484375 35.828125 \nQ 18.609375 31.296875 18.609375 23.390625 \nQ 18.609375 15.53125 22.484375 10.953125 \nQ 26.375 6.390625 33.015625 6.390625 \nQ 39.65625 6.390625 43.53125 10.953125 \nQ 47.40625 15.53125 47.40625 23.390625 \nQ 47.40625 31.296875 43.53125 35.828125 \nQ 39.65625 40.375 33.015625 40.375 \nz\nM 52.59375 71.296875 \nL 52.59375 62.3125 \nQ 48.875 64.0625 45.09375 64.984375 \nQ 41.3125 65.921875 37.59375 65.921875 \nQ 27.828125 65.921875 22.671875 59.328125 \nQ 17.53125 52.734375 16.796875 39.40625 \nQ 19.671875 43.65625 24.015625 45.921875 \nQ 28.375 48.1875 33.59375 48.1875 \nQ 44.578125 48.1875 50.953125 41.515625 \nQ 57.328125 34.859375 57.328125 23.390625 \nQ 57.328125 12.15625 50.6875 5.359375 \nQ 44.046875 -1.421875 33.015625 -1.421875 \nQ 20.359375 -1.421875 13.671875 8.265625 \nQ 6.984375 17.96875 6.984375 36.375 \nQ 6.984375 53.65625 15.1875 63.9375 \nQ 23.390625 74.21875 37.203125 74.21875 \nQ 40.921875 74.21875 44.703125 73.484375 \nQ 48.484375 72.75 52.59375 71.296875 \nz\n\" id=\"DejaVuSans-54\"/>\n       </defs>\n       <use xlink:href=\"#DejaVuSans-54\"/>\n      </g>\n     </g>\n    </g>\n    <g id=\"text_6\">\n     <!-- death -->\n     <g transform=\"translate(196.7375 252.916562)scale(0.1 -0.1)\">\n      <defs>\n       <path d=\"M 45.40625 46.390625 \nL 45.40625 75.984375 \nL 54.390625 75.984375 \nL 54.390625 0 \nL 45.40625 0 \nL 45.40625 8.203125 \nQ 42.578125 3.328125 38.25 0.953125 \nQ 33.9375 -1.421875 27.875 -1.421875 \nQ 17.96875 -1.421875 11.734375 6.484375 \nQ 5.515625 14.40625 5.515625 27.296875 \nQ 5.515625 40.1875 11.734375 48.09375 \nQ 17.96875 56 27.875 56 \nQ 33.9375 56 38.25 53.625 \nQ 42.578125 51.265625 45.40625 46.390625 \nz\nM 14.796875 27.296875 \nQ 14.796875 17.390625 18.875 11.75 \nQ 22.953125 6.109375 30.078125 6.109375 \nQ 37.203125 6.109375 41.296875 11.75 \nQ 45.40625 17.390625 45.40625 27.296875 \nQ 45.40625 37.203125 41.296875 42.84375 \nQ 37.203125 48.484375 30.078125 48.484375 \nQ 22.953125 48.484375 18.875 42.84375 \nQ 14.796875 37.203125 14.796875 27.296875 \nz\n\" id=\"DejaVuSans-100\"/>\n       <path d=\"M 56.203125 29.59375 \nL 56.203125 25.203125 \nL 14.890625 25.203125 \nQ 15.484375 15.921875 20.484375 11.0625 \nQ 25.484375 6.203125 34.421875 6.203125 \nQ 39.59375 6.203125 44.453125 7.46875 \nQ 49.3125 8.734375 54.109375 11.28125 \nL 54.109375 2.78125 \nQ 49.265625 0.734375 44.1875 -0.34375 \nQ 39.109375 -1.421875 33.890625 -1.421875 \nQ 20.796875 -1.421875 13.15625 6.1875 \nQ 5.515625 13.8125 5.515625 26.8125 \nQ 5.515625 40.234375 12.765625 48.109375 \nQ 20.015625 56 32.328125 56 \nQ 43.359375 56 49.78125 48.890625 \nQ 56.203125 41.796875 56.203125 29.59375 \nz\nM 47.21875 32.234375 \nQ 47.125 39.59375 43.09375 43.984375 \nQ 39.0625 48.390625 32.421875 48.390625 \nQ 24.90625 48.390625 20.390625 44.140625 \nQ 15.875 39.890625 15.1875 32.171875 \nz\n\" id=\"DejaVuSans-101\"/>\n       <path d=\"M 34.28125 27.484375 \nQ 23.390625 27.484375 19.1875 25 \nQ 14.984375 22.515625 14.984375 16.5 \nQ 14.984375 11.71875 18.140625 8.90625 \nQ 21.296875 6.109375 26.703125 6.109375 \nQ 34.1875 6.109375 38.703125 11.40625 \nQ 43.21875 16.703125 43.21875 25.484375 \nL 43.21875 27.484375 \nz\nM 52.203125 31.203125 \nL 52.203125 0 \nL 43.21875 0 \nL 43.21875 8.296875 \nQ 40.140625 3.328125 35.546875 0.953125 \nQ 30.953125 -1.421875 24.3125 -1.421875 \nQ 15.921875 -1.421875 10.953125 3.296875 \nQ 6 8.015625 6 15.921875 \nQ 6 25.140625 12.171875 29.828125 \nQ 18.359375 34.515625 30.609375 34.515625 \nL 43.21875 34.515625 \nL 43.21875 35.40625 \nQ 43.21875 41.609375 39.140625 45 \nQ 35.0625 48.390625 27.6875 48.390625 \nQ 23 48.390625 18.546875 47.265625 \nQ 14.109375 46.140625 10.015625 43.890625 \nL 10.015625 52.203125 \nQ 14.9375 54.109375 19.578125 55.046875 \nQ 24.21875 56 28.609375 56 \nQ 40.484375 56 46.34375 49.84375 \nQ 52.203125 43.703125 52.203125 31.203125 \nz\n\" id=\"DejaVuSans-97\"/>\n       <path d=\"M 18.3125 70.21875 \nL 18.3125 54.6875 \nL 36.8125 54.6875 \nL 36.8125 47.703125 \nL 18.3125 47.703125 \nL 18.3125 18.015625 \nQ 18.3125 11.328125 20.140625 9.421875 \nQ 21.96875 7.515625 27.59375 7.515625 \nL 36.8125 7.515625 \nL 36.8125 0 \nL 27.59375 0 \nQ 17.1875 0 13.234375 3.875 \nQ 9.28125 7.765625 9.28125 18.015625 \nL 9.28125 47.703125 \nL 2.6875 47.703125 \nL 2.6875 54.6875 \nL 9.28125 54.6875 \nL 9.28125 70.21875 \nz\n\" id=\"DejaVuSans-116\"/>\n       <path d=\"M 54.890625 33.015625 \nL 54.890625 0 \nL 45.90625 0 \nL 45.90625 32.71875 \nQ 45.90625 40.484375 42.875 44.328125 \nQ 39.84375 48.1875 33.796875 48.1875 \nQ 26.515625 48.1875 22.3125 43.546875 \nQ 18.109375 38.921875 18.109375 30.90625 \nL 18.109375 0 \nL 9.078125 0 \nL 9.078125 75.984375 \nL 18.109375 75.984375 \nL 18.109375 46.1875 \nQ 21.34375 51.125 25.703125 53.5625 \nQ 30.078125 56 35.796875 56 \nQ 45.21875 56 50.046875 50.171875 \nQ 54.890625 44.34375 54.890625 33.015625 \nz\n\" id=\"DejaVuSans-104\"/>\n      </defs>\n      <use xlink:href=\"#DejaVuSans-100\"/>\n      <use x=\"63.476562\" xlink:href=\"#DejaVuSans-101\"/>\n      <use x=\"125\" xlink:href=\"#DejaVuSans-97\"/>\n      <use x=\"186.279297\" xlink:href=\"#DejaVuSans-116\"/>\n      <use x=\"225.488281\" xlink:href=\"#DejaVuSans-104\"/>\n     </g>\n    </g>\n   </g>\n   <g id=\"matplotlib.axis_2\">\n    <g id=\"ytick_1\">\n     <g id=\"line2d_6\">\n      <defs>\n       <path d=\"M 0 0 \nL -3.5 0 \n\" id=\"m6577372338\" style=\"stroke:#000000;stroke-width:0.8;\"/>\n      </defs>\n      <g>\n       <use style=\"stroke:#000000;stroke-width:0.8;\" x=\"43.78125\" xlink:href=\"#m6577372338\" y=\"224.64\"/>\n      </g>\n     </g>\n     <g id=\"text_7\">\n      <!-- 0.0 -->\n      <g transform=\"translate(20.878125 228.439219)scale(0.1 -0.1)\">\n       <defs>\n        <path d=\"M 10.6875 12.40625 \nL 21 12.40625 \nL 21 0 \nL 10.6875 0 \nz\n\" id=\"DejaVuSans-46\"/>\n       </defs>\n       <use xlink:href=\"#DejaVuSans-48\"/>\n       <use x=\"63.623047\" xlink:href=\"#DejaVuSans-46\"/>\n       <use x=\"95.410156\" xlink:href=\"#DejaVuSans-48\"/>\n      </g>\n     </g>\n    </g>\n    <g id=\"ytick_2\">\n     <g id=\"line2d_7\">\n      <g>\n       <use style=\"stroke:#000000;stroke-width:0.8;\" x=\"43.78125\" xlink:href=\"#m6577372338\" y=\"193.444802\"/>\n      </g>\n     </g>\n     <g id=\"text_8\">\n      <!-- 0.1 -->\n      <g transform=\"translate(20.878125 197.244021)scale(0.1 -0.1)\">\n       <defs>\n        <path d=\"M 12.40625 8.296875 \nL 28.515625 8.296875 \nL 28.515625 63.921875 \nL 10.984375 60.40625 \nL 10.984375 69.390625 \nL 28.421875 72.90625 \nL 38.28125 72.90625 \nL 38.28125 8.296875 \nL 54.390625 8.296875 \nL 54.390625 0 \nL 12.40625 0 \nz\n\" id=\"DejaVuSans-49\"/>\n       </defs>\n       <use xlink:href=\"#DejaVuSans-48\"/>\n       <use x=\"63.623047\" xlink:href=\"#DejaVuSans-46\"/>\n       <use x=\"95.410156\" xlink:href=\"#DejaVuSans-49\"/>\n      </g>\n     </g>\n    </g>\n    <g id=\"ytick_3\">\n     <g id=\"line2d_8\">\n      <g>\n       <use style=\"stroke:#000000;stroke-width:0.8;\" x=\"43.78125\" xlink:href=\"#m6577372338\" y=\"162.249605\"/>\n      </g>\n     </g>\n     <g id=\"text_9\">\n      <!-- 0.2 -->\n      <g transform=\"translate(20.878125 166.048824)scale(0.1 -0.1)\">\n       <use xlink:href=\"#DejaVuSans-48\"/>\n       <use x=\"63.623047\" xlink:href=\"#DejaVuSans-46\"/>\n       <use x=\"95.410156\" xlink:href=\"#DejaVuSans-50\"/>\n      </g>\n     </g>\n    </g>\n    <g id=\"ytick_4\">\n     <g id=\"line2d_9\">\n      <g>\n       <use style=\"stroke:#000000;stroke-width:0.8;\" x=\"43.78125\" xlink:href=\"#m6577372338\" y=\"131.054407\"/>\n      </g>\n     </g>\n     <g id=\"text_10\">\n      <!-- 0.3 -->\n      <g transform=\"translate(20.878125 134.853626)scale(0.1 -0.1)\">\n       <defs>\n        <path d=\"M 40.578125 39.3125 \nQ 47.65625 37.796875 51.625 33 \nQ 55.609375 28.21875 55.609375 21.1875 \nQ 55.609375 10.40625 48.1875 4.484375 \nQ 40.765625 -1.421875 27.09375 -1.421875 \nQ 22.515625 -1.421875 17.65625 -0.515625 \nQ 12.796875 0.390625 7.625 2.203125 \nL 7.625 11.71875 \nQ 11.71875 9.328125 16.59375 8.109375 \nQ 21.484375 6.890625 26.8125 6.890625 \nQ 36.078125 6.890625 40.9375 10.546875 \nQ 45.796875 14.203125 45.796875 21.1875 \nQ 45.796875 27.640625 41.28125 31.265625 \nQ 36.765625 34.90625 28.71875 34.90625 \nL 20.21875 34.90625 \nL 20.21875 43.015625 \nL 29.109375 43.015625 \nQ 36.375 43.015625 40.234375 45.921875 \nQ 44.09375 48.828125 44.09375 54.296875 \nQ 44.09375 59.90625 40.109375 62.90625 \nQ 36.140625 65.921875 28.71875 65.921875 \nQ 24.65625 65.921875 20.015625 65.03125 \nQ 15.375 64.15625 9.8125 62.3125 \nL 9.8125 71.09375 \nQ 15.4375 72.65625 20.34375 73.4375 \nQ 25.25 74.21875 29.59375 74.21875 \nQ 40.828125 74.21875 47.359375 69.109375 \nQ 53.90625 64.015625 53.90625 55.328125 \nQ 53.90625 49.265625 50.4375 45.09375 \nQ 46.96875 40.921875 40.578125 39.3125 \nz\n\" id=\"DejaVuSans-51\"/>\n       </defs>\n       <use xlink:href=\"#DejaVuSans-48\"/>\n       <use x=\"63.623047\" xlink:href=\"#DejaVuSans-46\"/>\n       <use x=\"95.410156\" xlink:href=\"#DejaVuSans-51\"/>\n      </g>\n     </g>\n    </g>\n    <g id=\"ytick_5\">\n     <g id=\"line2d_10\">\n      <g>\n       <use style=\"stroke:#000000;stroke-width:0.8;\" x=\"43.78125\" xlink:href=\"#m6577372338\" y=\"99.85921\"/>\n      </g>\n     </g>\n     <g id=\"text_11\">\n      <!-- 0.4 -->\n      <g transform=\"translate(20.878125 103.658428)scale(0.1 -0.1)\">\n       <use xlink:href=\"#DejaVuSans-48\"/>\n       <use x=\"63.623047\" xlink:href=\"#DejaVuSans-46\"/>\n       <use x=\"95.410156\" xlink:href=\"#DejaVuSans-52\"/>\n      </g>\n     </g>\n    </g>\n    <g id=\"ytick_6\">\n     <g id=\"line2d_11\">\n      <g>\n       <use style=\"stroke:#000000;stroke-width:0.8;\" x=\"43.78125\" xlink:href=\"#m6577372338\" y=\"68.664012\"/>\n      </g>\n     </g>\n     <g id=\"text_12\">\n      <!-- 0.5 -->\n      <g transform=\"translate(20.878125 72.463231)scale(0.1 -0.1)\">\n       <defs>\n        <path d=\"M 10.796875 72.90625 \nL 49.515625 72.90625 \nL 49.515625 64.59375 \nL 19.828125 64.59375 \nL 19.828125 46.734375 \nQ 21.96875 47.46875 24.109375 47.828125 \nQ 26.265625 48.1875 28.421875 48.1875 \nQ 40.625 48.1875 47.75 41.5 \nQ 54.890625 34.8125 54.890625 23.390625 \nQ 54.890625 11.625 47.5625 5.09375 \nQ 40.234375 -1.421875 26.90625 -1.421875 \nQ 22.3125 -1.421875 17.546875 -0.640625 \nQ 12.796875 0.140625 7.71875 1.703125 \nL 7.71875 11.625 \nQ 12.109375 9.234375 16.796875 8.0625 \nQ 21.484375 6.890625 26.703125 6.890625 \nQ 35.15625 6.890625 40.078125 11.328125 \nQ 45.015625 15.765625 45.015625 23.390625 \nQ 45.015625 31 40.078125 35.4375 \nQ 35.15625 39.890625 26.703125 39.890625 \nQ 22.75 39.890625 18.8125 39.015625 \nQ 14.890625 38.140625 10.796875 36.28125 \nz\n\" id=\"DejaVuSans-53\"/>\n       </defs>\n       <use xlink:href=\"#DejaVuSans-48\"/>\n       <use x=\"63.623047\" xlink:href=\"#DejaVuSans-46\"/>\n       <use x=\"95.410156\" xlink:href=\"#DejaVuSans-53\"/>\n      </g>\n     </g>\n    </g>\n    <g id=\"ytick_7\">\n     <g id=\"line2d_12\">\n      <g>\n       <use style=\"stroke:#000000;stroke-width:0.8;\" x=\"43.78125\" xlink:href=\"#m6577372338\" y=\"37.468814\"/>\n      </g>\n     </g>\n     <g id=\"text_13\">\n      <!-- 0.6 -->\n      <g transform=\"translate(20.878125 41.268033)scale(0.1 -0.1)\">\n       <use xlink:href=\"#DejaVuSans-48\"/>\n       <use x=\"63.623047\" xlink:href=\"#DejaVuSans-46\"/>\n       <use x=\"95.410156\" xlink:href=\"#DejaVuSans-54\"/>\n      </g>\n     </g>\n    </g>\n    <g id=\"text_14\">\n     <!-- Density -->\n     <g transform=\"translate(14.798438 134.928594)rotate(-90)scale(0.1 -0.1)\">\n      <defs>\n       <path d=\"M 19.671875 64.796875 \nL 19.671875 8.109375 \nL 31.59375 8.109375 \nQ 46.6875 8.109375 53.6875 14.9375 \nQ 60.6875 21.78125 60.6875 36.53125 \nQ 60.6875 51.171875 53.6875 57.984375 \nQ 46.6875 64.796875 31.59375 64.796875 \nz\nM 9.8125 72.90625 \nL 30.078125 72.90625 \nQ 51.265625 72.90625 61.171875 64.09375 \nQ 71.09375 55.28125 71.09375 36.53125 \nQ 71.09375 17.671875 61.125 8.828125 \nQ 51.171875 0 30.078125 0 \nL 9.8125 0 \nz\n\" id=\"DejaVuSans-68\"/>\n       <path d=\"M 54.890625 33.015625 \nL 54.890625 0 \nL 45.90625 0 \nL 45.90625 32.71875 \nQ 45.90625 40.484375 42.875 44.328125 \nQ 39.84375 48.1875 33.796875 48.1875 \nQ 26.515625 48.1875 22.3125 43.546875 \nQ 18.109375 38.921875 18.109375 30.90625 \nL 18.109375 0 \nL 9.078125 0 \nL 9.078125 54.6875 \nL 18.109375 54.6875 \nL 18.109375 46.1875 \nQ 21.34375 51.125 25.703125 53.5625 \nQ 30.078125 56 35.796875 56 \nQ 45.21875 56 50.046875 50.171875 \nQ 54.890625 44.34375 54.890625 33.015625 \nz\n\" id=\"DejaVuSans-110\"/>\n       <path d=\"M 44.28125 53.078125 \nL 44.28125 44.578125 \nQ 40.484375 46.53125 36.375 47.5 \nQ 32.28125 48.484375 27.875 48.484375 \nQ 21.1875 48.484375 17.84375 46.4375 \nQ 14.5 44.390625 14.5 40.28125 \nQ 14.5 37.15625 16.890625 35.375 \nQ 19.28125 33.59375 26.515625 31.984375 \nL 29.59375 31.296875 \nQ 39.15625 29.25 43.1875 25.515625 \nQ 47.21875 21.78125 47.21875 15.09375 \nQ 47.21875 7.46875 41.1875 3.015625 \nQ 35.15625 -1.421875 24.609375 -1.421875 \nQ 20.21875 -1.421875 15.453125 -0.5625 \nQ 10.6875 0.296875 5.421875 2 \nL 5.421875 11.28125 \nQ 10.40625 8.6875 15.234375 7.390625 \nQ 20.0625 6.109375 24.8125 6.109375 \nQ 31.15625 6.109375 34.5625 8.28125 \nQ 37.984375 10.453125 37.984375 14.40625 \nQ 37.984375 18.0625 35.515625 20.015625 \nQ 33.0625 21.96875 24.703125 23.78125 \nL 21.578125 24.515625 \nQ 13.234375 26.265625 9.515625 29.90625 \nQ 5.8125 33.546875 5.8125 39.890625 \nQ 5.8125 47.609375 11.28125 51.796875 \nQ 16.75 56 26.8125 56 \nQ 31.78125 56 36.171875 55.265625 \nQ 40.578125 54.546875 44.28125 53.078125 \nz\n\" id=\"DejaVuSans-115\"/>\n       <path d=\"M 9.421875 54.6875 \nL 18.40625 54.6875 \nL 18.40625 0 \nL 9.421875 0 \nz\nM 9.421875 75.984375 \nL 18.40625 75.984375 \nL 18.40625 64.59375 \nL 9.421875 64.59375 \nz\n\" id=\"DejaVuSans-105\"/>\n       <path d=\"M 32.171875 -5.078125 \nQ 28.375 -14.84375 24.75 -17.8125 \nQ 21.140625 -20.796875 15.09375 -20.796875 \nL 7.90625 -20.796875 \nL 7.90625 -13.28125 \nL 13.1875 -13.28125 \nQ 16.890625 -13.28125 18.9375 -11.515625 \nQ 21 -9.765625 23.484375 -3.21875 \nL 25.09375 0.875 \nL 2.984375 54.6875 \nL 12.5 54.6875 \nL 29.59375 11.921875 \nL 46.6875 54.6875 \nL 56.203125 54.6875 \nz\n\" id=\"DejaVuSans-121\"/>\n      </defs>\n      <use xlink:href=\"#DejaVuSans-68\"/>\n      <use x=\"77.001953\" xlink:href=\"#DejaVuSans-101\"/>\n      <use x=\"138.525391\" xlink:href=\"#DejaVuSans-110\"/>\n      <use x=\"201.904297\" xlink:href=\"#DejaVuSans-115\"/>\n      <use x=\"254.003906\" xlink:href=\"#DejaVuSans-105\"/>\n      <use x=\"281.787109\" xlink:href=\"#DejaVuSans-116\"/>\n      <use x=\"320.996094\" xlink:href=\"#DejaVuSans-121\"/>\n     </g>\n    </g>\n   </g>\n   <g id=\"LineCollection_1\">\n    <path clip-path=\"url(#p8cd93e1716)\" d=\"M 142.193969 224.64 \nL 142.193969 219.204 \n\" style=\"fill:none;stroke:#1f77b4;\"/>\n    <path clip-path=\"url(#p8cd93e1716)\" d=\"M 129.555878 224.64 \nL 129.555878 219.204 \n\" style=\"fill:none;stroke:#1f77b4;\"/>\n    <path clip-path=\"url(#p8cd93e1716)\" d=\"M 165.923778 224.64 \nL 165.923778 219.204 \n\" style=\"fill:none;stroke:#1f77b4;\"/>\n    <path clip-path=\"url(#p8cd93e1716)\" d=\"M 137.148771 224.64 \nL 137.148771 219.204 \n\" style=\"fill:none;stroke:#1f77b4;\"/>\n    <path clip-path=\"url(#p8cd93e1716)\" d=\"M 126.36178 224.64 \nL 126.36178 219.204 \n\" style=\"fill:none;stroke:#1f77b4;\"/>\n    <path clip-path=\"url(#p8cd93e1716)\" d=\"M 109.031761 224.64 \nL 109.031761 219.204 \n\" style=\"fill:none;stroke:#1f77b4;\"/>\n    <path clip-path=\"url(#p8cd93e1716)\" d=\"M 106.68086 224.64 \nL 106.68086 219.204 \n\" style=\"fill:none;stroke:#1f77b4;\"/>\n    <path clip-path=\"url(#p8cd93e1716)\" d=\"M 126.692761 224.64 \nL 126.692761 219.204 \n\" style=\"fill:none;stroke:#1f77b4;\"/>\n    <path clip-path=\"url(#p8cd93e1716)\" d=\"M 118.632231 224.64 \nL 118.632231 219.204 \n\" style=\"fill:none;stroke:#1f77b4;\"/>\n    <path clip-path=\"url(#p8cd93e1716)\" d=\"M 154.763172 224.64 \nL 154.763172 219.204 \n\" style=\"fill:none;stroke:#1f77b4;\"/>\n    <path clip-path=\"url(#p8cd93e1716)\" d=\"M 127.605521 224.64 \nL 127.605521 219.204 \n\" style=\"fill:none;stroke:#1f77b4;\"/>\n    <path clip-path=\"url(#p8cd93e1716)\" d=\"M 135.33305 224.64 \nL 135.33305 219.204 \n\" style=\"fill:none;stroke:#1f77b4;\"/>\n    <path clip-path=\"url(#p8cd93e1716)\" d=\"M 137.549464 224.64 \nL 137.549464 219.204 \n\" style=\"fill:none;stroke:#1f77b4;\"/>\n    <path clip-path=\"url(#p8cd93e1716)\" d=\"M 148.034794 224.64 \nL 148.034794 219.204 \n\" style=\"fill:none;stroke:#1f77b4;\"/>\n    <path clip-path=\"url(#p8cd93e1716)\" d=\"M 133.94622 224.64 \nL 133.94622 219.204 \n\" style=\"fill:none;stroke:#1f77b4;\"/>\n    <path clip-path=\"url(#p8cd93e1716)\" d=\"M 109.303801 224.64 \nL 109.303801 219.204 \n\" style=\"fill:none;stroke:#1f77b4;\"/>\n    <path clip-path=\"url(#p8cd93e1716)\" d=\"M 153.34216 224.64 \nL 153.34216 219.204 \n\" style=\"fill:none;stroke:#1f77b4;\"/>\n    <path clip-path=\"url(#p8cd93e1716)\" d=\"M 141.605534 224.64 \nL 141.605534 219.204 \n\" style=\"fill:none;stroke:#1f77b4;\"/>\n    <path clip-path=\"url(#p8cd93e1716)\" d=\"M 106.114864 224.64 \nL 106.114864 219.204 \n\" style=\"fill:none;stroke:#1f77b4;\"/>\n    <path clip-path=\"url(#p8cd93e1716)\" d=\"M 127.700065 224.64 \nL 127.700065 219.204 \n\" style=\"fill:none;stroke:#1f77b4;\"/>\n    <path clip-path=\"url(#p8cd93e1716)\" d=\"M 113.410061 224.64 \nL 113.410061 219.204 \n\" style=\"fill:none;stroke:#1f77b4;\"/>\n    <path clip-path=\"url(#p8cd93e1716)\" d=\"M 167.913405 224.64 \nL 167.913405 219.204 \n\" style=\"fill:none;stroke:#1f77b4;\"/>\n    <path clip-path=\"url(#p8cd93e1716)\" d=\"M 113.49346 224.64 \nL 113.49346 219.204 \n\" style=\"fill:none;stroke:#1f77b4;\"/>\n    <path clip-path=\"url(#p8cd93e1716)\" d=\"M 120.873478 224.64 \nL 120.873478 219.204 \n\" style=\"fill:none;stroke:#1f77b4;\"/>\n    <path clip-path=\"url(#p8cd93e1716)\" d=\"M 111.431579 224.64 \nL 111.431579 219.204 \n\" style=\"fill:none;stroke:#1f77b4;\"/>\n    <path clip-path=\"url(#p8cd93e1716)\" d=\"M 162.282987 224.64 \nL 162.282987 219.204 \n\" style=\"fill:none;stroke:#1f77b4;\"/>\n    <path clip-path=\"url(#p8cd93e1716)\" d=\"M 119.647764 224.64 \nL 119.647764 219.204 \n\" style=\"fill:none;stroke:#1f77b4;\"/>\n    <path clip-path=\"url(#p8cd93e1716)\" d=\"M 221.509674 224.64 \nL 221.509674 219.204 \n\" style=\"fill:none;stroke:#1f77b4;\"/>\n    <path clip-path=\"url(#p8cd93e1716)\" d=\"M 176.661103 224.64 \nL 176.661103 219.204 \n\" style=\"fill:none;stroke:#1f77b4;\"/>\n    <path clip-path=\"url(#p8cd93e1716)\" d=\"M 137.129548 224.64 \nL 137.129548 219.204 \n\" style=\"fill:none;stroke:#1f77b4;\"/>\n    <path clip-path=\"url(#p8cd93e1716)\" d=\"M 173.365953 224.64 \nL 173.365953 219.204 \n\" style=\"fill:none;stroke:#1f77b4;\"/>\n    <path clip-path=\"url(#p8cd93e1716)\" d=\"M 113.458754 224.64 \nL 113.458754 219.204 \n\" style=\"fill:none;stroke:#1f77b4;\"/>\n    <path clip-path=\"url(#p8cd93e1716)\" d=\"M 115.23558 224.64 \nL 115.23558 219.204 \n\" style=\"fill:none;stroke:#1f77b4;\"/>\n    <path clip-path=\"url(#p8cd93e1716)\" d=\"M 142.789735 224.64 \nL 142.789735 219.204 \n\" style=\"fill:none;stroke:#1f77b4;\"/>\n    <path clip-path=\"url(#p8cd93e1716)\" d=\"M 114.376974 224.64 \nL 114.376974 219.204 \n\" style=\"fill:none;stroke:#1f77b4;\"/>\n    <path clip-path=\"url(#p8cd93e1716)\" d=\"M 162.915628 224.64 \nL 162.915628 219.204 \n\" style=\"fill:none;stroke:#1f77b4;\"/>\n    <path clip-path=\"url(#p8cd93e1716)\" d=\"M 298.133474 224.64 \nL 298.133474 219.204 \n\" style=\"fill:none;stroke:#1f77b4;\"/>\n    <path clip-path=\"url(#p8cd93e1716)\" d=\"M 133.207665 224.64 \nL 133.207665 219.204 \n\" style=\"fill:none;stroke:#1f77b4;\"/>\n    <path clip-path=\"url(#p8cd93e1716)\" d=\"M 147.491162 224.64 \nL 147.491162 219.204 \n\" style=\"fill:none;stroke:#1f77b4;\"/>\n    <path clip-path=\"url(#p8cd93e1716)\" d=\"M 106.294978 224.64 \nL 106.294978 219.204 \n\" style=\"fill:none;stroke:#1f77b4;\"/>\n    <path clip-path=\"url(#p8cd93e1716)\" d=\"M 107.145805 224.64 \nL 107.145805 219.204 \n\" style=\"fill:none;stroke:#1f77b4;\"/>\n    <path clip-path=\"url(#p8cd93e1716)\" d=\"M 151.613279 224.64 \nL 151.613279 219.204 \n\" style=\"fill:none;stroke:#1f77b4;\"/>\n    <path clip-path=\"url(#p8cd93e1716)\" d=\"M 115.687734 224.64 \nL 115.687734 219.204 \n\" style=\"fill:none;stroke:#1f77b4;\"/>\n    <path clip-path=\"url(#p8cd93e1716)\" d=\"M 110.095388 224.64 \nL 110.095388 219.204 \n\" style=\"fill:none;stroke:#1f77b4;\"/>\n    <path clip-path=\"url(#p8cd93e1716)\" d=\"M 109.090178 224.64 \nL 109.090178 219.204 \n\" style=\"fill:none;stroke:#1f77b4;\"/>\n    <path clip-path=\"url(#p8cd93e1716)\" d=\"M 107.843146 224.64 \nL 107.843146 219.204 \n\" style=\"fill:none;stroke:#1f77b4;\"/>\n    <path clip-path=\"url(#p8cd93e1716)\" d=\"M 107.278122 224.64 \nL 107.278122 219.204 \n\" style=\"fill:none;stroke:#1f77b4;\"/>\n    <path clip-path=\"url(#p8cd93e1716)\" d=\"M 108.770192 224.64 \nL 108.770192 219.204 \n\" style=\"fill:none;stroke:#1f77b4;\"/>\n   </g>\n   <g id=\"LineCollection_2\">\n    <path clip-path=\"url(#p8cd93e1716)\" d=\"M 137.204503 224.64 \nL 137.204503 219.204 \n\" style=\"fill:none;stroke:#ff7f0e;\"/>\n    <path clip-path=\"url(#p8cd93e1716)\" d=\"M 140.297592 224.64 \nL 140.297592 219.204 \n\" style=\"fill:none;stroke:#ff7f0e;\"/>\n    <path clip-path=\"url(#p8cd93e1716)\" d=\"M 123.554321 224.64 \nL 123.554321 219.204 \n\" style=\"fill:none;stroke:#ff7f0e;\"/>\n    <path clip-path=\"url(#p8cd93e1716)\" d=\"M 115.445077 224.64 \nL 115.445077 219.204 \n\" style=\"fill:none;stroke:#ff7f0e;\"/>\n    <path clip-path=\"url(#p8cd93e1716)\" d=\"M 114.349321 224.64 \nL 114.349321 219.204 \n\" style=\"fill:none;stroke:#ff7f0e;\"/>\n    <path clip-path=\"url(#p8cd93e1716)\" d=\"M 116.070135 224.64 \nL 116.070135 219.204 \n\" style=\"fill:none;stroke:#ff7f0e;\"/>\n    <path clip-path=\"url(#p8cd93e1716)\" d=\"M 114.143031 224.64 \nL 114.143031 219.204 \n\" style=\"fill:none;stroke:#ff7f0e;\"/>\n    <path clip-path=\"url(#p8cd93e1716)\" d=\"M 140.709274 224.64 \nL 140.709274 219.204 \n\" style=\"fill:none;stroke:#ff7f0e;\"/>\n    <path clip-path=\"url(#p8cd93e1716)\" d=\"M 121.489631 224.64 \nL 121.489631 219.204 \n\" style=\"fill:none;stroke:#ff7f0e;\"/>\n    <path clip-path=\"url(#p8cd93e1716)\" d=\"M 151.513288 224.64 \nL 151.513288 219.204 \n\" style=\"fill:none;stroke:#ff7f0e;\"/>\n    <path clip-path=\"url(#p8cd93e1716)\" d=\"M 114.016297 224.64 \nL 114.016297 219.204 \n\" style=\"fill:none;stroke:#ff7f0e;\"/>\n    <path clip-path=\"url(#p8cd93e1716)\" d=\"M 117.602777 224.64 \nL 117.602777 219.204 \n\" style=\"fill:none;stroke:#ff7f0e;\"/>\n    <path clip-path=\"url(#p8cd93e1716)\" d=\"M 147.613338 224.64 \nL 147.613338 219.204 \n\" style=\"fill:none;stroke:#ff7f0e;\"/>\n    <path clip-path=\"url(#p8cd93e1716)\" d=\"M 154.1668 224.64 \nL 154.1668 219.204 \n\" style=\"fill:none;stroke:#ff7f0e;\"/>\n    <path clip-path=\"url(#p8cd93e1716)\" d=\"M 114.328781 224.64 \nL 114.328781 219.204 \n\" style=\"fill:none;stroke:#ff7f0e;\"/>\n    <path clip-path=\"url(#p8cd93e1716)\" d=\"M 114.606106 224.64 \nL 114.606106 219.204 \n\" style=\"fill:none;stroke:#ff7f0e;\"/>\n    <path clip-path=\"url(#p8cd93e1716)\" d=\"M 159.929544 224.64 \nL 159.929544 219.204 \n\" style=\"fill:none;stroke:#ff7f0e;\"/>\n    <path clip-path=\"url(#p8cd93e1716)\" d=\"M 154.854372 224.64 \nL 154.854372 219.204 \n\" style=\"fill:none;stroke:#ff7f0e;\"/>\n    <path clip-path=\"url(#p8cd93e1716)\" d=\"M 113.472949 224.64 \nL 113.472949 219.204 \n\" style=\"fill:none;stroke:#ff7f0e;\"/>\n    <path clip-path=\"url(#p8cd93e1716)\" d=\"M 137.189704 224.64 \nL 137.189704 219.204 \n\" style=\"fill:none;stroke:#ff7f0e;\"/>\n    <path clip-path=\"url(#p8cd93e1716)\" d=\"M 121.871626 224.64 \nL 121.871626 219.204 \n\" style=\"fill:none;stroke:#ff7f0e;\"/>\n    <path clip-path=\"url(#p8cd93e1716)\" d=\"M 182.124959 224.64 \nL 182.124959 219.204 \n\" style=\"fill:none;stroke:#ff7f0e;\"/>\n    <path clip-path=\"url(#p8cd93e1716)\" d=\"M 122.131282 224.64 \nL 122.131282 219.204 \n\" style=\"fill:none;stroke:#ff7f0e;\"/>\n    <path clip-path=\"url(#p8cd93e1716)\" d=\"M 126.236534 224.64 \nL 126.236534 219.204 \n\" style=\"fill:none;stroke:#ff7f0e;\"/>\n    <path clip-path=\"url(#p8cd93e1716)\" d=\"M 119.499565 224.64 \nL 119.499565 219.204 \n\" style=\"fill:none;stroke:#ff7f0e;\"/>\n    <path clip-path=\"url(#p8cd93e1716)\" d=\"M 119.958245 224.64 \nL 119.958245 219.204 \n\" style=\"fill:none;stroke:#ff7f0e;\"/>\n    <path clip-path=\"url(#p8cd93e1716)\" d=\"M 124.54783 224.64 \nL 124.54783 219.204 \n\" style=\"fill:none;stroke:#ff7f0e;\"/>\n    <path clip-path=\"url(#p8cd93e1716)\" d=\"M 125.935172 224.64 \nL 125.935172 219.204 \n\" style=\"fill:none;stroke:#ff7f0e;\"/>\n    <path clip-path=\"url(#p8cd93e1716)\" d=\"M 191.288791 224.64 \nL 191.288791 219.204 \n\" style=\"fill:none;stroke:#ff7f0e;\"/>\n    <path clip-path=\"url(#p8cd93e1716)\" d=\"M 148.55357 224.64 \nL 148.55357 219.204 \n\" style=\"fill:none;stroke:#ff7f0e;\"/>\n    <path clip-path=\"url(#p8cd93e1716)\" d=\"M 184.445448 224.64 \nL 184.445448 219.204 \n\" style=\"fill:none;stroke:#ff7f0e;\"/>\n    <path clip-path=\"url(#p8cd93e1716)\" d=\"M 121.370701 224.64 \nL 121.370701 219.204 \n\" style=\"fill:none;stroke:#ff7f0e;\"/>\n    <path clip-path=\"url(#p8cd93e1716)\" d=\"M 114.152628 224.64 \nL 114.152628 219.204 \n\" style=\"fill:none;stroke:#ff7f0e;\"/>\n    <path clip-path=\"url(#p8cd93e1716)\" d=\"M 133.324376 224.64 \nL 133.324376 219.204 \n\" style=\"fill:none;stroke:#ff7f0e;\"/>\n    <path clip-path=\"url(#p8cd93e1716)\" d=\"M 123.026489 224.64 \nL 123.026489 219.204 \n\" style=\"fill:none;stroke:#ff7f0e;\"/>\n    <path clip-path=\"url(#p8cd93e1716)\" d=\"M 178.667725 224.64 \nL 178.667725 219.204 \n\" style=\"fill:none;stroke:#ff7f0e;\"/>\n    <path clip-path=\"url(#p8cd93e1716)\" d=\"M 316.247636 224.64 \nL 316.247636 219.204 \n\" style=\"fill:none;stroke:#ff7f0e;\"/>\n    <path clip-path=\"url(#p8cd93e1716)\" d=\"M 143.647824 224.64 \nL 143.647824 219.204 \n\" style=\"fill:none;stroke:#ff7f0e;\"/>\n    <path clip-path=\"url(#p8cd93e1716)\" d=\"M 117.354422 224.64 \nL 117.354422 219.204 \n\" style=\"fill:none;stroke:#ff7f0e;\"/>\n    <path clip-path=\"url(#p8cd93e1716)\" d=\"M 113.686683 224.64 \nL 113.686683 219.204 \n\" style=\"fill:none;stroke:#ff7f0e;\"/>\n    <path clip-path=\"url(#p8cd93e1716)\" d=\"M 114.439281 224.64 \nL 114.439281 219.204 \n\" style=\"fill:none;stroke:#ff7f0e;\"/>\n    <path clip-path=\"url(#p8cd93e1716)\" d=\"M 161.872792 224.64 \nL 161.872792 219.204 \n\" style=\"fill:none;stroke:#ff7f0e;\"/>\n    <path clip-path=\"url(#p8cd93e1716)\" d=\"M 123.778728 224.64 \nL 123.778728 219.204 \n\" style=\"fill:none;stroke:#ff7f0e;\"/>\n    <path clip-path=\"url(#p8cd93e1716)\" d=\"M 118.134286 224.64 \nL 118.134286 219.204 \n\" style=\"fill:none;stroke:#ff7f0e;\"/>\n    <path clip-path=\"url(#p8cd93e1716)\" d=\"M 115.161115 224.64 \nL 115.161115 219.204 \n\" style=\"fill:none;stroke:#ff7f0e;\"/>\n    <path clip-path=\"url(#p8cd93e1716)\" d=\"M 114.112984 224.64 \nL 114.112984 219.204 \n\" style=\"fill:none;stroke:#ff7f0e;\"/>\n    <path clip-path=\"url(#p8cd93e1716)\" d=\"M 114.542874 224.64 \nL 114.542874 219.204 \n\" style=\"fill:none;stroke:#ff7f0e;\"/>\n    <path clip-path=\"url(#p8cd93e1716)\" d=\"M 113.996834 224.64 \nL 113.996834 219.204 \n\" style=\"fill:none;stroke:#ff7f0e;\"/>\n   </g>\n   <g id=\"LineCollection_3\">\n    <path clip-path=\"url(#p8cd93e1716)\" d=\"M 143.56861 224.64 \nL 143.56861 219.204 \n\" style=\"fill:none;stroke:#2ca02c;\"/>\n    <path clip-path=\"url(#p8cd93e1716)\" d=\"M 128.379459 224.64 \nL 128.379459 219.204 \n\" style=\"fill:none;stroke:#2ca02c;\"/>\n    <path clip-path=\"url(#p8cd93e1716)\" d=\"M 165.468533 224.64 \nL 165.468533 219.204 \n\" style=\"fill:none;stroke:#2ca02c;\"/>\n    <path clip-path=\"url(#p8cd93e1716)\" d=\"M 130.449316 224.64 \nL 130.449316 219.204 \n\" style=\"fill:none;stroke:#2ca02c;\"/>\n    <path clip-path=\"url(#p8cd93e1716)\" d=\"M 136.651233 224.64 \nL 136.651233 219.204 \n\" style=\"fill:none;stroke:#2ca02c;\"/>\n    <path clip-path=\"url(#p8cd93e1716)\" d=\"M 111.908605 224.64 \nL 111.908605 219.204 \n\" style=\"fill:none;stroke:#2ca02c;\"/>\n    <path clip-path=\"url(#p8cd93e1716)\" d=\"M 108.648867 224.64 \nL 108.648867 219.204 \n\" style=\"fill:none;stroke:#2ca02c;\"/>\n    <path clip-path=\"url(#p8cd93e1716)\" d=\"M 128.287636 224.64 \nL 128.287636 219.204 \n\" style=\"fill:none;stroke:#2ca02c;\"/>\n    <path clip-path=\"url(#p8cd93e1716)\" d=\"M 115.049736 224.64 \nL 115.049736 219.204 \n\" style=\"fill:none;stroke:#2ca02c;\"/>\n    <path clip-path=\"url(#p8cd93e1716)\" d=\"M 154.947081 224.64 \nL 154.947081 219.204 \n\" style=\"fill:none;stroke:#2ca02c;\"/>\n    <path clip-path=\"url(#p8cd93e1716)\" d=\"M 125.008769 224.64 \nL 125.008769 219.204 \n\" style=\"fill:none;stroke:#2ca02c;\"/>\n    <path clip-path=\"url(#p8cd93e1716)\" d=\"M 124.672082 224.64 \nL 124.672082 219.204 \n\" style=\"fill:none;stroke:#2ca02c;\"/>\n    <path clip-path=\"url(#p8cd93e1716)\" d=\"M 143.828776 224.64 \nL 143.828776 219.204 \n\" style=\"fill:none;stroke:#2ca02c;\"/>\n    <path clip-path=\"url(#p8cd93e1716)\" d=\"M 167.710559 224.64 \nL 167.710559 219.204 \n\" style=\"fill:none;stroke:#2ca02c;\"/>\n    <path clip-path=\"url(#p8cd93e1716)\" d=\"M 137.274868 224.64 \nL 137.274868 219.204 \n\" style=\"fill:none;stroke:#2ca02c;\"/>\n    <path clip-path=\"url(#p8cd93e1716)\" d=\"M 110.642204 224.64 \nL 110.642204 219.204 \n\" style=\"fill:none;stroke:#2ca02c;\"/>\n    <path clip-path=\"url(#p8cd93e1716)\" d=\"M 169.937281 224.64 \nL 169.937281 219.204 \n\" style=\"fill:none;stroke:#2ca02c;\"/>\n    <path clip-path=\"url(#p8cd93e1716)\" d=\"M 132.561258 224.64 \nL 132.561258 219.204 \n\" style=\"fill:none;stroke:#2ca02c;\"/>\n    <path clip-path=\"url(#p8cd93e1716)\" d=\"M 108.159142 224.64 \nL 108.159142 219.204 \n\" style=\"fill:none;stroke:#2ca02c;\"/>\n    <path clip-path=\"url(#p8cd93e1716)\" d=\"M 133.024202 224.64 \nL 133.024202 219.204 \n\" style=\"fill:none;stroke:#2ca02c;\"/>\n    <path clip-path=\"url(#p8cd93e1716)\" d=\"M 113.243872 224.64 \nL 113.243872 219.204 \n\" style=\"fill:none;stroke:#2ca02c;\"/>\n    <path clip-path=\"url(#p8cd93e1716)\" d=\"M 148.561517 224.64 \nL 148.561517 219.204 \n\" style=\"fill:none;stroke:#2ca02c;\"/>\n    <path clip-path=\"url(#p8cd93e1716)\" d=\"M 113.74125 224.64 \nL 113.74125 219.204 \n\" style=\"fill:none;stroke:#2ca02c;\"/>\n    <path clip-path=\"url(#p8cd93e1716)\" d=\"M 115.818759 224.64 \nL 115.818759 219.204 \n\" style=\"fill:none;stroke:#2ca02c;\"/>\n    <path clip-path=\"url(#p8cd93e1716)\" d=\"M 112.497806 224.64 \nL 112.497806 219.204 \n\" style=\"fill:none;stroke:#2ca02c;\"/>\n    <path clip-path=\"url(#p8cd93e1716)\" d=\"M 194.224618 224.64 \nL 194.224618 219.204 \n\" style=\"fill:none;stroke:#2ca02c;\"/>\n    <path clip-path=\"url(#p8cd93e1716)\" d=\"M 121.733728 224.64 \nL 121.733728 219.204 \n\" style=\"fill:none;stroke:#2ca02c;\"/>\n    <path clip-path=\"url(#p8cd93e1716)\" d=\"M 250.967764 224.64 \nL 250.967764 219.204 \n\" style=\"fill:none;stroke:#2ca02c;\"/>\n    <path clip-path=\"url(#p8cd93e1716)\" d=\"M 171.100379 224.64 \nL 171.100379 219.204 \n\" style=\"fill:none;stroke:#2ca02c;\"/>\n    <path clip-path=\"url(#p8cd93e1716)\" d=\"M 123.688805 224.64 \nL 123.688805 219.204 \n\" style=\"fill:none;stroke:#2ca02c;\"/>\n    <path clip-path=\"url(#p8cd93e1716)\" d=\"M 196.631161 224.64 \nL 196.631161 219.204 \n\" style=\"fill:none;stroke:#2ca02c;\"/>\n    <path clip-path=\"url(#p8cd93e1716)\" d=\"M 115.51268 224.64 \nL 115.51268 219.204 \n\" style=\"fill:none;stroke:#2ca02c;\"/>\n    <path clip-path=\"url(#p8cd93e1716)\" d=\"M 117.119593 224.64 \nL 117.119593 219.204 \n\" style=\"fill:none;stroke:#2ca02c;\"/>\n    <path clip-path=\"url(#p8cd93e1716)\" d=\"M 138.969779 224.64 \nL 138.969779 219.204 \n\" style=\"fill:none;stroke:#2ca02c;\"/>\n    <path clip-path=\"url(#p8cd93e1716)\" d=\"M 115.206601 224.64 \nL 115.206601 219.204 \n\" style=\"fill:none;stroke:#2ca02c;\"/>\n    <path clip-path=\"url(#p8cd93e1716)\" d=\"M 150.061302 224.64 \nL 150.061302 219.204 \n\" style=\"fill:none;stroke:#2ca02c;\"/>\n    <path clip-path=\"url(#p8cd93e1716)\" d=\"M 263.658548 224.64 \nL 263.658548 219.204 \n\" style=\"fill:none;stroke:#2ca02c;\"/>\n    <path clip-path=\"url(#p8cd93e1716)\" d=\"M 115.02678 224.64 \nL 115.02678 219.204 \n\" style=\"fill:none;stroke:#2ca02c;\"/>\n    <path clip-path=\"url(#p8cd93e1716)\" d=\"M 135.074928 224.64 \nL 135.074928 219.204 \n\" style=\"fill:none;stroke:#2ca02c;\"/>\n    <path clip-path=\"url(#p8cd93e1716)\" d=\"M 108.247139 224.64 \nL 108.247139 219.204 \n\" style=\"fill:none;stroke:#2ca02c;\"/>\n    <path clip-path=\"url(#p8cd93e1716)\" d=\"M 108.882252 224.64 \nL 108.882252 219.204 \n\" style=\"fill:none;stroke:#2ca02c;\"/>\n    <path clip-path=\"url(#p8cd93e1716)\" d=\"M 134.122259 224.64 \nL 134.122259 219.204 \n\" style=\"fill:none;stroke:#2ca02c;\"/>\n    <path clip-path=\"url(#p8cd93e1716)\" d=\"M 116.629867 224.64 \nL 116.629867 219.204 \n\" style=\"fill:none;stroke:#2ca02c;\"/>\n    <path clip-path=\"url(#p8cd93e1716)\" d=\"M 110.68429 224.64 \nL 110.68429 219.204 \n\" style=\"fill:none;stroke:#2ca02c;\"/>\n    <path clip-path=\"url(#p8cd93e1716)\" d=\"M 111.185494 224.64 \nL 111.185494 219.204 \n\" style=\"fill:none;stroke:#2ca02c;\"/>\n    <path clip-path=\"url(#p8cd93e1716)\" d=\"M 108.526436 224.64 \nL 108.526436 219.204 \n\" style=\"fill:none;stroke:#2ca02c;\"/>\n    <path clip-path=\"url(#p8cd93e1716)\" d=\"M 108.98938 224.64 \nL 108.98938 219.204 \n\" style=\"fill:none;stroke:#2ca02c;\"/>\n    <path clip-path=\"url(#p8cd93e1716)\" d=\"M 110.382038 224.64 \nL 110.382038 219.204 \n\" style=\"fill:none;stroke:#2ca02c;\"/>\n   </g>\n   <g id=\"line2d_13\">\n    <path clip-path=\"url(#p8cd93e1716)\" d=\"M 58.999432 224.049381 \nL 61.876311 223.600917 \nL 64.75319 222.869768 \nL 66.19163 222.357027 \nL 67.630069 221.719199 \nL 69.068509 220.932834 \nL 70.506948 219.972008 \nL 71.945388 218.808562 \nL 73.383827 217.412481 \nL 74.822267 215.752451 \nL 76.260707 213.796578 \nL 77.699146 211.513301 \nL 79.137586 208.872458 \nL 80.576025 205.846507 \nL 82.014465 202.411855 \nL 83.452904 198.550251 \nL 84.891344 194.25019 \nL 86.329784 189.508241 \nL 87.768223 184.330252 \nL 90.645102 172.741449 \nL 93.521981 159.745149 \nL 97.8373 138.607492 \nL 102.152619 117.364454 \nL 105.029498 104.304075 \nL 106.467938 98.353732 \nL 107.906377 92.884954 \nL 109.344817 87.956209 \nL 110.783256 83.613854 \nL 112.221696 79.891165 \nL 113.660135 76.807921 \nL 115.098575 74.370541 \nL 116.537015 72.572756 \nL 117.975454 71.396744 \nL 119.413894 70.814652 \nL 120.852333 70.790397 \nL 122.290773 71.281633 \nL 123.729212 72.241766 \nL 125.167652 73.621909 \nL 126.606091 75.372684 \nL 128.044531 77.445788 \nL 129.482971 79.795268 \nL 132.35985 85.156754 \nL 135.236729 91.165207 \nL 139.552048 100.917974 \nL 146.744245 118.02519 \nL 156.813322 141.99591 \nL 165.44396 161.900692 \nL 172.636158 177.918807 \nL 176.951476 187.031447 \nL 179.828355 192.735103 \nL 182.705235 198.025357 \nL 185.582114 202.803986 \nL 188.458993 206.9878 \nL 191.335872 210.519315 \nL 192.774312 212.031385 \nL 194.212751 213.373956 \nL 195.651191 214.549585 \nL 197.08963 215.563024 \nL 198.52807 216.421096 \nL 199.966509 217.13252 \nL 201.404949 217.707691 \nL 204.281828 218.497758 \nL 207.158707 218.898071 \nL 210.035586 219.024381 \nL 215.789345 218.904857 \nL 220.104663 218.857058 \nL 224.419982 219.067655 \nL 228.735301 219.593277 \nL 233.050619 220.376033 \nL 245.996576 222.966745 \nL 250.311894 223.550525 \nL 254.627213 223.917639 \nL 258.942532 224.06773 \nL 263.25785 224.004704 \nL 267.573169 223.726646 \nL 271.888488 223.230269 \nL 276.203807 222.527887 \nL 283.396004 221.054852 \nL 289.149763 219.914713 \nL 293.465081 219.315746 \nL 296.34196 219.111432 \nL 299.21884 219.088656 \nL 302.095719 219.249705 \nL 304.972598 219.578784 \nL 309.287917 220.315909 \nL 323.672312 223.156729 \nL 327.987631 223.726359 \nL 333.741389 224.214227 \nL 339.495147 224.466504 \nL 345.248906 224.578183 \nL 345.248906 224.578183 \n\" style=\"fill:none;stroke:#1f77b4;stroke-linecap:square;stroke-width:1.5;\"/>\n   </g>\n   <g id=\"line2d_14\">\n    <path clip-path=\"url(#p8cd93e1716)\" d=\"M 66.357516 223.667428 \nL 69.342497 222.906612 \nL 70.834987 222.356016 \nL 72.327477 221.656652 \nL 73.819967 220.776914 \nL 75.312458 219.681042 \nL 76.804948 218.329287 \nL 78.297438 216.67831 \nL 79.789928 214.681863 \nL 81.282419 212.291769 \nL 82.774909 209.459242 \nL 84.267399 206.136536 \nL 85.759889 202.278906 \nL 87.252379 197.846853 \nL 88.74487 192.80857 \nL 90.23736 187.142498 \nL 91.72985 180.839876 \nL 93.22234 173.907137 \nL 96.207321 158.265047 \nL 99.192301 140.637831 \nL 108.147242 84.508935 \nL 109.639733 76.190352 \nL 111.132223 68.573128 \nL 112.624713 61.791543 \nL 114.117203 55.961785 \nL 115.609693 51.177715 \nL 117.102184 47.50755 \nL 118.594674 44.991644 \nL 120.087164 43.641491 \nL 121.579654 43.44 \nL 123.072144 44.342999 \nL 124.564635 46.28188 \nL 126.057125 49.167197 \nL 127.549615 52.893001 \nL 129.042105 57.341644 \nL 130.534595 62.388772 \nL 133.519576 73.776655 \nL 143.967007 116.331625 \nL 146.951988 127.101193 \nL 149.936968 136.894392 \nL 152.921949 145.731417 \nL 155.906929 153.676289 \nL 158.891909 160.794966 \nL 161.87689 167.136471 \nL 164.86187 172.73491 \nL 167.846851 177.624744 \nL 170.831831 181.859362 \nL 173.816812 185.523992 \nL 176.801792 188.737345 \nL 179.786772 191.640927 \nL 196.204165 206.951705 \nL 200.681635 211.169335 \nL 203.666616 213.777463 \nL 206.651596 216.128275 \nL 209.636577 218.166172 \nL 212.621557 219.864761 \nL 215.606537 221.226178 \nL 218.591518 222.275799 \nL 221.576498 223.054533 \nL 224.561479 223.610743 \nL 229.038949 224.13373 \nL 233.51642 224.408827 \nL 240.978871 224.58698 \nL 255.903773 224.635062 \nL 272.321165 224.528635 \nL 279.783616 224.264285 \nL 285.753577 223.795153 \nL 290.231048 223.22897 \nL 294.708519 222.467324 \nL 302.17097 220.916225 \nL 308.14093 219.769476 \nL 311.125911 219.363585 \nL 314.110891 219.126675 \nL 317.095872 219.083521 \nL 320.080852 219.238713 \nL 323.065833 219.575855 \nL 327.543303 220.343612 \nL 342.468205 223.259122 \nL 346.945676 223.816262 \nL 351.423147 224.186973 \nL 357.393107 224.460116 \nL 363.363068 224.578183 \nL 363.363068 224.578183 \n\" style=\"fill:none;stroke:#ff7f0e;stroke-linecap:square;stroke-width:1.5;\"/>\n   </g>\n   <g id=\"line2d_15\">\n    <path clip-path=\"url(#p8cd93e1716)\" d=\"M 61.04371 223.948521 \nL 63.553562 223.506878 \nL 66.063413 222.828099 \nL 68.573265 221.81261 \nL 69.828191 221.14018 \nL 71.083117 220.334055 \nL 72.338043 219.374257 \nL 73.592969 218.239334 \nL 74.847895 216.906585 \nL 76.102821 215.352371 \nL 77.357747 213.552515 \nL 78.612673 211.482795 \nL 79.867599 209.119525 \nL 81.122525 206.440223 \nL 82.377451 203.424345 \nL 83.632377 200.054076 \nL 84.887303 196.31516 \nL 86.142229 192.197729 \nL 88.652081 182.814608 \nL 91.161933 171.942661 \nL 93.671785 159.732986 \nL 96.181637 146.458375 \nL 104.966119 98.018882 \nL 107.475971 85.844159 \nL 109.985823 75.382373 \nL 111.240749 70.926 \nL 112.495675 67.041033 \nL 113.750601 63.757752 \nL 115.005527 61.097109 \nL 116.260453 59.07061 \nL 117.515379 57.680474 \nL 118.770305 56.920035 \nL 120.025231 56.774367 \nL 121.280157 57.221089 \nL 122.535083 58.231311 \nL 123.790009 59.770677 \nL 125.044935 61.80045 \nL 126.299861 64.278612 \nL 127.554787 67.160919 \nL 128.809713 70.401892 \nL 131.319564 77.777017 \nL 133.829416 86.046609 \nL 137.594194 99.411469 \nL 143.868824 122.009173 \nL 147.633602 134.671185 \nL 150.143454 142.470059 \nL 152.653306 149.674929 \nL 155.163158 156.258897 \nL 157.67301 162.227746 \nL 160.182862 167.61391 \nL 162.692714 172.468643 \nL 165.202566 176.853102 \nL 167.712418 180.829562 \nL 170.22227 184.454141 \nL 172.732122 187.772184 \nL 175.241974 190.816929 \nL 177.751826 193.611303 \nL 180.261678 196.171986 \nL 182.77153 198.514406 \nL 186.536308 201.660981 \nL 190.301086 204.446663 \nL 195.32079 207.788967 \nL 202.850345 212.431548 \nL 207.870049 215.327491 \nL 211.634827 217.277095 \nL 215.399605 218.910463 \nL 217.909457 219.770249 \nL 220.419309 220.417841 \nL 222.929161 220.837983 \nL 225.439013 221.024998 \nL 227.948865 220.983014 \nL 230.458717 220.725752 \nL 232.968569 220.276063 \nL 236.733347 219.311383 \nL 241.753051 217.704278 \nL 246.772755 216.093806 \nL 250.537533 215.127854 \nL 253.047385 214.681194 \nL 255.557237 214.42902 \nL 258.067089 214.388916 \nL 260.576941 214.564683 \nL 263.086793 214.946284 \nL 265.596644 215.511058 \nL 269.361422 216.62756 \nL 275.636052 218.858902 \nL 280.655756 220.609807 \nL 284.420534 221.741885 \nL 288.185312 222.660553 \nL 291.95009 223.356748 \nL 295.714868 223.850895 \nL 300.734572 224.260322 \nL 307.009202 224.507143 \nL 310.77398 224.574234 \nL 310.77398 224.574234 \n\" style=\"fill:none;stroke:#2ca02c;stroke-linecap:square;stroke-width:1.5;\"/>\n   </g>\n   <g id=\"patch_3\">\n    <path d=\"M 43.78125 224.64 \nL 43.78125 7.2 \n\" style=\"fill:none;stroke:#000000;stroke-linecap:square;stroke-linejoin:miter;stroke-width:0.8;\"/>\n   </g>\n   <g id=\"patch_4\">\n    <path d=\"M 378.58125 224.64 \nL 378.58125 7.2 \n\" style=\"fill:none;stroke:#000000;stroke-linecap:square;stroke-linejoin:miter;stroke-width:0.8;\"/>\n   </g>\n   <g id=\"patch_5\">\n    <path d=\"M 43.78125 224.64 \nL 378.58125 224.64 \n\" style=\"fill:none;stroke:#000000;stroke-linecap:square;stroke-linejoin:miter;stroke-width:0.8;\"/>\n   </g>\n   <g id=\"patch_6\">\n    <path d=\"M 43.78125 7.2 \nL 378.58125 7.2 \n\" style=\"fill:none;stroke:#000000;stroke-linecap:square;stroke-linejoin:miter;stroke-width:0.8;\"/>\n   </g>\n   <g id=\"legend_1\">\n    <g id=\"patch_7\">\n     <path d=\"M 253.992188 59.234375 \nL 371.58125 59.234375 \nQ 373.58125 59.234375 373.58125 57.234375 \nL 373.58125 14.2 \nQ 373.58125 12.2 371.58125 12.2 \nL 253.992188 12.2 \nQ 251.992188 12.2 251.992188 14.2 \nL 251.992188 57.234375 \nQ 251.992188 59.234375 253.992188 59.234375 \nz\n\" style=\"fill:#ffffff;opacity:0.8;stroke:#cccccc;stroke-linejoin:miter;\"/>\n    </g>\n    <g id=\"line2d_16\">\n     <path d=\"M 255.992188 20.298437 \nL 275.992188 20.298437 \n\" style=\"fill:none;stroke:#1f77b4;stroke-linecap:square;stroke-width:1.5;\"/>\n    </g>\n    <g id=\"line2d_17\"/>\n    <g id=\"text_15\">\n     <!-- Positive Cases -->\n     <g transform=\"translate(283.992188 23.798437)scale(0.1 -0.1)\">\n      <defs>\n       <path d=\"M 19.671875 64.796875 \nL 19.671875 37.40625 \nL 32.078125 37.40625 \nQ 38.96875 37.40625 42.71875 40.96875 \nQ 46.484375 44.53125 46.484375 51.125 \nQ 46.484375 57.671875 42.71875 61.234375 \nQ 38.96875 64.796875 32.078125 64.796875 \nz\nM 9.8125 72.90625 \nL 32.078125 72.90625 \nQ 44.34375 72.90625 50.609375 67.359375 \nQ 56.890625 61.8125 56.890625 51.125 \nQ 56.890625 40.328125 50.609375 34.8125 \nQ 44.34375 29.296875 32.078125 29.296875 \nL 19.671875 29.296875 \nL 19.671875 0 \nL 9.8125 0 \nz\n\" id=\"DejaVuSans-80\"/>\n       <path d=\"M 30.609375 48.390625 \nQ 23.390625 48.390625 19.1875 42.75 \nQ 14.984375 37.109375 14.984375 27.296875 \nQ 14.984375 17.484375 19.15625 11.84375 \nQ 23.34375 6.203125 30.609375 6.203125 \nQ 37.796875 6.203125 41.984375 11.859375 \nQ 46.1875 17.53125 46.1875 27.296875 \nQ 46.1875 37.015625 41.984375 42.703125 \nQ 37.796875 48.390625 30.609375 48.390625 \nz\nM 30.609375 56 \nQ 42.328125 56 49.015625 48.375 \nQ 55.71875 40.765625 55.71875 27.296875 \nQ 55.71875 13.875 49.015625 6.21875 \nQ 42.328125 -1.421875 30.609375 -1.421875 \nQ 18.84375 -1.421875 12.171875 6.21875 \nQ 5.515625 13.875 5.515625 27.296875 \nQ 5.515625 40.765625 12.171875 48.375 \nQ 18.84375 56 30.609375 56 \nz\n\" id=\"DejaVuSans-111\"/>\n       <path d=\"M 2.984375 54.6875 \nL 12.5 54.6875 \nL 29.59375 8.796875 \nL 46.6875 54.6875 \nL 56.203125 54.6875 \nL 35.6875 0 \nL 23.484375 0 \nz\n\" id=\"DejaVuSans-118\"/>\n       <path id=\"DejaVuSans-32\"/>\n       <path d=\"M 64.40625 67.28125 \nL 64.40625 56.890625 \nQ 59.421875 61.53125 53.78125 63.8125 \nQ 48.140625 66.109375 41.796875 66.109375 \nQ 29.296875 66.109375 22.65625 58.46875 \nQ 16.015625 50.828125 16.015625 36.375 \nQ 16.015625 21.96875 22.65625 14.328125 \nQ 29.296875 6.6875 41.796875 6.6875 \nQ 48.140625 6.6875 53.78125 8.984375 \nQ 59.421875 11.28125 64.40625 15.921875 \nL 64.40625 5.609375 \nQ 59.234375 2.09375 53.4375 0.328125 \nQ 47.65625 -1.421875 41.21875 -1.421875 \nQ 24.65625 -1.421875 15.125 8.703125 \nQ 5.609375 18.84375 5.609375 36.375 \nQ 5.609375 53.953125 15.125 64.078125 \nQ 24.65625 74.21875 41.21875 74.21875 \nQ 47.75 74.21875 53.53125 72.484375 \nQ 59.328125 70.75 64.40625 67.28125 \nz\n\" id=\"DejaVuSans-67\"/>\n      </defs>\n      <use xlink:href=\"#DejaVuSans-80\"/>\n      <use x=\"56.677734\" xlink:href=\"#DejaVuSans-111\"/>\n      <use x=\"117.859375\" xlink:href=\"#DejaVuSans-115\"/>\n      <use x=\"169.958984\" xlink:href=\"#DejaVuSans-105\"/>\n      <use x=\"197.742188\" xlink:href=\"#DejaVuSans-116\"/>\n      <use x=\"236.951172\" xlink:href=\"#DejaVuSans-105\"/>\n      <use x=\"264.734375\" xlink:href=\"#DejaVuSans-118\"/>\n      <use x=\"323.914062\" xlink:href=\"#DejaVuSans-101\"/>\n      <use x=\"385.4375\" xlink:href=\"#DejaVuSans-32\"/>\n      <use x=\"417.224609\" xlink:href=\"#DejaVuSans-67\"/>\n      <use x=\"487.048828\" xlink:href=\"#DejaVuSans-97\"/>\n      <use x=\"548.328125\" xlink:href=\"#DejaVuSans-115\"/>\n      <use x=\"600.427734\" xlink:href=\"#DejaVuSans-101\"/>\n      <use x=\"661.951172\" xlink:href=\"#DejaVuSans-115\"/>\n     </g>\n    </g>\n    <g id=\"line2d_18\">\n     <path d=\"M 255.992188 34.976562 \nL 275.992188 34.976562 \n\" style=\"fill:none;stroke:#ff7f0e;stroke-linecap:square;stroke-width:1.5;\"/>\n    </g>\n    <g id=\"line2d_19\"/>\n    <g id=\"text_16\">\n     <!-- Recovered Cases -->\n     <g transform=\"translate(283.992188 38.476562)scale(0.1 -0.1)\">\n      <defs>\n       <path d=\"M 44.390625 34.1875 \nQ 47.5625 33.109375 50.5625 29.59375 \nQ 53.5625 26.078125 56.59375 19.921875 \nL 66.609375 0 \nL 56 0 \nL 46.6875 18.703125 \nQ 43.0625 26.03125 39.671875 28.421875 \nQ 36.28125 30.8125 30.421875 30.8125 \nL 19.671875 30.8125 \nL 19.671875 0 \nL 9.8125 0 \nL 9.8125 72.90625 \nL 32.078125 72.90625 \nQ 44.578125 72.90625 50.734375 67.671875 \nQ 56.890625 62.453125 56.890625 51.90625 \nQ 56.890625 45.015625 53.6875 40.46875 \nQ 50.484375 35.9375 44.390625 34.1875 \nz\nM 19.671875 64.796875 \nL 19.671875 38.921875 \nL 32.078125 38.921875 \nQ 39.203125 38.921875 42.84375 42.21875 \nQ 46.484375 45.515625 46.484375 51.90625 \nQ 46.484375 58.296875 42.84375 61.546875 \nQ 39.203125 64.796875 32.078125 64.796875 \nz\n\" id=\"DejaVuSans-82\"/>\n       <path d=\"M 48.78125 52.59375 \nL 48.78125 44.1875 \nQ 44.96875 46.296875 41.140625 47.34375 \nQ 37.3125 48.390625 33.40625 48.390625 \nQ 24.65625 48.390625 19.8125 42.84375 \nQ 14.984375 37.3125 14.984375 27.296875 \nQ 14.984375 17.28125 19.8125 11.734375 \nQ 24.65625 6.203125 33.40625 6.203125 \nQ 37.3125 6.203125 41.140625 7.25 \nQ 44.96875 8.296875 48.78125 10.40625 \nL 48.78125 2.09375 \nQ 45.015625 0.34375 40.984375 -0.53125 \nQ 36.96875 -1.421875 32.421875 -1.421875 \nQ 20.0625 -1.421875 12.78125 6.34375 \nQ 5.515625 14.109375 5.515625 27.296875 \nQ 5.515625 40.671875 12.859375 48.328125 \nQ 20.21875 56 33.015625 56 \nQ 37.15625 56 41.109375 55.140625 \nQ 45.0625 54.296875 48.78125 52.59375 \nz\n\" id=\"DejaVuSans-99\"/>\n       <path d=\"M 41.109375 46.296875 \nQ 39.59375 47.171875 37.8125 47.578125 \nQ 36.03125 48 33.890625 48 \nQ 26.265625 48 22.1875 43.046875 \nQ 18.109375 38.09375 18.109375 28.8125 \nL 18.109375 0 \nL 9.078125 0 \nL 9.078125 54.6875 \nL 18.109375 54.6875 \nL 18.109375 46.1875 \nQ 20.953125 51.171875 25.484375 53.578125 \nQ 30.03125 56 36.53125 56 \nQ 37.453125 56 38.578125 55.875 \nQ 39.703125 55.765625 41.0625 55.515625 \nz\n\" id=\"DejaVuSans-114\"/>\n      </defs>\n      <use xlink:href=\"#DejaVuSans-82\"/>\n      <use x=\"64.982422\" xlink:href=\"#DejaVuSans-101\"/>\n      <use x=\"126.505859\" xlink:href=\"#DejaVuSans-99\"/>\n      <use x=\"181.486328\" xlink:href=\"#DejaVuSans-111\"/>\n      <use x=\"242.667969\" xlink:href=\"#DejaVuSans-118\"/>\n      <use x=\"301.847656\" xlink:href=\"#DejaVuSans-101\"/>\n      <use x=\"363.371094\" xlink:href=\"#DejaVuSans-114\"/>\n      <use x=\"402.234375\" xlink:href=\"#DejaVuSans-101\"/>\n      <use x=\"463.757812\" xlink:href=\"#DejaVuSans-100\"/>\n      <use x=\"527.234375\" xlink:href=\"#DejaVuSans-32\"/>\n      <use x=\"559.021484\" xlink:href=\"#DejaVuSans-67\"/>\n      <use x=\"628.845703\" xlink:href=\"#DejaVuSans-97\"/>\n      <use x=\"690.125\" xlink:href=\"#DejaVuSans-115\"/>\n      <use x=\"742.224609\" xlink:href=\"#DejaVuSans-101\"/>\n      <use x=\"803.748047\" xlink:href=\"#DejaVuSans-115\"/>\n     </g>\n    </g>\n    <g id=\"line2d_20\">\n     <path d=\"M 255.992188 49.654687 \nL 275.992188 49.654687 \n\" style=\"fill:none;stroke:#2ca02c;stroke-linecap:square;stroke-width:1.5;\"/>\n    </g>\n    <g id=\"line2d_21\"/>\n    <g id=\"text_17\">\n     <!-- Death Cases -->\n     <g transform=\"translate(283.992188 53.154687)scale(0.1 -0.1)\">\n      <use xlink:href=\"#DejaVuSans-68\"/>\n      <use x=\"77.001953\" xlink:href=\"#DejaVuSans-101\"/>\n      <use x=\"138.525391\" xlink:href=\"#DejaVuSans-97\"/>\n      <use x=\"199.804688\" xlink:href=\"#DejaVuSans-116\"/>\n      <use x=\"239.013672\" xlink:href=\"#DejaVuSans-104\"/>\n      <use x=\"302.392578\" xlink:href=\"#DejaVuSans-32\"/>\n      <use x=\"334.179688\" xlink:href=\"#DejaVuSans-67\"/>\n      <use x=\"404.003906\" xlink:href=\"#DejaVuSans-97\"/>\n      <use x=\"465.283203\" xlink:href=\"#DejaVuSans-115\"/>\n      <use x=\"517.382812\" xlink:href=\"#DejaVuSans-101\"/>\n      <use x=\"578.90625\" xlink:href=\"#DejaVuSans-115\"/>\n     </g>\n    </g>\n   </g>\n  </g>\n </g>\n <defs>\n  <clipPath id=\"p8cd93e1716\">\n   <rect height=\"217.44\" width=\"334.8\" x=\"43.78125\" y=\"7.2\"/>\n  </clipPath>\n </defs>\n</svg>\n",
      "image/png": "[encoded data removed]"
     },
     "metadata": {
      "needs_background": "light"
     }
    }
   ],
   "source": [
    "positive_vs_recover = data[['state', 'positive', 'recovered','death']].dropna()\n",
    "positive_vs_recover = positive_vs_recover.groupby(['state'], sort=False)['positive', 'recovered', 'death'].max().reset_index()\n",
    "display(positive_vs_recover.head())\n",
    "display(stats.pearsonr(positive_vs_recover['positive'], positive_vs_recover['recovered']))\n",
    "positive_vs_recover[['positive', 'recovered', 'death']] = StandardScaler().fit_transform(positive_vs_recover[['positive', 'recovered', 'death']])\n",
    "plt.figure(\"Positive vs recovered distribution\")\n",
    "sns.distplot(positive_vs_recover['positive'], label=\"Positive Cases\", rug=True, hist=False)\n",
    "sns.distplot(positive_vs_recover['recovered'], label= \"Recovered Cases\", rug=True, hist=False)\n",
    "sns.distplot(positive_vs_recover['death'], label= \"Death Cases\", rug=True, hist=False)\n",
    "plt.legend()\n",
    "plt.show()\n",
    "#sns.regplot(x=positive_vs_recover['positive'], y=positive_vs_recover['recovered'])"
   ]
  },
  {
   "cell_type": "code",
   "execution_count": 72,
   "metadata": {},
   "outputs": [
    {
     "output_type": "display_data",
     "data": {
      "text/plain": "<Figure size 432x288 with 1 Axes>",
      "image/svg+xml": "<?xml version=\"1.0\" encoding=\"utf-8\" standalone=\"no\"?>\n<!DOCTYPE svg PUBLIC \"-//W3C//DTD SVG 1.1//EN\"\n  \"http://www.w3.org/Graphics/SVG/1.1/DTD/svg11.dtd\">\n<!-- Created with matplotlib (https://matplotlib.org/) -->\n<svg height=\"262.19625pt\" version=\"1.1\" viewBox=\"0 0 385.78125 262.19625\" width=\"385.78125pt\" xmlns=\"http://www.w3.org/2000/svg\" xmlns:xlink=\"http://www.w3.org/1999/xlink\">\n <metadata>\n  <rdf:RDF xmlns:cc=\"http://creativecommons.org/ns#\" xmlns:dc=\"http://purl.org/dc/elements/1.1/\" xmlns:rdf=\"http://www.w3.org/1999/02/22-rdf-syntax-ns#\">\n   <cc:Work>\n    <dc:type rdf:resource=\"http://purl.org/dc/dcmitype/StillImage\"/>\n    <dc:date>2021-02-17T13:15:37.613375</dc:date>\n    <dc:format>image/svg+xml</dc:format>\n    <dc:creator>\n     <cc:Agent>\n      <dc:title>Matplotlib v3.3.4, https://matplotlib.org/</dc:title>\n     </cc:Agent>\n    </dc:creator>\n   </cc:Work>\n  </rdf:RDF>\n </metadata>\n <defs>\n  <style type=\"text/css\">*{stroke-linecap:butt;stroke-linejoin:round;}</style>\n </defs>\n <g id=\"figure_1\">\n  <g id=\"patch_1\">\n   <path d=\"M 0 262.19625 \nL 385.78125 262.19625 \nL 385.78125 0 \nL 0 0 \nz\n\" style=\"fill:none;\"/>\n  </g>\n  <g id=\"axes_1\">\n   <g id=\"patch_2\">\n    <path d=\"M 43.78125 224.64 \nL 378.58125 224.64 \nL 378.58125 7.2 \nL 43.78125 7.2 \nz\n\" style=\"fill:#ffffff;\"/>\n   </g>\n   <g id=\"matplotlib.axis_1\">\n    <g id=\"xtick_1\">\n     <g id=\"line2d_1\">\n      <defs>\n       <path d=\"M 0 0 \nL 0 3.5 \n\" id=\"m8bedef9805\" style=\"stroke:#000000;stroke-width:0.8;\"/>\n      </defs>\n      <g>\n       <use style=\"stroke:#000000;stroke-width:0.8;\" x=\"73.55332\" xlink:href=\"#m8bedef9805\" y=\"224.64\"/>\n      </g>\n     </g>\n     <g id=\"text_1\">\n      <!-- −2 -->\n      <g transform=\"translate(66.182226 239.238438)scale(0.1 -0.1)\">\n       <defs>\n        <path d=\"M 10.59375 35.5 \nL 73.1875 35.5 \nL 73.1875 27.203125 \nL 10.59375 27.203125 \nz\n\" id=\"DejaVuSans-8722\"/>\n        <path d=\"M 19.1875 8.296875 \nL 53.609375 8.296875 \nL 53.609375 0 \nL 7.328125 0 \nL 7.328125 8.296875 \nQ 12.9375 14.109375 22.625 23.890625 \nQ 32.328125 33.6875 34.8125 36.53125 \nQ 39.546875 41.84375 41.421875 45.53125 \nQ 43.3125 49.21875 43.3125 52.78125 \nQ 43.3125 58.59375 39.234375 62.25 \nQ 35.15625 65.921875 28.609375 65.921875 \nQ 23.96875 65.921875 18.8125 64.3125 \nQ 13.671875 62.703125 7.8125 59.421875 \nL 7.8125 69.390625 \nQ 13.765625 71.78125 18.9375 73 \nQ 24.125 74.21875 28.421875 74.21875 \nQ 39.75 74.21875 46.484375 68.546875 \nQ 53.21875 62.890625 53.21875 53.421875 \nQ 53.21875 48.921875 51.53125 44.890625 \nQ 49.859375 40.875 45.40625 35.40625 \nQ 44.1875 33.984375 37.640625 27.21875 \nQ 31.109375 20.453125 19.1875 8.296875 \nz\n\" id=\"DejaVuSans-50\"/>\n       </defs>\n       <use xlink:href=\"#DejaVuSans-8722\"/>\n       <use x=\"83.789062\" xlink:href=\"#DejaVuSans-50\"/>\n      </g>\n     </g>\n    </g>\n    <g id=\"xtick_2\">\n     <g id=\"line2d_2\">\n      <g>\n       <use style=\"stroke:#000000;stroke-width:0.8;\" x=\"113.683128\" xlink:href=\"#m8bedef9805\" y=\"224.64\"/>\n      </g>\n     </g>\n     <g id=\"text_2\">\n      <!-- −1 -->\n      <g transform=\"translate(106.312034 239.238438)scale(0.1 -0.1)\">\n       <defs>\n        <path d=\"M 12.40625 8.296875 \nL 28.515625 8.296875 \nL 28.515625 63.921875 \nL 10.984375 60.40625 \nL 10.984375 69.390625 \nL 28.421875 72.90625 \nL 38.28125 72.90625 \nL 38.28125 8.296875 \nL 54.390625 8.296875 \nL 54.390625 0 \nL 12.40625 0 \nz\n\" id=\"DejaVuSans-49\"/>\n       </defs>\n       <use xlink:href=\"#DejaVuSans-8722\"/>\n       <use x=\"83.789062\" xlink:href=\"#DejaVuSans-49\"/>\n      </g>\n     </g>\n    </g>\n    <g id=\"xtick_3\">\n     <g id=\"line2d_3\">\n      <g>\n       <use style=\"stroke:#000000;stroke-width:0.8;\" x=\"153.812936\" xlink:href=\"#m8bedef9805\" y=\"224.64\"/>\n      </g>\n     </g>\n     <g id=\"text_3\">\n      <!-- 0 -->\n      <g transform=\"translate(150.631686 239.238438)scale(0.1 -0.1)\">\n       <defs>\n        <path d=\"M 31.78125 66.40625 \nQ 24.171875 66.40625 20.328125 58.90625 \nQ 16.5 51.421875 16.5 36.375 \nQ 16.5 21.390625 20.328125 13.890625 \nQ 24.171875 6.390625 31.78125 6.390625 \nQ 39.453125 6.390625 43.28125 13.890625 \nQ 47.125 21.390625 47.125 36.375 \nQ 47.125 51.421875 43.28125 58.90625 \nQ 39.453125 66.40625 31.78125 66.40625 \nz\nM 31.78125 74.21875 \nQ 44.046875 74.21875 50.515625 64.515625 \nQ 56.984375 54.828125 56.984375 36.375 \nQ 56.984375 17.96875 50.515625 8.265625 \nQ 44.046875 -1.421875 31.78125 -1.421875 \nQ 19.53125 -1.421875 13.0625 8.265625 \nQ 6.59375 17.96875 6.59375 36.375 \nQ 6.59375 54.828125 13.0625 64.515625 \nQ 19.53125 74.21875 31.78125 74.21875 \nz\n\" id=\"DejaVuSans-48\"/>\n       </defs>\n       <use xlink:href=\"#DejaVuSans-48\"/>\n      </g>\n     </g>\n    </g>\n    <g id=\"xtick_4\">\n     <g id=\"line2d_4\">\n      <g>\n       <use style=\"stroke:#000000;stroke-width:0.8;\" x=\"193.942744\" xlink:href=\"#m8bedef9805\" y=\"224.64\"/>\n      </g>\n     </g>\n     <g id=\"text_4\">\n      <!-- 1 -->\n      <g transform=\"translate(190.761494 239.238438)scale(0.1 -0.1)\">\n       <use xlink:href=\"#DejaVuSans-49\"/>\n      </g>\n     </g>\n    </g>\n    <g id=\"xtick_5\">\n     <g id=\"line2d_5\">\n      <g>\n       <use style=\"stroke:#000000;stroke-width:0.8;\" x=\"234.072552\" xlink:href=\"#m8bedef9805\" y=\"224.64\"/>\n      </g>\n     </g>\n     <g id=\"text_5\">\n      <!-- 2 -->\n      <g transform=\"translate(230.891302 239.238438)scale(0.1 -0.1)\">\n       <use xlink:href=\"#DejaVuSans-50\"/>\n      </g>\n     </g>\n    </g>\n    <g id=\"xtick_6\">\n     <g id=\"line2d_6\">\n      <g>\n       <use style=\"stroke:#000000;stroke-width:0.8;\" x=\"274.20236\" xlink:href=\"#m8bedef9805\" y=\"224.64\"/>\n      </g>\n     </g>\n     <g id=\"text_6\">\n      <!-- 3 -->\n      <g transform=\"translate(271.02111 239.238438)scale(0.1 -0.1)\">\n       <defs>\n        <path d=\"M 40.578125 39.3125 \nQ 47.65625 37.796875 51.625 33 \nQ 55.609375 28.21875 55.609375 21.1875 \nQ 55.609375 10.40625 48.1875 4.484375 \nQ 40.765625 -1.421875 27.09375 -1.421875 \nQ 22.515625 -1.421875 17.65625 -0.515625 \nQ 12.796875 0.390625 7.625 2.203125 \nL 7.625 11.71875 \nQ 11.71875 9.328125 16.59375 8.109375 \nQ 21.484375 6.890625 26.8125 6.890625 \nQ 36.078125 6.890625 40.9375 10.546875 \nQ 45.796875 14.203125 45.796875 21.1875 \nQ 45.796875 27.640625 41.28125 31.265625 \nQ 36.765625 34.90625 28.71875 34.90625 \nL 20.21875 34.90625 \nL 20.21875 43.015625 \nL 29.109375 43.015625 \nQ 36.375 43.015625 40.234375 45.921875 \nQ 44.09375 48.828125 44.09375 54.296875 \nQ 44.09375 59.90625 40.109375 62.90625 \nQ 36.140625 65.921875 28.71875 65.921875 \nQ 24.65625 65.921875 20.015625 65.03125 \nQ 15.375 64.15625 9.8125 62.3125 \nL 9.8125 71.09375 \nQ 15.4375 72.65625 20.34375 73.4375 \nQ 25.25 74.21875 29.59375 74.21875 \nQ 40.828125 74.21875 47.359375 69.109375 \nQ 53.90625 64.015625 53.90625 55.328125 \nQ 53.90625 49.265625 50.4375 45.09375 \nQ 46.96875 40.921875 40.578125 39.3125 \nz\n\" id=\"DejaVuSans-51\"/>\n       </defs>\n       <use xlink:href=\"#DejaVuSans-51\"/>\n      </g>\n     </g>\n    </g>\n    <g id=\"xtick_7\">\n     <g id=\"line2d_7\">\n      <g>\n       <use style=\"stroke:#000000;stroke-width:0.8;\" x=\"314.332168\" xlink:href=\"#m8bedef9805\" y=\"224.64\"/>\n      </g>\n     </g>\n     <g id=\"text_7\">\n      <!-- 4 -->\n      <g transform=\"translate(311.150918 239.238438)scale(0.1 -0.1)\">\n       <defs>\n        <path d=\"M 37.796875 64.3125 \nL 12.890625 25.390625 \nL 37.796875 25.390625 \nz\nM 35.203125 72.90625 \nL 47.609375 72.90625 \nL 47.609375 25.390625 \nL 58.015625 25.390625 \nL 58.015625 17.1875 \nL 47.609375 17.1875 \nL 47.609375 0 \nL 37.796875 0 \nL 37.796875 17.1875 \nL 4.890625 17.1875 \nL 4.890625 26.703125 \nz\n\" id=\"DejaVuSans-52\"/>\n       </defs>\n       <use xlink:href=\"#DejaVuSans-52\"/>\n      </g>\n     </g>\n    </g>\n    <g id=\"xtick_8\">\n     <g id=\"line2d_8\">\n      <g>\n       <use style=\"stroke:#000000;stroke-width:0.8;\" x=\"354.461976\" xlink:href=\"#m8bedef9805\" y=\"224.64\"/>\n      </g>\n     </g>\n     <g id=\"text_8\">\n      <!-- 5 -->\n      <g transform=\"translate(351.280726 239.238438)scale(0.1 -0.1)\">\n       <defs>\n        <path d=\"M 10.796875 72.90625 \nL 49.515625 72.90625 \nL 49.515625 64.59375 \nL 19.828125 64.59375 \nL 19.828125 46.734375 \nQ 21.96875 47.46875 24.109375 47.828125 \nQ 26.265625 48.1875 28.421875 48.1875 \nQ 40.625 48.1875 47.75 41.5 \nQ 54.890625 34.8125 54.890625 23.390625 \nQ 54.890625 11.625 47.5625 5.09375 \nQ 40.234375 -1.421875 26.90625 -1.421875 \nQ 22.3125 -1.421875 17.546875 -0.640625 \nQ 12.796875 0.140625 7.71875 1.703125 \nL 7.71875 11.625 \nQ 12.109375 9.234375 16.796875 8.0625 \nQ 21.484375 6.890625 26.703125 6.890625 \nQ 35.15625 6.890625 40.078125 11.328125 \nQ 45.015625 15.765625 45.015625 23.390625 \nQ 45.015625 31 40.078125 35.4375 \nQ 35.15625 39.890625 26.703125 39.890625 \nQ 22.75 39.890625 18.8125 39.015625 \nQ 14.890625 38.140625 10.796875 36.28125 \nz\n\" id=\"DejaVuSans-53\"/>\n       </defs>\n       <use xlink:href=\"#DejaVuSans-53\"/>\n      </g>\n     </g>\n    </g>\n    <g id=\"text_9\">\n     <!-- death -->\n     <g transform=\"translate(196.7375 252.916563)scale(0.1 -0.1)\">\n      <defs>\n       <path d=\"M 45.40625 46.390625 \nL 45.40625 75.984375 \nL 54.390625 75.984375 \nL 54.390625 0 \nL 45.40625 0 \nL 45.40625 8.203125 \nQ 42.578125 3.328125 38.25 0.953125 \nQ 33.9375 -1.421875 27.875 -1.421875 \nQ 17.96875 -1.421875 11.734375 6.484375 \nQ 5.515625 14.40625 5.515625 27.296875 \nQ 5.515625 40.1875 11.734375 48.09375 \nQ 17.96875 56 27.875 56 \nQ 33.9375 56 38.25 53.625 \nQ 42.578125 51.265625 45.40625 46.390625 \nz\nM 14.796875 27.296875 \nQ 14.796875 17.390625 18.875 11.75 \nQ 22.953125 6.109375 30.078125 6.109375 \nQ 37.203125 6.109375 41.296875 11.75 \nQ 45.40625 17.390625 45.40625 27.296875 \nQ 45.40625 37.203125 41.296875 42.84375 \nQ 37.203125 48.484375 30.078125 48.484375 \nQ 22.953125 48.484375 18.875 42.84375 \nQ 14.796875 37.203125 14.796875 27.296875 \nz\n\" id=\"DejaVuSans-100\"/>\n       <path d=\"M 56.203125 29.59375 \nL 56.203125 25.203125 \nL 14.890625 25.203125 \nQ 15.484375 15.921875 20.484375 11.0625 \nQ 25.484375 6.203125 34.421875 6.203125 \nQ 39.59375 6.203125 44.453125 7.46875 \nQ 49.3125 8.734375 54.109375 11.28125 \nL 54.109375 2.78125 \nQ 49.265625 0.734375 44.1875 -0.34375 \nQ 39.109375 -1.421875 33.890625 -1.421875 \nQ 20.796875 -1.421875 13.15625 6.1875 \nQ 5.515625 13.8125 5.515625 26.8125 \nQ 5.515625 40.234375 12.765625 48.109375 \nQ 20.015625 56 32.328125 56 \nQ 43.359375 56 49.78125 48.890625 \nQ 56.203125 41.796875 56.203125 29.59375 \nz\nM 47.21875 32.234375 \nQ 47.125 39.59375 43.09375 43.984375 \nQ 39.0625 48.390625 32.421875 48.390625 \nQ 24.90625 48.390625 20.390625 44.140625 \nQ 15.875 39.890625 15.1875 32.171875 \nz\n\" id=\"DejaVuSans-101\"/>\n       <path d=\"M 34.28125 27.484375 \nQ 23.390625 27.484375 19.1875 25 \nQ 14.984375 22.515625 14.984375 16.5 \nQ 14.984375 11.71875 18.140625 8.90625 \nQ 21.296875 6.109375 26.703125 6.109375 \nQ 34.1875 6.109375 38.703125 11.40625 \nQ 43.21875 16.703125 43.21875 25.484375 \nL 43.21875 27.484375 \nz\nM 52.203125 31.203125 \nL 52.203125 0 \nL 43.21875 0 \nL 43.21875 8.296875 \nQ 40.140625 3.328125 35.546875 0.953125 \nQ 30.953125 -1.421875 24.3125 -1.421875 \nQ 15.921875 -1.421875 10.953125 3.296875 \nQ 6 8.015625 6 15.921875 \nQ 6 25.140625 12.171875 29.828125 \nQ 18.359375 34.515625 30.609375 34.515625 \nL 43.21875 34.515625 \nL 43.21875 35.40625 \nQ 43.21875 41.609375 39.140625 45 \nQ 35.0625 48.390625 27.6875 48.390625 \nQ 23 48.390625 18.546875 47.265625 \nQ 14.109375 46.140625 10.015625 43.890625 \nL 10.015625 52.203125 \nQ 14.9375 54.109375 19.578125 55.046875 \nQ 24.21875 56 28.609375 56 \nQ 40.484375 56 46.34375 49.84375 \nQ 52.203125 43.703125 52.203125 31.203125 \nz\n\" id=\"DejaVuSans-97\"/>\n       <path d=\"M 18.3125 70.21875 \nL 18.3125 54.6875 \nL 36.8125 54.6875 \nL 36.8125 47.703125 \nL 18.3125 47.703125 \nL 18.3125 18.015625 \nQ 18.3125 11.328125 20.140625 9.421875 \nQ 21.96875 7.515625 27.59375 7.515625 \nL 36.8125 7.515625 \nL 36.8125 0 \nL 27.59375 0 \nQ 17.1875 0 13.234375 3.875 \nQ 9.28125 7.765625 9.28125 18.015625 \nL 9.28125 47.703125 \nL 2.6875 47.703125 \nL 2.6875 54.6875 \nL 9.28125 54.6875 \nL 9.28125 70.21875 \nz\n\" id=\"DejaVuSans-116\"/>\n       <path d=\"M 54.890625 33.015625 \nL 54.890625 0 \nL 45.90625 0 \nL 45.90625 32.71875 \nQ 45.90625 40.484375 42.875 44.328125 \nQ 39.84375 48.1875 33.796875 48.1875 \nQ 26.515625 48.1875 22.3125 43.546875 \nQ 18.109375 38.921875 18.109375 30.90625 \nL 18.109375 0 \nL 9.078125 0 \nL 9.078125 75.984375 \nL 18.109375 75.984375 \nL 18.109375 46.1875 \nQ 21.34375 51.125 25.703125 53.5625 \nQ 30.078125 56 35.796875 56 \nQ 45.21875 56 50.046875 50.171875 \nQ 54.890625 44.34375 54.890625 33.015625 \nz\n\" id=\"DejaVuSans-104\"/>\n      </defs>\n      <use xlink:href=\"#DejaVuSans-100\"/>\n      <use x=\"63.476562\" xlink:href=\"#DejaVuSans-101\"/>\n      <use x=\"125\" xlink:href=\"#DejaVuSans-97\"/>\n      <use x=\"186.279297\" xlink:href=\"#DejaVuSans-116\"/>\n      <use x=\"225.488281\" xlink:href=\"#DejaVuSans-104\"/>\n     </g>\n    </g>\n   </g>\n   <g id=\"matplotlib.axis_2\">\n    <g id=\"ytick_1\">\n     <g id=\"line2d_9\">\n      <defs>\n       <path d=\"M 0 0 \nL -3.5 0 \n\" id=\"m8f6b26d912\" style=\"stroke:#000000;stroke-width:0.8;\"/>\n      </defs>\n      <g>\n       <use style=\"stroke:#000000;stroke-width:0.8;\" x=\"43.78125\" xlink:href=\"#m8f6b26d912\" y=\"224.64\"/>\n      </g>\n     </g>\n     <g id=\"text_10\">\n      <!-- 0.0 -->\n      <g transform=\"translate(20.878125 228.439219)scale(0.1 -0.1)\">\n       <defs>\n        <path d=\"M 10.6875 12.40625 \nL 21 12.40625 \nL 21 0 \nL 10.6875 0 \nz\n\" id=\"DejaVuSans-46\"/>\n       </defs>\n       <use xlink:href=\"#DejaVuSans-48\"/>\n       <use x=\"63.623047\" xlink:href=\"#DejaVuSans-46\"/>\n       <use x=\"95.410156\" xlink:href=\"#DejaVuSans-48\"/>\n      </g>\n     </g>\n    </g>\n    <g id=\"ytick_2\">\n     <g id=\"line2d_10\">\n      <g>\n       <use style=\"stroke:#000000;stroke-width:0.8;\" x=\"43.78125\" xlink:href=\"#m8f6b26d912\" y=\"188.355284\"/>\n      </g>\n     </g>\n     <g id=\"text_11\">\n      <!-- 0.1 -->\n      <g transform=\"translate(20.878125 192.154503)scale(0.1 -0.1)\">\n       <use xlink:href=\"#DejaVuSans-48\"/>\n       <use x=\"63.623047\" xlink:href=\"#DejaVuSans-46\"/>\n       <use x=\"95.410156\" xlink:href=\"#DejaVuSans-49\"/>\n      </g>\n     </g>\n    </g>\n    <g id=\"ytick_3\">\n     <g id=\"line2d_11\">\n      <g>\n       <use style=\"stroke:#000000;stroke-width:0.8;\" x=\"43.78125\" xlink:href=\"#m8f6b26d912\" y=\"152.070568\"/>\n      </g>\n     </g>\n     <g id=\"text_12\">\n      <!-- 0.2 -->\n      <g transform=\"translate(20.878125 155.869787)scale(0.1 -0.1)\">\n       <use xlink:href=\"#DejaVuSans-48\"/>\n       <use x=\"63.623047\" xlink:href=\"#DejaVuSans-46\"/>\n       <use x=\"95.410156\" xlink:href=\"#DejaVuSans-50\"/>\n      </g>\n     </g>\n    </g>\n    <g id=\"ytick_4\">\n     <g id=\"line2d_12\">\n      <g>\n       <use style=\"stroke:#000000;stroke-width:0.8;\" x=\"43.78125\" xlink:href=\"#m8f6b26d912\" y=\"115.785852\"/>\n      </g>\n     </g>\n     <g id=\"text_13\">\n      <!-- 0.3 -->\n      <g transform=\"translate(20.878125 119.585071)scale(0.1 -0.1)\">\n       <use xlink:href=\"#DejaVuSans-48\"/>\n       <use x=\"63.623047\" xlink:href=\"#DejaVuSans-46\"/>\n       <use x=\"95.410156\" xlink:href=\"#DejaVuSans-51\"/>\n      </g>\n     </g>\n    </g>\n    <g id=\"ytick_5\">\n     <g id=\"line2d_13\">\n      <g>\n       <use style=\"stroke:#000000;stroke-width:0.8;\" x=\"43.78125\" xlink:href=\"#m8f6b26d912\" y=\"79.501136\"/>\n      </g>\n     </g>\n     <g id=\"text_14\">\n      <!-- 0.4 -->\n      <g transform=\"translate(20.878125 83.300355)scale(0.1 -0.1)\">\n       <use xlink:href=\"#DejaVuSans-48\"/>\n       <use x=\"63.623047\" xlink:href=\"#DejaVuSans-46\"/>\n       <use x=\"95.410156\" xlink:href=\"#DejaVuSans-52\"/>\n      </g>\n     </g>\n    </g>\n    <g id=\"ytick_6\">\n     <g id=\"line2d_14\">\n      <g>\n       <use style=\"stroke:#000000;stroke-width:0.8;\" x=\"43.78125\" xlink:href=\"#m8f6b26d912\" y=\"43.21642\"/>\n      </g>\n     </g>\n     <g id=\"text_15\">\n      <!-- 0.5 -->\n      <g transform=\"translate(20.878125 47.015638)scale(0.1 -0.1)\">\n       <use xlink:href=\"#DejaVuSans-48\"/>\n       <use x=\"63.623047\" xlink:href=\"#DejaVuSans-46\"/>\n       <use x=\"95.410156\" xlink:href=\"#DejaVuSans-53\"/>\n      </g>\n     </g>\n    </g>\n    <g id=\"text_16\">\n     <!-- Density -->\n     <g transform=\"translate(14.798438 134.928594)rotate(-90)scale(0.1 -0.1)\">\n      <defs>\n       <path d=\"M 19.671875 64.796875 \nL 19.671875 8.109375 \nL 31.59375 8.109375 \nQ 46.6875 8.109375 53.6875 14.9375 \nQ 60.6875 21.78125 60.6875 36.53125 \nQ 60.6875 51.171875 53.6875 57.984375 \nQ 46.6875 64.796875 31.59375 64.796875 \nz\nM 9.8125 72.90625 \nL 30.078125 72.90625 \nQ 51.265625 72.90625 61.171875 64.09375 \nQ 71.09375 55.28125 71.09375 36.53125 \nQ 71.09375 17.671875 61.125 8.828125 \nQ 51.171875 0 30.078125 0 \nL 9.8125 0 \nz\n\" id=\"DejaVuSans-68\"/>\n       <path d=\"M 54.890625 33.015625 \nL 54.890625 0 \nL 45.90625 0 \nL 45.90625 32.71875 \nQ 45.90625 40.484375 42.875 44.328125 \nQ 39.84375 48.1875 33.796875 48.1875 \nQ 26.515625 48.1875 22.3125 43.546875 \nQ 18.109375 38.921875 18.109375 30.90625 \nL 18.109375 0 \nL 9.078125 0 \nL 9.078125 54.6875 \nL 18.109375 54.6875 \nL 18.109375 46.1875 \nQ 21.34375 51.125 25.703125 53.5625 \nQ 30.078125 56 35.796875 56 \nQ 45.21875 56 50.046875 50.171875 \nQ 54.890625 44.34375 54.890625 33.015625 \nz\n\" id=\"DejaVuSans-110\"/>\n       <path d=\"M 44.28125 53.078125 \nL 44.28125 44.578125 \nQ 40.484375 46.53125 36.375 47.5 \nQ 32.28125 48.484375 27.875 48.484375 \nQ 21.1875 48.484375 17.84375 46.4375 \nQ 14.5 44.390625 14.5 40.28125 \nQ 14.5 37.15625 16.890625 35.375 \nQ 19.28125 33.59375 26.515625 31.984375 \nL 29.59375 31.296875 \nQ 39.15625 29.25 43.1875 25.515625 \nQ 47.21875 21.78125 47.21875 15.09375 \nQ 47.21875 7.46875 41.1875 3.015625 \nQ 35.15625 -1.421875 24.609375 -1.421875 \nQ 20.21875 -1.421875 15.453125 -0.5625 \nQ 10.6875 0.296875 5.421875 2 \nL 5.421875 11.28125 \nQ 10.40625 8.6875 15.234375 7.390625 \nQ 20.0625 6.109375 24.8125 6.109375 \nQ 31.15625 6.109375 34.5625 8.28125 \nQ 37.984375 10.453125 37.984375 14.40625 \nQ 37.984375 18.0625 35.515625 20.015625 \nQ 33.0625 21.96875 24.703125 23.78125 \nL 21.578125 24.515625 \nQ 13.234375 26.265625 9.515625 29.90625 \nQ 5.8125 33.546875 5.8125 39.890625 \nQ 5.8125 47.609375 11.28125 51.796875 \nQ 16.75 56 26.8125 56 \nQ 31.78125 56 36.171875 55.265625 \nQ 40.578125 54.546875 44.28125 53.078125 \nz\n\" id=\"DejaVuSans-115\"/>\n       <path d=\"M 9.421875 54.6875 \nL 18.40625 54.6875 \nL 18.40625 0 \nL 9.421875 0 \nz\nM 9.421875 75.984375 \nL 18.40625 75.984375 \nL 18.40625 64.59375 \nL 9.421875 64.59375 \nz\n\" id=\"DejaVuSans-105\"/>\n       <path d=\"M 32.171875 -5.078125 \nQ 28.375 -14.84375 24.75 -17.8125 \nQ 21.140625 -20.796875 15.09375 -20.796875 \nL 7.90625 -20.796875 \nL 7.90625 -13.28125 \nL 13.1875 -13.28125 \nQ 16.890625 -13.28125 18.9375 -11.515625 \nQ 21 -9.765625 23.484375 -3.21875 \nL 25.09375 0.875 \nL 2.984375 54.6875 \nL 12.5 54.6875 \nL 29.59375 11.921875 \nL 46.6875 54.6875 \nL 56.203125 54.6875 \nz\n\" id=\"DejaVuSans-121\"/>\n      </defs>\n      <use xlink:href=\"#DejaVuSans-68\"/>\n      <use x=\"77.001953\" xlink:href=\"#DejaVuSans-101\"/>\n      <use x=\"138.525391\" xlink:href=\"#DejaVuSans-110\"/>\n      <use x=\"201.904297\" xlink:href=\"#DejaVuSans-115\"/>\n      <use x=\"254.003906\" xlink:href=\"#DejaVuSans-105\"/>\n      <use x=\"281.787109\" xlink:href=\"#DejaVuSans-116\"/>\n      <use x=\"320.996094\" xlink:href=\"#DejaVuSans-121\"/>\n     </g>\n    </g>\n   </g>\n   <g id=\"LineCollection_1\">\n    <path clip-path=\"url(#pecec4546f1)\" d=\"M 118.95715 224.64 \nL 118.95715 219.204 \n\" style=\"fill:none;stroke:#1f77b4;\"/>\n    <path clip-path=\"url(#pecec4546f1)\" d=\"M 198.537165 224.64 \nL 198.537165 219.204 \n\" style=\"fill:none;stroke:#1f77b4;\"/>\n    <path clip-path=\"url(#pecec4546f1)\" d=\"M 143.137288 224.64 \nL 143.137288 219.204 \n\" style=\"fill:none;stroke:#1f77b4;\"/>\n    <path clip-path=\"url(#pecec4546f1)\" d=\"M 219.345424 224.64 \nL 219.345424 219.204 \n\" style=\"fill:none;stroke:#1f77b4;\"/>\n    <path clip-path=\"url(#pecec4546f1)\" d=\"M 158.655281 224.64 \nL 158.655281 219.204 \n\" style=\"fill:none;stroke:#1f77b4;\"/>\n    <path clip-path=\"url(#pecec4546f1)\" d=\"M 142.036604 224.64 \nL 142.036604 219.204 \n\" style=\"fill:none;stroke:#1f77b4;\"/>\n    <path clip-path=\"url(#pecec4546f1)\" d=\"M 259.4423 224.64 \nL 259.4423 219.204 \n\" style=\"fill:none;stroke:#1f77b4;\"/>\n    <path clip-path=\"url(#pecec4546f1)\" d=\"M 215.289982 224.64 \nL 215.289982 219.204 \n\" style=\"fill:none;stroke:#1f77b4;\"/>\n    <path clip-path=\"url(#pecec4546f1)\" d=\"M 120.686272 224.64 \nL 120.686272 219.204 \n\" style=\"fill:none;stroke:#1f77b4;\"/>\n    <path clip-path=\"url(#pecec4546f1)\" d=\"M 129.352092 224.64 \nL 129.352092 219.204 \n\" style=\"fill:none;stroke:#1f77b4;\"/>\n    <path clip-path=\"url(#pecec4546f1)\" d=\"M 193.57398 224.64 \nL 193.57398 219.204 \n\" style=\"fill:none;stroke:#1f77b4;\"/>\n    <path clip-path=\"url(#pecec4546f1)\" d=\"M 133.087803 224.64 \nL 133.087803 219.204 \n\" style=\"fill:none;stroke:#1f77b4;\"/>\n    <path clip-path=\"url(#pecec4546f1)\" d=\"M 150.103388 224.64 \nL 150.103388 219.204 \n\" style=\"fill:none;stroke:#1f77b4;\"/>\n    <path clip-path=\"url(#pecec4546f1)\" d=\"M 151.345562 224.64 \nL 151.345562 219.204 \n\" style=\"fill:none;stroke:#1f77b4;\"/>\n    <path clip-path=\"url(#pecec4546f1)\" d=\"M 179.130946 224.64 \nL 179.130946 219.204 \n\" style=\"fill:none;stroke:#1f77b4;\"/>\n    <path clip-path=\"url(#pecec4546f1)\" d=\"M 119.423884 224.64 \nL 119.423884 219.204 \n\" style=\"fill:none;stroke:#1f77b4;\"/>\n    <path clip-path=\"url(#pecec4546f1)\" d=\"M 163.076393 224.64 \nL 163.076393 219.204 \n\" style=\"fill:none;stroke:#1f77b4;\"/>\n    <path clip-path=\"url(#pecec4546f1)\" d=\"M 116.698818 224.64 \nL 116.698818 219.204 \n\" style=\"fill:none;stroke:#1f77b4;\"/>\n    <path clip-path=\"url(#pecec4546f1)\" d=\"M 133.188868 224.64 \nL 133.188868 219.204 \n\" style=\"fill:none;stroke:#1f77b4;\"/>\n    <path clip-path=\"url(#pecec4546f1)\" d=\"M 124.888717 224.64 \nL 124.888717 219.204 \n\" style=\"fill:none;stroke:#1f77b4;\"/>\n    <path clip-path=\"url(#pecec4546f1)\" d=\"M 123.756795 224.64 \nL 123.756795 219.204 \n\" style=\"fill:none;stroke:#1f77b4;\"/>\n    <path clip-path=\"url(#pecec4546f1)\" d=\"M 127.650534 224.64 \nL 127.650534 219.204 \n\" style=\"fill:none;stroke:#1f77b4;\"/>\n    <path clip-path=\"url(#pecec4546f1)\" d=\"M 118.676007 224.64 \nL 118.676007 219.204 \n\" style=\"fill:none;stroke:#1f77b4;\"/>\n    <path clip-path=\"url(#pecec4546f1)\" d=\"M 231.704692 224.64 \nL 231.704692 219.204 \n\" style=\"fill:none;stroke:#1f77b4;\"/>\n    <path clip-path=\"url(#pecec4546f1)\" d=\"M 140.132917 224.64 \nL 140.132917 219.204 \n\" style=\"fill:none;stroke:#1f77b4;\"/>\n    <path clip-path=\"url(#pecec4546f1)\" d=\"M 282.060533 224.64 \nL 282.060533 219.204 \n\" style=\"fill:none;stroke:#1f77b4;\"/>\n    <path clip-path=\"url(#pecec4546f1)\" d=\"M 206.251142 224.64 \nL 206.251142 219.204 \n\" style=\"fill:none;stroke:#1f77b4;\"/>\n    <path clip-path=\"url(#pecec4546f1)\" d=\"M 159.450934 224.64 \nL 159.450934 219.204 \n\" style=\"fill:none;stroke:#1f77b4;\"/>\n    <path clip-path=\"url(#pecec4546f1)\" d=\"M 131.731701 224.64 \nL 131.731701 219.204 \n\" style=\"fill:none;stroke:#1f77b4;\"/>\n    <path clip-path=\"url(#pecec4546f1)\" d=\"M 132.836061 224.64 \nL 132.836061 219.204 \n\" style=\"fill:none;stroke:#1f77b4;\"/>\n    <path clip-path=\"url(#pecec4546f1)\" d=\"M 152.435221 224.64 \nL 152.435221 219.204 \n\" style=\"fill:none;stroke:#1f77b4;\"/>\n    <path clip-path=\"url(#pecec4546f1)\" d=\"M 128.563789 224.64 \nL 128.563789 219.204 \n\" style=\"fill:none;stroke:#1f77b4;\"/>\n    <path clip-path=\"url(#pecec4546f1)\" d=\"M 149.882883 224.64 \nL 149.882883 219.204 \n\" style=\"fill:none;stroke:#1f77b4;\"/>\n    <path clip-path=\"url(#pecec4546f1)\" d=\"M 142.856145 224.64 \nL 142.856145 219.204 \n\" style=\"fill:none;stroke:#1f77b4;\"/>\n    <path clip-path=\"url(#pecec4546f1)\" d=\"M 159.031976 224.64 \nL 159.031976 219.204 \n\" style=\"fill:none;stroke:#1f77b4;\"/>\n    <path clip-path=\"url(#pecec4546f1)\" d=\"M 150.948654 224.64 \nL 150.948654 219.204 \n\" style=\"fill:none;stroke:#1f77b4;\"/>\n    <path clip-path=\"url(#pecec4546f1)\" d=\"M 163.405312 224.64 \nL 163.405312 219.204 \n\" style=\"fill:none;stroke:#1f77b4;\"/>\n    <path clip-path=\"url(#pecec4546f1)\" d=\"M 119.192355 224.64 \nL 119.192355 219.204 \n\" style=\"fill:none;stroke:#1f77b4;\"/>\n    <path clip-path=\"url(#pecec4546f1)\" d=\"M 116.992824 224.64 \nL 116.992824 219.204 \n\" style=\"fill:none;stroke:#1f77b4;\"/>\n    <path clip-path=\"url(#pecec4546f1)\" d=\"M 117.046113 224.64 \nL 117.046113 219.204 \n\" style=\"fill:none;stroke:#1f77b4;\"/>\n    <path clip-path=\"url(#pecec4546f1)\" d=\"M 116.783345 224.64 \nL 116.783345 219.204 \n\" style=\"fill:none;stroke:#1f77b4;\"/>\n    <path clip-path=\"url(#pecec4546f1)\" d=\"M 118.795447 224.64 \nL 118.795447 219.204 \n\" style=\"fill:none;stroke:#1f77b4;\"/>\n   </g>\n   <g id=\"LineCollection_2\">\n    <path clip-path=\"url(#pecec4546f1)\" d=\"M 121.480243 224.64 \nL 121.480243 219.204 \n\" style=\"fill:none;stroke:#ff7f0e;\"/>\n    <path clip-path=\"url(#pecec4546f1)\" d=\"M 166.082858 224.64 \nL 166.082858 219.204 \n\" style=\"fill:none;stroke:#ff7f0e;\"/>\n    <path clip-path=\"url(#pecec4546f1)\" d=\"M 146.342347 224.64 \nL 146.342347 219.204 \n\" style=\"fill:none;stroke:#ff7f0e;\"/>\n    <path clip-path=\"url(#pecec4546f1)\" d=\"M 194.544994 224.64 \nL 194.544994 219.204 \n\" style=\"fill:none;stroke:#ff7f0e;\"/>\n    <path clip-path=\"url(#pecec4546f1)\" d=\"M 149.032427 224.64 \nL 149.032427 219.204 \n\" style=\"fill:none;stroke:#ff7f0e;\"/>\n    <path clip-path=\"url(#pecec4546f1)\" d=\"M 157.092721 224.64 \nL 157.092721 219.204 \n\" style=\"fill:none;stroke:#ff7f0e;\"/>\n    <path clip-path=\"url(#pecec4546f1)\" d=\"M 267.530187 224.64 \nL 267.530187 219.204 \n\" style=\"fill:none;stroke:#ff7f0e;\"/>\n    <path clip-path=\"url(#pecec4546f1)\" d=\"M 200.477092 224.64 \nL 200.477092 219.204 \n\" style=\"fill:none;stroke:#ff7f0e;\"/>\n    <path clip-path=\"url(#pecec4546f1)\" d=\"M 122.17141 224.64 \nL 122.17141 219.204 \n\" style=\"fill:none;stroke:#ff7f0e;\"/>\n    <path clip-path=\"url(#pecec4546f1)\" d=\"M 129.018433 224.64 \nL 129.018433 219.204 \n\" style=\"fill:none;stroke:#ff7f0e;\"/>\n    <path clip-path=\"url(#pecec4546f1)\" d=\"M 180.870837 224.64 \nL 180.870837 219.204 \n\" style=\"fill:none;stroke:#ff7f0e;\"/>\n    <path clip-path=\"url(#pecec4546f1)\" d=\"M 141.961644 224.64 \nL 141.961644 219.204 \n\" style=\"fill:none;stroke:#ff7f0e;\"/>\n    <path clip-path=\"url(#pecec4546f1)\" d=\"M 141.524071 224.64 \nL 141.524071 219.204 \n\" style=\"fill:none;stroke:#ff7f0e;\"/>\n    <path clip-path=\"url(#pecec4546f1)\" d=\"M 197.458833 224.64 \nL 197.458833 219.204 \n\" style=\"fill:none;stroke:#ff7f0e;\"/>\n    <path clip-path=\"url(#pecec4546f1)\" d=\"M 157.903225 224.64 \nL 157.903225 219.204 \n\" style=\"fill:none;stroke:#ff7f0e;\"/>\n    <path clip-path=\"url(#pecec4546f1)\" d=\"M 123.290204 224.64 \nL 123.290204 219.204 \n\" style=\"fill:none;stroke:#ff7f0e;\"/>\n    <path clip-path=\"url(#pecec4546f1)\" d=\"M 151.777203 224.64 \nL 151.777203 219.204 \n\" style=\"fill:none;stroke:#ff7f0e;\"/>\n    <path clip-path=\"url(#pecec4546f1)\" d=\"M 120.063103 224.64 \nL 120.063103 219.204 \n\" style=\"fill:none;stroke:#ff7f0e;\"/>\n    <path clip-path=\"url(#pecec4546f1)\" d=\"M 152.378866 224.64 \nL 152.378866 219.204 \n\" style=\"fill:none;stroke:#ff7f0e;\"/>\n    <path clip-path=\"url(#pecec4546f1)\" d=\"M 126.67145 224.64 \nL 126.67145 219.204 \n\" style=\"fill:none;stroke:#ff7f0e;\"/>\n    <path clip-path=\"url(#pecec4546f1)\" d=\"M 127.317865 224.64 \nL 127.317865 219.204 \n\" style=\"fill:none;stroke:#ff7f0e;\"/>\n    <path clip-path=\"url(#pecec4546f1)\" d=\"M 130.01789 224.64 \nL 130.01789 219.204 \n\" style=\"fill:none;stroke:#ff7f0e;\"/>\n    <path clip-path=\"url(#pecec4546f1)\" d=\"M 125.701828 224.64 \nL 125.701828 219.204 \n\" style=\"fill:none;stroke:#ff7f0e;\"/>\n    <path clip-path=\"url(#pecec4546f1)\" d=\"M 231.917709 224.64 \nL 231.917709 219.204 \n\" style=\"fill:none;stroke:#ff7f0e;\"/>\n    <path clip-path=\"url(#pecec4546f1)\" d=\"M 137.705252 224.64 \nL 137.705252 219.204 \n\" style=\"fill:none;stroke:#ff7f0e;\"/>\n    <path clip-path=\"url(#pecec4546f1)\" d=\"M 305.663682 224.64 \nL 305.663682 219.204 \n\" style=\"fill:none;stroke:#ff7f0e;\"/>\n    <path clip-path=\"url(#pecec4546f1)\" d=\"M 201.864398 224.64 \nL 201.864398 219.204 \n\" style=\"fill:none;stroke:#ff7f0e;\"/>\n    <path clip-path=\"url(#pecec4546f1)\" d=\"M 140.246159 224.64 \nL 140.246159 219.204 \n\" style=\"fill:none;stroke:#ff7f0e;\"/>\n    <path clip-path=\"url(#pecec4546f1)\" d=\"M 130.679222 224.64 \nL 130.679222 219.204 \n\" style=\"fill:none;stroke:#ff7f0e;\"/>\n    <path clip-path=\"url(#pecec4546f1)\" d=\"M 131.708513 224.64 \nL 131.708513 219.204 \n\" style=\"fill:none;stroke:#ff7f0e;\"/>\n    <path clip-path=\"url(#pecec4546f1)\" d=\"M 160.106008 224.64 \nL 160.106008 219.204 \n\" style=\"fill:none;stroke:#ff7f0e;\"/>\n    <path clip-path=\"url(#pecec4546f1)\" d=\"M 129.222302 224.64 \nL 129.222302 219.204 \n\" style=\"fill:none;stroke:#ff7f0e;\"/>\n    <path clip-path=\"url(#pecec4546f1)\" d=\"M 174.521056 224.64 \nL 174.521056 219.204 \n\" style=\"fill:none;stroke:#ff7f0e;\"/>\n    <path clip-path=\"url(#pecec4546f1)\" d=\"M 128.988598 224.64 \nL 128.988598 219.204 \n\" style=\"fill:none;stroke:#ff7f0e;\"/>\n    <path clip-path=\"url(#pecec4546f1)\" d=\"M 155.044083 224.64 \nL 155.044083 219.204 \n\" style=\"fill:none;stroke:#ff7f0e;\"/>\n    <path clip-path=\"url(#pecec4546f1)\" d=\"M 143.299225 224.64 \nL 143.299225 219.204 \n\" style=\"fill:none;stroke:#ff7f0e;\"/>\n    <path clip-path=\"url(#pecec4546f1)\" d=\"M 153.805951 224.64 \nL 153.805951 219.204 \n\" style=\"fill:none;stroke:#ff7f0e;\"/>\n    <path clip-path=\"url(#pecec4546f1)\" d=\"M 123.344901 224.64 \nL 123.344901 219.204 \n\" style=\"fill:none;stroke:#ff7f0e;\"/>\n    <path clip-path=\"url(#pecec4546f1)\" d=\"M 120.102882 224.64 \nL 120.102882 219.204 \n\" style=\"fill:none;stroke:#ff7f0e;\"/>\n    <path clip-path=\"url(#pecec4546f1)\" d=\"M 120.187414 224.64 \nL 120.187414 219.204 \n\" style=\"fill:none;stroke:#ff7f0e;\"/>\n    <path clip-path=\"url(#pecec4546f1)\" d=\"M 120.167524 224.64 \nL 120.167524 219.204 \n\" style=\"fill:none;stroke:#ff7f0e;\"/>\n    <path clip-path=\"url(#pecec4546f1)\" d=\"M 120.85869 224.64 \nL 120.85869 219.204 \n\" style=\"fill:none;stroke:#ff7f0e;\"/>\n   </g>\n   <g id=\"line2d_15\">\n    <path clip-path=\"url(#pecec4546f1)\" d=\"M 58.999432 223.911903 \nL 61.821145 223.49781 \nL 64.642859 222.884711 \nL 67.464572 221.997257 \nL 70.286286 220.74151 \nL 71.697142 219.94099 \nL 73.107999 219.004703 \nL 74.518856 217.915904 \nL 75.929712 216.657031 \nL 77.340569 215.209921 \nL 78.751426 213.556065 \nL 80.162283 211.676919 \nL 81.573139 209.554264 \nL 82.983996 207.170615 \nL 84.394853 204.509668 \nL 85.805709 201.556773 \nL 87.216566 198.299445 \nL 88.627423 194.727862 \nL 91.449136 186.618989 \nL 94.27085 177.223382 \nL 97.092563 166.605325 \nL 99.914277 154.908398 \nL 104.146847 135.852075 \nL 112.611987 96.509505 \nL 115.433701 84.487842 \nL 118.255414 73.663135 \nL 119.666271 68.803492 \nL 121.077127 64.358985 \nL 122.487984 60.358298 \nL 123.898841 56.824685 \nL 125.309698 53.775826 \nL 126.720554 51.223812 \nL 128.131411 49.175274 \nL 129.542268 47.631622 \nL 130.953125 46.589395 \nL 132.363981 46.04069 \nL 133.774838 45.973651 \nL 135.185695 46.373001 \nL 136.596551 47.220583 \nL 138.007408 48.495897 \nL 139.418265 50.176605 \nL 140.829122 52.238996 \nL 142.239978 54.658392 \nL 143.650835 57.409486 \nL 145.061692 60.466615 \nL 147.883405 67.395658 \nL 150.705119 75.239021 \nL 153.526832 83.791139 \nL 157.759402 97.499692 \nL 166.224543 125.552071 \nL 169.046256 134.362444 \nL 171.867969 142.604597 \nL 174.689683 150.136231 \nL 177.511396 156.850934 \nL 180.33311 162.684203 \nL 183.154823 167.616415 \nL 184.56568 169.750699 \nL 185.976537 171.672256 \nL 187.387393 173.390422 \nL 188.79825 174.916616 \nL 190.209107 176.264066 \nL 191.619963 177.447501 \nL 194.441677 179.386816 \nL 197.26339 180.870071 \nL 200.085104 182.03606 \nL 204.317674 183.476646 \nL 209.961101 185.391106 \nL 212.782814 186.52006 \nL 215.604528 187.820582 \nL 218.426241 189.304321 \nL 222.658811 191.84499 \nL 228.302238 195.630775 \nL 235.356522 200.417059 \nL 239.589092 202.99893 \nL 242.410805 204.513993 \nL 245.232519 205.837001 \nL 248.054232 206.960138 \nL 250.875946 207.888952 \nL 253.697659 208.640875 \nL 257.930229 209.498112 \nL 263.573656 210.322417 \nL 272.038797 211.472436 \nL 276.271367 212.223054 \nL 280.503937 213.162398 \nL 284.736507 214.293943 \nL 290.379934 216.038387 \nL 303.077644 220.125223 \nL 307.310215 221.273927 \nL 311.542785 222.234154 \nL 315.775355 222.993665 \nL 320.007925 223.562473 \nL 325.651352 224.069469 \nL 332.705636 224.410454 \nL 339.759919 224.558937 \nL 339.759919 224.558937 \n\" style=\"fill:none;stroke:#1f77b4;stroke-linecap:square;stroke-width:1.5;\"/>\n   </g>\n   <g id=\"line2d_16\">\n    <path clip-path=\"url(#pecec4546f1)\" d=\"M 62.363717 223.852923 \nL 65.388836 223.363848 \nL 68.413955 222.619191 \nL 71.439074 221.514477 \nL 72.951633 220.786994 \nL 74.464193 219.917886 \nL 75.976753 218.886409 \nL 77.489312 217.670306 \nL 79.001872 216.246028 \nL 80.514431 214.589037 \nL 82.026991 212.674194 \nL 83.53955 210.476236 \nL 85.05211 207.970339 \nL 86.564669 205.132767 \nL 88.077229 201.941585 \nL 89.589789 198.377431 \nL 91.102348 194.424325 \nL 92.614908 190.070488 \nL 94.127467 185.309146 \nL 95.640027 180.139293 \nL 98.665146 168.602801 \nL 101.690265 155.591016 \nL 104.715384 141.355402 \nL 109.253063 118.548107 \nL 115.303301 88.104594 \nL 118.32842 74.158233 \nL 121.353539 61.804034 \nL 122.866099 56.374364 \nL 124.378658 51.509907 \nL 125.891218 47.250975 \nL 127.403777 43.629243 \nL 128.916337 40.667426 \nL 130.428897 38.379197 \nL 131.941456 36.769337 \nL 133.454016 35.834096 \nL 134.966575 35.561739 \nL 136.479135 35.933236 \nL 137.991694 36.923069 \nL 139.504254 38.500106 \nL 141.016813 40.628513 \nL 142.529373 43.26866 \nL 144.041933 46.377997 \nL 145.554492 49.91188 \nL 147.067052 53.824311 \nL 150.092171 62.597972 \nL 153.11729 72.327024 \nL 157.654969 87.930747 \nL 163.705207 108.93221 \nL 166.730326 118.903007 \nL 169.755445 128.238265 \nL 172.780564 136.792825 \nL 175.805683 144.480824 \nL 178.830802 151.277273 \nL 181.855921 157.215175 \nL 184.881041 162.377575 \nL 187.90616 166.884862 \nL 190.931279 170.878593 \nL 193.956398 174.503866 \nL 198.494077 179.532557 \nL 207.569434 189.089564 \nL 213.619672 195.234499 \nL 218.157351 199.518265 \nL 221.18247 202.125133 \nL 224.207589 204.486292 \nL 227.232708 206.577321 \nL 230.257827 208.388486 \nL 233.282946 209.923029 \nL 236.308065 211.194209 \nL 239.333185 212.222145 \nL 242.358304 213.031235 \nL 245.383423 213.648485 \nL 249.921101 214.277949 \nL 254.45878 214.642801 \nL 262.021578 214.938017 \nL 280.172293 215.544987 \nL 290.76021 215.779163 \nL 299.835567 216.002826 \nL 304.373246 216.310918 \nL 308.910924 216.837611 \nL 313.448603 217.597526 \nL 319.498841 218.901097 \nL 333.111877 222.021122 \nL 337.649556 222.826715 \nL 342.187234 223.451117 \nL 348.237473 224.018326 \nL 354.287711 224.345346 \nL 363.363068 224.560084 \nL 363.363068 224.560084 \n\" style=\"fill:none;stroke:#ff7f0e;stroke-linecap:square;stroke-width:1.5;\"/>\n   </g>\n   <g id=\"patch_3\">\n    <path d=\"M 43.78125 224.64 \nL 43.78125 7.2 \n\" style=\"fill:none;stroke:#000000;stroke-linecap:square;stroke-linejoin:miter;stroke-width:0.8;\"/>\n   </g>\n   <g id=\"patch_4\">\n    <path d=\"M 378.58125 224.64 \nL 378.58125 7.2 \n\" style=\"fill:none;stroke:#000000;stroke-linecap:square;stroke-linejoin:miter;stroke-width:0.8;\"/>\n   </g>\n   <g id=\"patch_5\">\n    <path d=\"M 43.78125 224.64 \nL 378.58125 224.64 \n\" style=\"fill:none;stroke:#000000;stroke-linecap:square;stroke-linejoin:miter;stroke-width:0.8;\"/>\n   </g>\n   <g id=\"patch_6\">\n    <path d=\"M 43.78125 7.2 \nL 378.58125 7.2 \n\" style=\"fill:none;stroke:#000000;stroke-linecap:square;stroke-linejoin:miter;stroke-width:0.8;\"/>\n   </g>\n   <g id=\"legend_1\">\n    <g id=\"patch_7\">\n     <path d=\"M 245.390625 44.55625 \nL 371.58125 44.55625 \nQ 373.58125 44.55625 373.58125 42.55625 \nL 373.58125 14.2 \nQ 373.58125 12.2 371.58125 12.2 \nL 245.390625 12.2 \nQ 243.390625 12.2 243.390625 14.2 \nL 243.390625 42.55625 \nQ 243.390625 44.55625 245.390625 44.55625 \nz\n\" style=\"fill:#ffffff;opacity:0.8;stroke:#cccccc;stroke-linejoin:miter;\"/>\n    </g>\n    <g id=\"line2d_17\">\n     <path d=\"M 247.390625 20.298438 \nL 267.390625 20.298438 \n\" style=\"fill:none;stroke:#1f77b4;stroke-linecap:square;stroke-width:1.5;\"/>\n    </g>\n    <g id=\"line2d_18\"/>\n    <g id=\"text_17\">\n     <!-- Hospitalized Cases -->\n     <g transform=\"translate(275.390625 23.798438)scale(0.1 -0.1)\">\n      <defs>\n       <path d=\"M 9.8125 72.90625 \nL 19.671875 72.90625 \nL 19.671875 43.015625 \nL 55.515625 43.015625 \nL 55.515625 72.90625 \nL 65.375 72.90625 \nL 65.375 0 \nL 55.515625 0 \nL 55.515625 34.71875 \nL 19.671875 34.71875 \nL 19.671875 0 \nL 9.8125 0 \nz\n\" id=\"DejaVuSans-72\"/>\n       <path d=\"M 30.609375 48.390625 \nQ 23.390625 48.390625 19.1875 42.75 \nQ 14.984375 37.109375 14.984375 27.296875 \nQ 14.984375 17.484375 19.15625 11.84375 \nQ 23.34375 6.203125 30.609375 6.203125 \nQ 37.796875 6.203125 41.984375 11.859375 \nQ 46.1875 17.53125 46.1875 27.296875 \nQ 46.1875 37.015625 41.984375 42.703125 \nQ 37.796875 48.390625 30.609375 48.390625 \nz\nM 30.609375 56 \nQ 42.328125 56 49.015625 48.375 \nQ 55.71875 40.765625 55.71875 27.296875 \nQ 55.71875 13.875 49.015625 6.21875 \nQ 42.328125 -1.421875 30.609375 -1.421875 \nQ 18.84375 -1.421875 12.171875 6.21875 \nQ 5.515625 13.875 5.515625 27.296875 \nQ 5.515625 40.765625 12.171875 48.375 \nQ 18.84375 56 30.609375 56 \nz\n\" id=\"DejaVuSans-111\"/>\n       <path d=\"M 18.109375 8.203125 \nL 18.109375 -20.796875 \nL 9.078125 -20.796875 \nL 9.078125 54.6875 \nL 18.109375 54.6875 \nL 18.109375 46.390625 \nQ 20.953125 51.265625 25.265625 53.625 \nQ 29.59375 56 35.59375 56 \nQ 45.5625 56 51.78125 48.09375 \nQ 58.015625 40.1875 58.015625 27.296875 \nQ 58.015625 14.40625 51.78125 6.484375 \nQ 45.5625 -1.421875 35.59375 -1.421875 \nQ 29.59375 -1.421875 25.265625 0.953125 \nQ 20.953125 3.328125 18.109375 8.203125 \nz\nM 48.6875 27.296875 \nQ 48.6875 37.203125 44.609375 42.84375 \nQ 40.53125 48.484375 33.40625 48.484375 \nQ 26.265625 48.484375 22.1875 42.84375 \nQ 18.109375 37.203125 18.109375 27.296875 \nQ 18.109375 17.390625 22.1875 11.75 \nQ 26.265625 6.109375 33.40625 6.109375 \nQ 40.53125 6.109375 44.609375 11.75 \nQ 48.6875 17.390625 48.6875 27.296875 \nz\n\" id=\"DejaVuSans-112\"/>\n       <path d=\"M 9.421875 75.984375 \nL 18.40625 75.984375 \nL 18.40625 0 \nL 9.421875 0 \nz\n\" id=\"DejaVuSans-108\"/>\n       <path d=\"M 5.515625 54.6875 \nL 48.1875 54.6875 \nL 48.1875 46.484375 \nL 14.40625 7.171875 \nL 48.1875 7.171875 \nL 48.1875 0 \nL 4.296875 0 \nL 4.296875 8.203125 \nL 38.09375 47.515625 \nL 5.515625 47.515625 \nz\n\" id=\"DejaVuSans-122\"/>\n       <path id=\"DejaVuSans-32\"/>\n       <path d=\"M 64.40625 67.28125 \nL 64.40625 56.890625 \nQ 59.421875 61.53125 53.78125 63.8125 \nQ 48.140625 66.109375 41.796875 66.109375 \nQ 29.296875 66.109375 22.65625 58.46875 \nQ 16.015625 50.828125 16.015625 36.375 \nQ 16.015625 21.96875 22.65625 14.328125 \nQ 29.296875 6.6875 41.796875 6.6875 \nQ 48.140625 6.6875 53.78125 8.984375 \nQ 59.421875 11.28125 64.40625 15.921875 \nL 64.40625 5.609375 \nQ 59.234375 2.09375 53.4375 0.328125 \nQ 47.65625 -1.421875 41.21875 -1.421875 \nQ 24.65625 -1.421875 15.125 8.703125 \nQ 5.609375 18.84375 5.609375 36.375 \nQ 5.609375 53.953125 15.125 64.078125 \nQ 24.65625 74.21875 41.21875 74.21875 \nQ 47.75 74.21875 53.53125 72.484375 \nQ 59.328125 70.75 64.40625 67.28125 \nz\n\" id=\"DejaVuSans-67\"/>\n      </defs>\n      <use xlink:href=\"#DejaVuSans-72\"/>\n      <use x=\"75.195312\" xlink:href=\"#DejaVuSans-111\"/>\n      <use x=\"136.376953\" xlink:href=\"#DejaVuSans-115\"/>\n      <use x=\"188.476562\" xlink:href=\"#DejaVuSans-112\"/>\n      <use x=\"251.953125\" xlink:href=\"#DejaVuSans-105\"/>\n      <use x=\"279.736328\" xlink:href=\"#DejaVuSans-116\"/>\n      <use x=\"318.945312\" xlink:href=\"#DejaVuSans-97\"/>\n      <use x=\"380.224609\" xlink:href=\"#DejaVuSans-108\"/>\n      <use x=\"408.007812\" xlink:href=\"#DejaVuSans-105\"/>\n      <use x=\"435.791016\" xlink:href=\"#DejaVuSans-122\"/>\n      <use x=\"488.28125\" xlink:href=\"#DejaVuSans-101\"/>\n      <use x=\"549.804688\" xlink:href=\"#DejaVuSans-100\"/>\n      <use x=\"613.28125\" xlink:href=\"#DejaVuSans-32\"/>\n      <use x=\"645.068359\" xlink:href=\"#DejaVuSans-67\"/>\n      <use x=\"714.892578\" xlink:href=\"#DejaVuSans-97\"/>\n      <use x=\"776.171875\" xlink:href=\"#DejaVuSans-115\"/>\n      <use x=\"828.271484\" xlink:href=\"#DejaVuSans-101\"/>\n      <use x=\"889.794922\" xlink:href=\"#DejaVuSans-115\"/>\n     </g>\n    </g>\n    <g id=\"line2d_19\">\n     <path d=\"M 247.390625 34.976562 \nL 267.390625 34.976562 \n\" style=\"fill:none;stroke:#ff7f0e;stroke-linecap:square;stroke-width:1.5;\"/>\n    </g>\n    <g id=\"line2d_20\"/>\n    <g id=\"text_18\">\n     <!-- Death Cases -->\n     <g transform=\"translate(275.390625 38.476562)scale(0.1 -0.1)\">\n      <use xlink:href=\"#DejaVuSans-68\"/>\n      <use x=\"77.001953\" xlink:href=\"#DejaVuSans-101\"/>\n      <use x=\"138.525391\" xlink:href=\"#DejaVuSans-97\"/>\n      <use x=\"199.804688\" xlink:href=\"#DejaVuSans-116\"/>\n      <use x=\"239.013672\" xlink:href=\"#DejaVuSans-104\"/>\n      <use x=\"302.392578\" xlink:href=\"#DejaVuSans-32\"/>\n      <use x=\"334.179688\" xlink:href=\"#DejaVuSans-67\"/>\n      <use x=\"404.003906\" xlink:href=\"#DejaVuSans-97\"/>\n      <use x=\"465.283203\" xlink:href=\"#DejaVuSans-115\"/>\n      <use x=\"517.382812\" xlink:href=\"#DejaVuSans-101\"/>\n      <use x=\"578.90625\" xlink:href=\"#DejaVuSans-115\"/>\n     </g>\n    </g>\n   </g>\n  </g>\n </g>\n <defs>\n  <clipPath id=\"pecec4546f1\">\n   <rect height=\"217.44\" width=\"334.8\" x=\"43.78125\" y=\"7.2\"/>\n  </clipPath>\n </defs>\n</svg>\n",
      "image/png": "[encoded data removed]"
     },
     "metadata": {
      "needs_background": "light"
     }
    }
   ],
   "source": [
    "hospitalized_vs_death = data[['state', 'hospitalizedCumulative','death']].dropna()\n",
    "hospitalized_vs_death = hospitalized_vs_death.groupby(['state'], sort=False)['hospitalizedCumulative', 'death'].max().reset_index()\n",
    "hospitalized_vs_death[['hospitalizedCumulative', 'death']] = StandardScaler().fit_transform(hospitalized_vs_death[[ 'hospitalizedCumulative', 'death']])\n",
    "\n",
    "plt.figure(\"Positive vs recovered distribution\")\n",
    "sns.distplot(hospitalized_vs_death['hospitalizedCumulative'], label=\"Hospitalized Cases\", rug=True, hist=False)\n",
    "sns.distplot(hospitalized_vs_death['death'], label= \"Death Cases\", rug=True, hist=False)\n",
    "plt.legend()\n",
    "plt.show()"
   ]
  },
  {
   "cell_type": "code",
   "execution_count": 73,
   "metadata": {},
   "outputs": [
    {
     "output_type": "display_data",
     "data": {
      "text/plain": "(0.7752011899757227, 3.344622929954073e-67)"
     },
     "metadata": {}
    },
    {
     "output_type": "display_data",
     "data": {
      "text/plain": "<Figure size 432x288 with 1 Axes>",
      "image/svg+xml": "<?xml version=\"1.0\" encoding=\"utf-8\" standalone=\"no\"?>\n<!DOCTYPE svg PUBLIC \"-//W3C//DTD SVG 1.1//EN\"\n  \"http://www.w3.org/Graphics/SVG/1.1/DTD/svg11.dtd\">\n<!-- Created with matplotlib (https://matplotlib.org/) -->\n<svg height=\"262.19625pt\" version=\"1.1\" viewBox=\"0 0 385.78125 262.19625\" width=\"385.78125pt\" xmlns=\"http://www.w3.org/2000/svg\" xmlns:xlink=\"http://www.w3.org/1999/xlink\">\n <metadata>\n  <rdf:RDF xmlns:cc=\"http://creativecommons.org/ns#\" xmlns:dc=\"http://purl.org/dc/elements/1.1/\" xmlns:rdf=\"http://www.w3.org/1999/02/22-rdf-syntax-ns#\">\n   <cc:Work>\n    <dc:type rdf:resource=\"http://purl.org/dc/dcmitype/StillImage\"/>\n    <dc:date>2021-02-17T13:15:38.073130</dc:date>\n    <dc:format>image/svg+xml</dc:format>\n    <dc:creator>\n     <cc:Agent>\n      <dc:title>Matplotlib v3.3.4, https://matplotlib.org/</dc:title>\n     </cc:Agent>\n    </dc:creator>\n   </cc:Work>\n  </rdf:RDF>\n </metadata>\n <defs>\n  <style type=\"text/css\">*{stroke-linecap:butt;stroke-linejoin:round;}</style>\n </defs>\n <g id=\"figure_1\">\n  <g id=\"patch_1\">\n   <path d=\"M 0 262.19625 \nL 385.78125 262.19625 \nL 385.78125 0 \nL 0 0 \nz\n\" style=\"fill:none;\"/>\n  </g>\n  <g id=\"axes_1\">\n   <g id=\"patch_2\">\n    <path d=\"M 43.78125 224.64 \nL 378.58125 224.64 \nL 378.58125 7.2 \nL 43.78125 7.2 \nz\n\" style=\"fill:#ffffff;\"/>\n   </g>\n   <g id=\"matplotlib.axis_1\">\n    <g id=\"xtick_1\">\n     <g id=\"line2d_1\">\n      <defs>\n       <path d=\"M 0 0 \nL 0 3.5 \n\" id=\"mc67522d3fe\" style=\"stroke:#000000;stroke-width:0.8;\"/>\n      </defs>\n      <g>\n       <use style=\"stroke:#000000;stroke-width:0.8;\" x=\"75.104401\" xlink:href=\"#mc67522d3fe\" y=\"224.64\"/>\n      </g>\n     </g>\n     <g id=\"text_1\">\n      <!-- −4 -->\n      <g transform=\"translate(67.733307 239.238437)scale(0.1 -0.1)\">\n       <defs>\n        <path d=\"M 10.59375 35.5 \nL 73.1875 35.5 \nL 73.1875 27.203125 \nL 10.59375 27.203125 \nz\n\" id=\"DejaVuSans-8722\"/>\n        <path d=\"M 37.796875 64.3125 \nL 12.890625 25.390625 \nL 37.796875 25.390625 \nz\nM 35.203125 72.90625 \nL 47.609375 72.90625 \nL 47.609375 25.390625 \nL 58.015625 25.390625 \nL 58.015625 17.1875 \nL 47.609375 17.1875 \nL 47.609375 0 \nL 37.796875 0 \nL 37.796875 17.1875 \nL 4.890625 17.1875 \nL 4.890625 26.703125 \nz\n\" id=\"DejaVuSans-52\"/>\n       </defs>\n       <use xlink:href=\"#DejaVuSans-8722\"/>\n       <use x=\"83.789062\" xlink:href=\"#DejaVuSans-52\"/>\n      </g>\n     </g>\n    </g>\n    <g id=\"xtick_2\">\n     <g id=\"line2d_2\">\n      <g>\n       <use style=\"stroke:#000000;stroke-width:0.8;\" x=\"113.170676\" xlink:href=\"#mc67522d3fe\" y=\"224.64\"/>\n      </g>\n     </g>\n     <g id=\"text_2\">\n      <!-- −3 -->\n      <g transform=\"translate(105.799582 239.238437)scale(0.1 -0.1)\">\n       <defs>\n        <path d=\"M 40.578125 39.3125 \nQ 47.65625 37.796875 51.625 33 \nQ 55.609375 28.21875 55.609375 21.1875 \nQ 55.609375 10.40625 48.1875 4.484375 \nQ 40.765625 -1.421875 27.09375 -1.421875 \nQ 22.515625 -1.421875 17.65625 -0.515625 \nQ 12.796875 0.390625 7.625 2.203125 \nL 7.625 11.71875 \nQ 11.71875 9.328125 16.59375 8.109375 \nQ 21.484375 6.890625 26.8125 6.890625 \nQ 36.078125 6.890625 40.9375 10.546875 \nQ 45.796875 14.203125 45.796875 21.1875 \nQ 45.796875 27.640625 41.28125 31.265625 \nQ 36.765625 34.90625 28.71875 34.90625 \nL 20.21875 34.90625 \nL 20.21875 43.015625 \nL 29.109375 43.015625 \nQ 36.375 43.015625 40.234375 45.921875 \nQ 44.09375 48.828125 44.09375 54.296875 \nQ 44.09375 59.90625 40.109375 62.90625 \nQ 36.140625 65.921875 28.71875 65.921875 \nQ 24.65625 65.921875 20.015625 65.03125 \nQ 15.375 64.15625 9.8125 62.3125 \nL 9.8125 71.09375 \nQ 15.4375 72.65625 20.34375 73.4375 \nQ 25.25 74.21875 29.59375 74.21875 \nQ 40.828125 74.21875 47.359375 69.109375 \nQ 53.90625 64.015625 53.90625 55.328125 \nQ 53.90625 49.265625 50.4375 45.09375 \nQ 46.96875 40.921875 40.578125 39.3125 \nz\n\" id=\"DejaVuSans-51\"/>\n       </defs>\n       <use xlink:href=\"#DejaVuSans-8722\"/>\n       <use x=\"83.789062\" xlink:href=\"#DejaVuSans-51\"/>\n      </g>\n     </g>\n    </g>\n    <g id=\"xtick_3\">\n     <g id=\"line2d_3\">\n      <g>\n       <use style=\"stroke:#000000;stroke-width:0.8;\" x=\"151.23695\" xlink:href=\"#mc67522d3fe\" y=\"224.64\"/>\n      </g>\n     </g>\n     <g id=\"text_3\">\n      <!-- −2 -->\n      <g transform=\"translate(143.865857 239.238437)scale(0.1 -0.1)\">\n       <defs>\n        <path d=\"M 19.1875 8.296875 \nL 53.609375 8.296875 \nL 53.609375 0 \nL 7.328125 0 \nL 7.328125 8.296875 \nQ 12.9375 14.109375 22.625 23.890625 \nQ 32.328125 33.6875 34.8125 36.53125 \nQ 39.546875 41.84375 41.421875 45.53125 \nQ 43.3125 49.21875 43.3125 52.78125 \nQ 43.3125 58.59375 39.234375 62.25 \nQ 35.15625 65.921875 28.609375 65.921875 \nQ 23.96875 65.921875 18.8125 64.3125 \nQ 13.671875 62.703125 7.8125 59.421875 \nL 7.8125 69.390625 \nQ 13.765625 71.78125 18.9375 73 \nQ 24.125 74.21875 28.421875 74.21875 \nQ 39.75 74.21875 46.484375 68.546875 \nQ 53.21875 62.890625 53.21875 53.421875 \nQ 53.21875 48.921875 51.53125 44.890625 \nQ 49.859375 40.875 45.40625 35.40625 \nQ 44.1875 33.984375 37.640625 27.21875 \nQ 31.109375 20.453125 19.1875 8.296875 \nz\n\" id=\"DejaVuSans-50\"/>\n       </defs>\n       <use xlink:href=\"#DejaVuSans-8722\"/>\n       <use x=\"83.789062\" xlink:href=\"#DejaVuSans-50\"/>\n      </g>\n     </g>\n    </g>\n    <g id=\"xtick_4\">\n     <g id=\"line2d_4\">\n      <g>\n       <use style=\"stroke:#000000;stroke-width:0.8;\" x=\"189.303225\" xlink:href=\"#mc67522d3fe\" y=\"224.64\"/>\n      </g>\n     </g>\n     <g id=\"text_4\">\n      <!-- −1 -->\n      <g transform=\"translate(181.932131 239.238437)scale(0.1 -0.1)\">\n       <defs>\n        <path d=\"M 12.40625 8.296875 \nL 28.515625 8.296875 \nL 28.515625 63.921875 \nL 10.984375 60.40625 \nL 10.984375 69.390625 \nL 28.421875 72.90625 \nL 38.28125 72.90625 \nL 38.28125 8.296875 \nL 54.390625 8.296875 \nL 54.390625 0 \nL 12.40625 0 \nz\n\" id=\"DejaVuSans-49\"/>\n       </defs>\n       <use xlink:href=\"#DejaVuSans-8722\"/>\n       <use x=\"83.789062\" xlink:href=\"#DejaVuSans-49\"/>\n      </g>\n     </g>\n    </g>\n    <g id=\"xtick_5\">\n     <g id=\"line2d_5\">\n      <g>\n       <use style=\"stroke:#000000;stroke-width:0.8;\" x=\"227.3695\" xlink:href=\"#mc67522d3fe\" y=\"224.64\"/>\n      </g>\n     </g>\n     <g id=\"text_5\">\n      <!-- 0 -->\n      <g transform=\"translate(224.18825 239.238437)scale(0.1 -0.1)\">\n       <defs>\n        <path d=\"M 31.78125 66.40625 \nQ 24.171875 66.40625 20.328125 58.90625 \nQ 16.5 51.421875 16.5 36.375 \nQ 16.5 21.390625 20.328125 13.890625 \nQ 24.171875 6.390625 31.78125 6.390625 \nQ 39.453125 6.390625 43.28125 13.890625 \nQ 47.125 21.390625 47.125 36.375 \nQ 47.125 51.421875 43.28125 58.90625 \nQ 39.453125 66.40625 31.78125 66.40625 \nz\nM 31.78125 74.21875 \nQ 44.046875 74.21875 50.515625 64.515625 \nQ 56.984375 54.828125 56.984375 36.375 \nQ 56.984375 17.96875 50.515625 8.265625 \nQ 44.046875 -1.421875 31.78125 -1.421875 \nQ 19.53125 -1.421875 13.0625 8.265625 \nQ 6.59375 17.96875 6.59375 36.375 \nQ 6.59375 54.828125 13.0625 64.515625 \nQ 19.53125 74.21875 31.78125 74.21875 \nz\n\" id=\"DejaVuSans-48\"/>\n       </defs>\n       <use xlink:href=\"#DejaVuSans-48\"/>\n      </g>\n     </g>\n    </g>\n    <g id=\"xtick_6\">\n     <g id=\"line2d_6\">\n      <g>\n       <use style=\"stroke:#000000;stroke-width:0.8;\" x=\"265.435774\" xlink:href=\"#mc67522d3fe\" y=\"224.64\"/>\n      </g>\n     </g>\n     <g id=\"text_6\">\n      <!-- 1 -->\n      <g transform=\"translate(262.254524 239.238437)scale(0.1 -0.1)\">\n       <use xlink:href=\"#DejaVuSans-49\"/>\n      </g>\n     </g>\n    </g>\n    <g id=\"xtick_7\">\n     <g id=\"line2d_7\">\n      <g>\n       <use style=\"stroke:#000000;stroke-width:0.8;\" x=\"303.502049\" xlink:href=\"#mc67522d3fe\" y=\"224.64\"/>\n      </g>\n     </g>\n     <g id=\"text_7\">\n      <!-- 2 -->\n      <g transform=\"translate(300.320799 239.238437)scale(0.1 -0.1)\">\n       <use xlink:href=\"#DejaVuSans-50\"/>\n      </g>\n     </g>\n    </g>\n    <g id=\"xtick_8\">\n     <g id=\"line2d_8\">\n      <g>\n       <use style=\"stroke:#000000;stroke-width:0.8;\" x=\"341.568323\" xlink:href=\"#mc67522d3fe\" y=\"224.64\"/>\n      </g>\n     </g>\n     <g id=\"text_8\">\n      <!-- 3 -->\n      <g transform=\"translate(338.387073 239.238437)scale(0.1 -0.1)\">\n       <use xlink:href=\"#DejaVuSans-51\"/>\n      </g>\n     </g>\n    </g>\n    <g id=\"text_9\">\n     <!-- Time -->\n     <g transform=\"translate(198.947656 252.916562)scale(0.1 -0.1)\">\n      <defs>\n       <path d=\"M -0.296875 72.90625 \nL 61.375 72.90625 \nL 61.375 64.59375 \nL 35.5 64.59375 \nL 35.5 0 \nL 25.59375 0 \nL 25.59375 64.59375 \nL -0.296875 64.59375 \nz\n\" id=\"DejaVuSans-84\"/>\n       <path d=\"M 9.421875 54.6875 \nL 18.40625 54.6875 \nL 18.40625 0 \nL 9.421875 0 \nz\nM 9.421875 75.984375 \nL 18.40625 75.984375 \nL 18.40625 64.59375 \nL 9.421875 64.59375 \nz\n\" id=\"DejaVuSans-105\"/>\n       <path d=\"M 52 44.1875 \nQ 55.375 50.25 60.0625 53.125 \nQ 64.75 56 71.09375 56 \nQ 79.640625 56 84.28125 50.015625 \nQ 88.921875 44.046875 88.921875 33.015625 \nL 88.921875 0 \nL 79.890625 0 \nL 79.890625 32.71875 \nQ 79.890625 40.578125 77.09375 44.375 \nQ 74.3125 48.1875 68.609375 48.1875 \nQ 61.625 48.1875 57.5625 43.546875 \nQ 53.515625 38.921875 53.515625 30.90625 \nL 53.515625 0 \nL 44.484375 0 \nL 44.484375 32.71875 \nQ 44.484375 40.625 41.703125 44.40625 \nQ 38.921875 48.1875 33.109375 48.1875 \nQ 26.21875 48.1875 22.15625 43.53125 \nQ 18.109375 38.875 18.109375 30.90625 \nL 18.109375 0 \nL 9.078125 0 \nL 9.078125 54.6875 \nL 18.109375 54.6875 \nL 18.109375 46.1875 \nQ 21.1875 51.21875 25.484375 53.609375 \nQ 29.78125 56 35.6875 56 \nQ 41.65625 56 45.828125 52.96875 \nQ 50 49.953125 52 44.1875 \nz\n\" id=\"DejaVuSans-109\"/>\n       <path d=\"M 56.203125 29.59375 \nL 56.203125 25.203125 \nL 14.890625 25.203125 \nQ 15.484375 15.921875 20.484375 11.0625 \nQ 25.484375 6.203125 34.421875 6.203125 \nQ 39.59375 6.203125 44.453125 7.46875 \nQ 49.3125 8.734375 54.109375 11.28125 \nL 54.109375 2.78125 \nQ 49.265625 0.734375 44.1875 -0.34375 \nQ 39.109375 -1.421875 33.890625 -1.421875 \nQ 20.796875 -1.421875 13.15625 6.1875 \nQ 5.515625 13.8125 5.515625 26.8125 \nQ 5.515625 40.234375 12.765625 48.109375 \nQ 20.015625 56 32.328125 56 \nQ 43.359375 56 49.78125 48.890625 \nQ 56.203125 41.796875 56.203125 29.59375 \nz\nM 47.21875 32.234375 \nQ 47.125 39.59375 43.09375 43.984375 \nQ 39.0625 48.390625 32.421875 48.390625 \nQ 24.90625 48.390625 20.390625 44.140625 \nQ 15.875 39.890625 15.1875 32.171875 \nz\n\" id=\"DejaVuSans-101\"/>\n      </defs>\n      <use xlink:href=\"#DejaVuSans-84\"/>\n      <use x=\"57.958984\" xlink:href=\"#DejaVuSans-105\"/>\n      <use x=\"85.742188\" xlink:href=\"#DejaVuSans-109\"/>\n      <use x=\"183.154297\" xlink:href=\"#DejaVuSans-101\"/>\n     </g>\n    </g>\n   </g>\n   <g id=\"matplotlib.axis_2\">\n    <g id=\"ytick_1\">\n     <g id=\"line2d_9\">\n      <defs>\n       <path d=\"M 0 0 \nL -3.5 0 \n\" id=\"m41dd7584ce\" style=\"stroke:#000000;stroke-width:0.8;\"/>\n      </defs>\n      <g>\n       <use style=\"stroke:#000000;stroke-width:0.8;\" x=\"43.78125\" xlink:href=\"#m41dd7584ce\" y=\"224.64\"/>\n      </g>\n     </g>\n     <g id=\"text_10\">\n      <!-- 0.0 -->\n      <g transform=\"translate(20.878125 228.439219)scale(0.1 -0.1)\">\n       <defs>\n        <path d=\"M 10.6875 12.40625 \nL 21 12.40625 \nL 21 0 \nL 10.6875 0 \nz\n\" id=\"DejaVuSans-46\"/>\n       </defs>\n       <use xlink:href=\"#DejaVuSans-48\"/>\n       <use x=\"63.623047\" xlink:href=\"#DejaVuSans-46\"/>\n       <use x=\"95.410156\" xlink:href=\"#DejaVuSans-48\"/>\n      </g>\n     </g>\n    </g>\n    <g id=\"ytick_2\">\n     <g id=\"line2d_10\">\n      <g>\n       <use style=\"stroke:#000000;stroke-width:0.8;\" x=\"43.78125\" xlink:href=\"#m41dd7584ce\" y=\"198.575407\"/>\n      </g>\n     </g>\n     <g id=\"text_11\">\n      <!-- 0.1 -->\n      <g transform=\"translate(20.878125 202.374626)scale(0.1 -0.1)\">\n       <use xlink:href=\"#DejaVuSans-48\"/>\n       <use x=\"63.623047\" xlink:href=\"#DejaVuSans-46\"/>\n       <use x=\"95.410156\" xlink:href=\"#DejaVuSans-49\"/>\n      </g>\n     </g>\n    </g>\n    <g id=\"ytick_3\">\n     <g id=\"line2d_11\">\n      <g>\n       <use style=\"stroke:#000000;stroke-width:0.8;\" x=\"43.78125\" xlink:href=\"#m41dd7584ce\" y=\"172.510815\"/>\n      </g>\n     </g>\n     <g id=\"text_12\">\n      <!-- 0.2 -->\n      <g transform=\"translate(20.878125 176.310033)scale(0.1 -0.1)\">\n       <use xlink:href=\"#DejaVuSans-48\"/>\n       <use x=\"63.623047\" xlink:href=\"#DejaVuSans-46\"/>\n       <use x=\"95.410156\" xlink:href=\"#DejaVuSans-50\"/>\n      </g>\n     </g>\n    </g>\n    <g id=\"ytick_4\">\n     <g id=\"line2d_12\">\n      <g>\n       <use style=\"stroke:#000000;stroke-width:0.8;\" x=\"43.78125\" xlink:href=\"#m41dd7584ce\" y=\"146.446222\"/>\n      </g>\n     </g>\n     <g id=\"text_13\">\n      <!-- 0.3 -->\n      <g transform=\"translate(20.878125 150.245441)scale(0.1 -0.1)\">\n       <use xlink:href=\"#DejaVuSans-48\"/>\n       <use x=\"63.623047\" xlink:href=\"#DejaVuSans-46\"/>\n       <use x=\"95.410156\" xlink:href=\"#DejaVuSans-51\"/>\n      </g>\n     </g>\n    </g>\n    <g id=\"ytick_5\">\n     <g id=\"line2d_13\">\n      <g>\n       <use style=\"stroke:#000000;stroke-width:0.8;\" x=\"43.78125\" xlink:href=\"#m41dd7584ce\" y=\"120.381629\"/>\n      </g>\n     </g>\n     <g id=\"text_14\">\n      <!-- 0.4 -->\n      <g transform=\"translate(20.878125 124.180848)scale(0.1 -0.1)\">\n       <use xlink:href=\"#DejaVuSans-48\"/>\n       <use x=\"63.623047\" xlink:href=\"#DejaVuSans-46\"/>\n       <use x=\"95.410156\" xlink:href=\"#DejaVuSans-52\"/>\n      </g>\n     </g>\n    </g>\n    <g id=\"ytick_6\">\n     <g id=\"line2d_14\">\n      <g>\n       <use style=\"stroke:#000000;stroke-width:0.8;\" x=\"43.78125\" xlink:href=\"#m41dd7584ce\" y=\"94.317037\"/>\n      </g>\n     </g>\n     <g id=\"text_15\">\n      <!-- 0.5 -->\n      <g transform=\"translate(20.878125 98.116255)scale(0.1 -0.1)\">\n       <defs>\n        <path d=\"M 10.796875 72.90625 \nL 49.515625 72.90625 \nL 49.515625 64.59375 \nL 19.828125 64.59375 \nL 19.828125 46.734375 \nQ 21.96875 47.46875 24.109375 47.828125 \nQ 26.265625 48.1875 28.421875 48.1875 \nQ 40.625 48.1875 47.75 41.5 \nQ 54.890625 34.8125 54.890625 23.390625 \nQ 54.890625 11.625 47.5625 5.09375 \nQ 40.234375 -1.421875 26.90625 -1.421875 \nQ 22.3125 -1.421875 17.546875 -0.640625 \nQ 12.796875 0.140625 7.71875 1.703125 \nL 7.71875 11.625 \nQ 12.109375 9.234375 16.796875 8.0625 \nQ 21.484375 6.890625 26.703125 6.890625 \nQ 35.15625 6.890625 40.078125 11.328125 \nQ 45.015625 15.765625 45.015625 23.390625 \nQ 45.015625 31 40.078125 35.4375 \nQ 35.15625 39.890625 26.703125 39.890625 \nQ 22.75 39.890625 18.8125 39.015625 \nQ 14.890625 38.140625 10.796875 36.28125 \nz\n\" id=\"DejaVuSans-53\"/>\n       </defs>\n       <use xlink:href=\"#DejaVuSans-48\"/>\n       <use x=\"63.623047\" xlink:href=\"#DejaVuSans-46\"/>\n       <use x=\"95.410156\" xlink:href=\"#DejaVuSans-53\"/>\n      </g>\n     </g>\n    </g>\n    <g id=\"ytick_7\">\n     <g id=\"line2d_15\">\n      <g>\n       <use style=\"stroke:#000000;stroke-width:0.8;\" x=\"43.78125\" xlink:href=\"#m41dd7584ce\" y=\"68.252444\"/>\n      </g>\n     </g>\n     <g id=\"text_16\">\n      <!-- 0.6 -->\n      <g transform=\"translate(20.878125 72.051663)scale(0.1 -0.1)\">\n       <defs>\n        <path d=\"M 33.015625 40.375 \nQ 26.375 40.375 22.484375 35.828125 \nQ 18.609375 31.296875 18.609375 23.390625 \nQ 18.609375 15.53125 22.484375 10.953125 \nQ 26.375 6.390625 33.015625 6.390625 \nQ 39.65625 6.390625 43.53125 10.953125 \nQ 47.40625 15.53125 47.40625 23.390625 \nQ 47.40625 31.296875 43.53125 35.828125 \nQ 39.65625 40.375 33.015625 40.375 \nz\nM 52.59375 71.296875 \nL 52.59375 62.3125 \nQ 48.875 64.0625 45.09375 64.984375 \nQ 41.3125 65.921875 37.59375 65.921875 \nQ 27.828125 65.921875 22.671875 59.328125 \nQ 17.53125 52.734375 16.796875 39.40625 \nQ 19.671875 43.65625 24.015625 45.921875 \nQ 28.375 48.1875 33.59375 48.1875 \nQ 44.578125 48.1875 50.953125 41.515625 \nQ 57.328125 34.859375 57.328125 23.390625 \nQ 57.328125 12.15625 50.6875 5.359375 \nQ 44.046875 -1.421875 33.015625 -1.421875 \nQ 20.359375 -1.421875 13.671875 8.265625 \nQ 6.984375 17.96875 6.984375 36.375 \nQ 6.984375 53.65625 15.1875 63.9375 \nQ 23.390625 74.21875 37.203125 74.21875 \nQ 40.921875 74.21875 44.703125 73.484375 \nQ 48.484375 72.75 52.59375 71.296875 \nz\n\" id=\"DejaVuSans-54\"/>\n       </defs>\n       <use xlink:href=\"#DejaVuSans-48\"/>\n       <use x=\"63.623047\" xlink:href=\"#DejaVuSans-46\"/>\n       <use x=\"95.410156\" xlink:href=\"#DejaVuSans-54\"/>\n      </g>\n     </g>\n    </g>\n    <g id=\"ytick_8\">\n     <g id=\"line2d_16\">\n      <g>\n       <use style=\"stroke:#000000;stroke-width:0.8;\" x=\"43.78125\" xlink:href=\"#m41dd7584ce\" y=\"42.187851\"/>\n      </g>\n     </g>\n     <g id=\"text_17\">\n      <!-- 0.7 -->\n      <g transform=\"translate(20.878125 45.98707)scale(0.1 -0.1)\">\n       <defs>\n        <path d=\"M 8.203125 72.90625 \nL 55.078125 72.90625 \nL 55.078125 68.703125 \nL 28.609375 0 \nL 18.3125 0 \nL 43.21875 64.59375 \nL 8.203125 64.59375 \nz\n\" id=\"DejaVuSans-55\"/>\n       </defs>\n       <use xlink:href=\"#DejaVuSans-48\"/>\n       <use x=\"63.623047\" xlink:href=\"#DejaVuSans-46\"/>\n       <use x=\"95.410156\" xlink:href=\"#DejaVuSans-55\"/>\n      </g>\n     </g>\n    </g>\n    <g id=\"ytick_9\">\n     <g id=\"line2d_17\">\n      <g>\n       <use style=\"stroke:#000000;stroke-width:0.8;\" x=\"43.78125\" xlink:href=\"#m41dd7584ce\" y=\"16.123259\"/>\n      </g>\n     </g>\n     <g id=\"text_18\">\n      <!-- 0.8 -->\n      <g transform=\"translate(20.878125 19.922478)scale(0.1 -0.1)\">\n       <defs>\n        <path d=\"M 31.78125 34.625 \nQ 24.75 34.625 20.71875 30.859375 \nQ 16.703125 27.09375 16.703125 20.515625 \nQ 16.703125 13.921875 20.71875 10.15625 \nQ 24.75 6.390625 31.78125 6.390625 \nQ 38.8125 6.390625 42.859375 10.171875 \nQ 46.921875 13.96875 46.921875 20.515625 \nQ 46.921875 27.09375 42.890625 30.859375 \nQ 38.875 34.625 31.78125 34.625 \nz\nM 21.921875 38.8125 \nQ 15.578125 40.375 12.03125 44.71875 \nQ 8.5 49.078125 8.5 55.328125 \nQ 8.5 64.0625 14.71875 69.140625 \nQ 20.953125 74.21875 31.78125 74.21875 \nQ 42.671875 74.21875 48.875 69.140625 \nQ 55.078125 64.0625 55.078125 55.328125 \nQ 55.078125 49.078125 51.53125 44.71875 \nQ 48 40.375 41.703125 38.8125 \nQ 48.828125 37.15625 52.796875 32.3125 \nQ 56.78125 27.484375 56.78125 20.515625 \nQ 56.78125 9.90625 50.3125 4.234375 \nQ 43.84375 -1.421875 31.78125 -1.421875 \nQ 19.734375 -1.421875 13.25 4.234375 \nQ 6.78125 9.90625 6.78125 20.515625 \nQ 6.78125 27.484375 10.78125 32.3125 \nQ 14.796875 37.15625 21.921875 38.8125 \nz\nM 18.3125 54.390625 \nQ 18.3125 48.734375 21.84375 45.5625 \nQ 25.390625 42.390625 31.78125 42.390625 \nQ 38.140625 42.390625 41.71875 45.5625 \nQ 45.3125 48.734375 45.3125 54.390625 \nQ 45.3125 60.0625 41.71875 63.234375 \nQ 38.140625 66.40625 31.78125 66.40625 \nQ 25.390625 66.40625 21.84375 63.234375 \nQ 18.3125 60.0625 18.3125 54.390625 \nz\n\" id=\"DejaVuSans-56\"/>\n       </defs>\n       <use xlink:href=\"#DejaVuSans-48\"/>\n       <use x=\"63.623047\" xlink:href=\"#DejaVuSans-46\"/>\n       <use x=\"95.410156\" xlink:href=\"#DejaVuSans-56\"/>\n      </g>\n     </g>\n    </g>\n    <g id=\"text_19\">\n     <!-- Density -->\n     <g transform=\"translate(14.798438 134.928594)rotate(-90)scale(0.1 -0.1)\">\n      <defs>\n       <path d=\"M 19.671875 64.796875 \nL 19.671875 8.109375 \nL 31.59375 8.109375 \nQ 46.6875 8.109375 53.6875 14.9375 \nQ 60.6875 21.78125 60.6875 36.53125 \nQ 60.6875 51.171875 53.6875 57.984375 \nQ 46.6875 64.796875 31.59375 64.796875 \nz\nM 9.8125 72.90625 \nL 30.078125 72.90625 \nQ 51.265625 72.90625 61.171875 64.09375 \nQ 71.09375 55.28125 71.09375 36.53125 \nQ 71.09375 17.671875 61.125 8.828125 \nQ 51.171875 0 30.078125 0 \nL 9.8125 0 \nz\n\" id=\"DejaVuSans-68\"/>\n       <path d=\"M 54.890625 33.015625 \nL 54.890625 0 \nL 45.90625 0 \nL 45.90625 32.71875 \nQ 45.90625 40.484375 42.875 44.328125 \nQ 39.84375 48.1875 33.796875 48.1875 \nQ 26.515625 48.1875 22.3125 43.546875 \nQ 18.109375 38.921875 18.109375 30.90625 \nL 18.109375 0 \nL 9.078125 0 \nL 9.078125 54.6875 \nL 18.109375 54.6875 \nL 18.109375 46.1875 \nQ 21.34375 51.125 25.703125 53.5625 \nQ 30.078125 56 35.796875 56 \nQ 45.21875 56 50.046875 50.171875 \nQ 54.890625 44.34375 54.890625 33.015625 \nz\n\" id=\"DejaVuSans-110\"/>\n       <path d=\"M 44.28125 53.078125 \nL 44.28125 44.578125 \nQ 40.484375 46.53125 36.375 47.5 \nQ 32.28125 48.484375 27.875 48.484375 \nQ 21.1875 48.484375 17.84375 46.4375 \nQ 14.5 44.390625 14.5 40.28125 \nQ 14.5 37.15625 16.890625 35.375 \nQ 19.28125 33.59375 26.515625 31.984375 \nL 29.59375 31.296875 \nQ 39.15625 29.25 43.1875 25.515625 \nQ 47.21875 21.78125 47.21875 15.09375 \nQ 47.21875 7.46875 41.1875 3.015625 \nQ 35.15625 -1.421875 24.609375 -1.421875 \nQ 20.21875 -1.421875 15.453125 -0.5625 \nQ 10.6875 0.296875 5.421875 2 \nL 5.421875 11.28125 \nQ 10.40625 8.6875 15.234375 7.390625 \nQ 20.0625 6.109375 24.8125 6.109375 \nQ 31.15625 6.109375 34.5625 8.28125 \nQ 37.984375 10.453125 37.984375 14.40625 \nQ 37.984375 18.0625 35.515625 20.015625 \nQ 33.0625 21.96875 24.703125 23.78125 \nL 21.578125 24.515625 \nQ 13.234375 26.265625 9.515625 29.90625 \nQ 5.8125 33.546875 5.8125 39.890625 \nQ 5.8125 47.609375 11.28125 51.796875 \nQ 16.75 56 26.8125 56 \nQ 31.78125 56 36.171875 55.265625 \nQ 40.578125 54.546875 44.28125 53.078125 \nz\n\" id=\"DejaVuSans-115\"/>\n       <path d=\"M 18.3125 70.21875 \nL 18.3125 54.6875 \nL 36.8125 54.6875 \nL 36.8125 47.703125 \nL 18.3125 47.703125 \nL 18.3125 18.015625 \nQ 18.3125 11.328125 20.140625 9.421875 \nQ 21.96875 7.515625 27.59375 7.515625 \nL 36.8125 7.515625 \nL 36.8125 0 \nL 27.59375 0 \nQ 17.1875 0 13.234375 3.875 \nQ 9.28125 7.765625 9.28125 18.015625 \nL 9.28125 47.703125 \nL 2.6875 47.703125 \nL 2.6875 54.6875 \nL 9.28125 54.6875 \nL 9.28125 70.21875 \nz\n\" id=\"DejaVuSans-116\"/>\n       <path d=\"M 32.171875 -5.078125 \nQ 28.375 -14.84375 24.75 -17.8125 \nQ 21.140625 -20.796875 15.09375 -20.796875 \nL 7.90625 -20.796875 \nL 7.90625 -13.28125 \nL 13.1875 -13.28125 \nQ 16.890625 -13.28125 18.9375 -11.515625 \nQ 21 -9.765625 23.484375 -3.21875 \nL 25.09375 0.875 \nL 2.984375 54.6875 \nL 12.5 54.6875 \nL 29.59375 11.921875 \nL 46.6875 54.6875 \nL 56.203125 54.6875 \nz\n\" id=\"DejaVuSans-121\"/>\n      </defs>\n      <use xlink:href=\"#DejaVuSans-68\"/>\n      <use x=\"77.001953\" xlink:href=\"#DejaVuSans-101\"/>\n      <use x=\"138.525391\" xlink:href=\"#DejaVuSans-110\"/>\n      <use x=\"201.904297\" xlink:href=\"#DejaVuSans-115\"/>\n      <use x=\"254.003906\" xlink:href=\"#DejaVuSans-105\"/>\n      <use x=\"281.787109\" xlink:href=\"#DejaVuSans-116\"/>\n      <use x=\"320.996094\" xlink:href=\"#DejaVuSans-121\"/>\n     </g>\n    </g>\n   </g>\n   <g id=\"line2d_18\">\n    <path clip-path=\"url(#p80bc360e3c)\" d=\"M 142.016874 224.571279 \nL 147.459231 224.354738 \nL 150.724646 224.023987 \nL 152.901588 223.644998 \nL 155.078531 223.074319 \nL 157.255474 222.237934 \nL 159.432417 221.043709 \nL 161.60936 219.380827 \nL 162.697831 218.334064 \nL 163.786303 217.120591 \nL 164.874774 215.721957 \nL 165.963246 214.119046 \nL 167.051717 212.292305 \nL 168.140188 210.222024 \nL 169.22866 207.888678 \nL 170.317131 205.273341 \nL 172.494074 199.126985 \nL 174.671017 191.663936 \nL 176.84796 182.813666 \nL 179.024903 172.579123 \nL 181.201846 161.062297 \nL 184.46726 141.905301 \nL 190.998088 102.295434 \nL 193.175031 90.861847 \nL 194.263503 85.823046 \nL 195.351974 81.324626 \nL 196.440446 77.421664 \nL 197.528917 74.15817 \nL 198.617388 71.565777 \nL 199.70586 69.662902 \nL 200.794331 68.454415 \nL 201.882803 67.931839 \nL 202.971274 68.074059 \nL 204.059745 68.848505 \nL 205.148217 70.212723 \nL 206.236688 72.116259 \nL 207.32516 74.502724 \nL 208.413631 77.311951 \nL 210.590574 83.951646 \nL 212.767517 91.554378 \nL 217.121403 108.018113 \nL 221.475288 124.284516 \nL 224.740703 135.582854 \nL 226.917645 142.527022 \nL 229.094588 148.936095 \nL 231.271531 154.767731 \nL 233.448474 159.992271 \nL 235.625417 164.597236 \nL 237.80236 168.591413 \nL 239.979303 172.006098 \nL 242.156245 174.892583 \nL 244.333188 177.316491 \nL 246.510131 179.35047 \nL 248.687074 181.067059 \nL 250.864017 182.533152 \nL 254.129431 184.386951 \nL 257.394845 185.961348 \nL 262.837203 188.263815 \nL 280.252745 195.180197 \nL 283.51816 196.172017 \nL 286.783574 196.885607 \nL 290.048988 197.276823 \nL 293.314402 197.349377 \nL 296.579817 197.159933 \nL 306.37606 196.327782 \nL 308.553002 196.442958 \nL 310.729945 196.801184 \nL 312.906888 197.455714 \nL 315.083831 198.44448 \nL 317.260774 199.783529 \nL 319.437717 201.462178 \nL 321.61466 203.441166 \nL 324.880074 206.822887 \nL 332.499374 215.014347 \nL 334.676317 217.029146 \nL 336.85326 218.786776 \nL 339.030202 220.264437 \nL 341.207145 221.462329 \nL 343.384088 222.399146 \nL 345.561031 223.106191 \nL 347.737974 223.621337 \nL 351.003388 224.119312 \nL 354.268802 224.39169 \nL 358.622688 224.557046 \nL 358.622688 224.557046 \n\" style=\"fill:none;stroke:#1f77b4;stroke-linecap:square;stroke-width:1.5;\"/>\n   </g>\n   <g id=\"line2d_19\">\n    <path clip-path=\"url(#p80bc360e3c)\" d=\"M 58.999432 224.601415 \nL 66.249572 224.418245 \nL 70.599656 224.10247 \nL 73.499711 223.733126 \nL 76.399767 223.189134 \nL 79.299823 222.437278 \nL 82.199879 221.463707 \nL 85.099935 220.285236 \nL 90.900047 217.566325 \nL 95.250131 215.619065 \nL 98.150187 214.578627 \nL 101.050243 213.84373 \nL 103.950299 213.45035 \nL 106.850355 213.385422 \nL 109.75041 213.594677 \nL 114.100494 214.246373 \nL 124.25069 216.012957 \nL 128.600774 216.514304 \nL 132.950858 216.807324 \nL 137.300942 216.911972 \nL 143.101054 216.801702 \nL 148.901165 216.435656 \nL 154.701277 215.818701 \nL 160.501389 214.956762 \nL 166.301501 213.876808 \nL 173.551641 212.270362 \nL 179.351753 210.785809 \nL 183.701837 209.484834 \nL 186.601892 208.424827 \nL 189.501948 207.054975 \nL 190.951976 206.182481 \nL 192.402004 205.130993 \nL 193.852032 203.848409 \nL 195.30206 202.272548 \nL 196.752088 200.331055 \nL 198.202116 197.941978 \nL 199.652144 195.015208 \nL 201.102172 191.45498 \nL 202.5522 187.163571 \nL 204.002228 182.0463 \nL 205.452256 176.017793 \nL 206.902284 169.009381 \nL 208.352312 160.977305 \nL 209.80234 151.911248 \nL 211.252368 141.842543 \nL 214.152424 119.071301 \nL 221.402564 56.766309 \nL 222.852591 45.885097 \nL 224.302619 36.364358 \nL 225.752647 28.530713 \nL 227.202675 22.659836 \nL 228.652703 18.959119 \nL 230.102731 17.554286 \nL 231.552759 18.481207 \nL 233.002787 21.68368 \nL 234.452815 27.017391 \nL 235.902843 34.259704 \nL 237.352871 43.124339 \nL 238.802899 53.279608 \nL 241.702955 76.029525 \nL 246.053039 111.133175 \nL 248.953095 132.048768 \nL 250.403123 141.25921 \nL 251.853151 149.54055 \nL 253.303179 156.878373 \nL 254.753207 163.296251 \nL 256.203235 168.84713 \nL 257.653263 173.604664 \nL 259.103291 177.655134 \nL 260.553319 181.090371 \nL 262.003346 184.001971 \nL 263.453374 186.47686 \nL 264.903402 188.594198 \nL 266.35343 190.423479 \nL 267.803458 192.023644 \nL 270.703514 194.719718 \nL 273.60357 196.953317 \nL 276.503626 198.868691 \nL 279.403682 200.525371 \nL 282.303738 201.938994 \nL 285.203794 203.114991 \nL 288.10385 204.072275 \nL 292.453934 205.204915 \nL 298.254046 206.590585 \nL 301.154101 207.454951 \nL 304.054157 208.546852 \nL 306.954213 209.907759 \nL 309.854269 211.529403 \nL 314.204353 214.309664 \nL 320.004465 218.093702 \nL 322.904521 219.761865 \nL 325.804577 221.172216 \nL 328.704633 222.292531 \nL 331.604689 223.12908 \nL 334.504745 223.716509 \nL 337.4048 224.104549 \nL 341.754884 224.426256 \nL 347.554996 224.58813 \nL 347.554996 224.58813 \n\" style=\"fill:none;stroke:#ff7f0e;stroke-linecap:square;stroke-width:1.5;\"/>\n   </g>\n   <g id=\"line2d_20\">\n    <path clip-path=\"url(#p80bc360e3c)\" d=\"M 151.533141 224.120109 \nL 153.662085 223.728674 \nL 155.791029 223.090577 \nL 157.919973 222.084825 \nL 158.984445 221.395964 \nL 160.048917 220.552593 \nL 161.113389 219.528944 \nL 162.177861 218.297251 \nL 163.242333 216.828176 \nL 164.306805 215.091402 \nL 165.371277 213.0564 \nL 166.435749 210.69337 \nL 167.500221 207.974349 \nL 168.564693 204.874467 \nL 169.629165 201.373307 \nL 171.758109 193.116361 \nL 173.887053 183.183247 \nL 176.015997 171.710794 \nL 178.144941 159.019254 \nL 184.531773 119.43036 \nL 186.660717 108.197186 \nL 187.725189 103.367806 \nL 188.789661 99.164316 \nL 189.854133 95.646023 \nL 190.918605 92.856398 \nL 191.983077 90.821543 \nL 193.047549 89.549304 \nL 194.112021 89.029077 \nL 195.176493 89.232327 \nL 196.240965 90.113765 \nL 197.305437 91.61315 \nL 198.369909 93.657599 \nL 199.434381 96.164296 \nL 201.563325 102.201509 \nL 207.950157 122.012968 \nL 210.079101 127.232576 \nL 211.143573 129.378935 \nL 212.208045 131.195102 \nL 213.272517 132.679209 \nL 214.336989 133.839558 \nL 215.401461 134.693471 \nL 216.465933 135.265995 \nL 217.530405 135.588531 \nL 218.594877 135.697433 \nL 219.659349 135.63262 \nL 221.788293 135.151459 \nL 224.981709 134.189479 \nL 227.110653 133.845353 \nL 228.175125 133.861464 \nL 229.239597 134.037387 \nL 230.304069 134.392985 \nL 231.368541 134.943168 \nL 232.433013 135.697822 \nL 233.497485 136.66186 \nL 234.561957 137.835357 \nL 235.626429 139.213788 \nL 237.755373 142.546306 \nL 239.884317 146.544911 \nL 242.013261 151.048296 \nL 246.271149 160.795607 \nL 249.464565 167.978952 \nL 251.593508 172.385253 \nL 253.722452 176.339814 \nL 255.851396 179.766697 \nL 257.98034 182.635198 \nL 260.109284 184.956701 \nL 262.238228 186.777797 \nL 264.367172 188.170738 \nL 266.496116 189.22257 \nL 268.62506 190.024367 \nL 271.818476 190.94263 \nL 282.463196 193.673342 \nL 300.55922 198.868008 \nL 309.074996 201.052983 \nL 312.268412 202.094337 \nL 315.461828 203.399209 \nL 318.655244 205.038554 \nL 321.84866 207.035703 \nL 325.042076 209.348349 \nL 330.364436 213.58243 \nL 334.622324 216.868508 \nL 337.81574 219.025039 \nL 339.944684 220.25517 \nL 342.073628 221.301701 \nL 344.202572 222.163914 \nL 346.331516 222.851817 \nL 349.524932 223.597333 \nL 352.718348 224.069025 \nL 356.976236 224.408487 \nL 362.298596 224.5764 \nL 363.363068 224.591957 \nL 363.363068 224.591957 \n\" style=\"fill:none;stroke:#2ca02c;stroke-linecap:square;stroke-width:1.5;\"/>\n   </g>\n   <g id=\"patch_3\">\n    <path d=\"M 43.78125 224.64 \nL 43.78125 7.2 \n\" style=\"fill:none;stroke:#000000;stroke-linecap:square;stroke-linejoin:miter;stroke-width:0.8;\"/>\n   </g>\n   <g id=\"patch_4\">\n    <path d=\"M 378.58125 224.64 \nL 378.58125 7.2 \n\" style=\"fill:none;stroke:#000000;stroke-linecap:square;stroke-linejoin:miter;stroke-width:0.8;\"/>\n   </g>\n   <g id=\"patch_5\">\n    <path d=\"M 43.78125 224.64 \nL 378.58125 224.64 \n\" style=\"fill:none;stroke:#000000;stroke-linecap:square;stroke-linejoin:miter;stroke-width:0.8;\"/>\n   </g>\n   <g id=\"patch_6\">\n    <path d=\"M 43.78125 7.2 \nL 378.58125 7.2 \n\" style=\"fill:none;stroke:#000000;stroke-linecap:square;stroke-linejoin:miter;stroke-width:0.8;\"/>\n   </g>\n   <g id=\"legend_1\">\n    <g id=\"patch_7\">\n     <path d=\"M 286.853125 59.234375 \nL 371.58125 59.234375 \nQ 373.58125 59.234375 373.58125 57.234375 \nL 373.58125 14.2 \nQ 373.58125 12.2 371.58125 12.2 \nL 286.853125 12.2 \nQ 284.853125 12.2 284.853125 14.2 \nL 284.853125 57.234375 \nQ 284.853125 59.234375 286.853125 59.234375 \nz\n\" style=\"fill:#ffffff;opacity:0.8;stroke:#cccccc;stroke-linejoin:miter;\"/>\n    </g>\n    <g id=\"line2d_21\">\n     <path d=\"M 288.853125 20.298437 \nL 308.853125 20.298437 \n\" style=\"fill:none;stroke:#1f77b4;stroke-linecap:square;stroke-width:1.5;\"/>\n    </g>\n    <g id=\"line2d_22\"/>\n    <g id=\"text_20\">\n     <!-- Cases -->\n     <g transform=\"translate(316.853125 23.798437)scale(0.1 -0.1)\">\n      <defs>\n       <path d=\"M 64.40625 67.28125 \nL 64.40625 56.890625 \nQ 59.421875 61.53125 53.78125 63.8125 \nQ 48.140625 66.109375 41.796875 66.109375 \nQ 29.296875 66.109375 22.65625 58.46875 \nQ 16.015625 50.828125 16.015625 36.375 \nQ 16.015625 21.96875 22.65625 14.328125 \nQ 29.296875 6.6875 41.796875 6.6875 \nQ 48.140625 6.6875 53.78125 8.984375 \nQ 59.421875 11.28125 64.40625 15.921875 \nL 64.40625 5.609375 \nQ 59.234375 2.09375 53.4375 0.328125 \nQ 47.65625 -1.421875 41.21875 -1.421875 \nQ 24.65625 -1.421875 15.125 8.703125 \nQ 5.609375 18.84375 5.609375 36.375 \nQ 5.609375 53.953125 15.125 64.078125 \nQ 24.65625 74.21875 41.21875 74.21875 \nQ 47.75 74.21875 53.53125 72.484375 \nQ 59.328125 70.75 64.40625 67.28125 \nz\n\" id=\"DejaVuSans-67\"/>\n       <path d=\"M 34.28125 27.484375 \nQ 23.390625 27.484375 19.1875 25 \nQ 14.984375 22.515625 14.984375 16.5 \nQ 14.984375 11.71875 18.140625 8.90625 \nQ 21.296875 6.109375 26.703125 6.109375 \nQ 34.1875 6.109375 38.703125 11.40625 \nQ 43.21875 16.703125 43.21875 25.484375 \nL 43.21875 27.484375 \nz\nM 52.203125 31.203125 \nL 52.203125 0 \nL 43.21875 0 \nL 43.21875 8.296875 \nQ 40.140625 3.328125 35.546875 0.953125 \nQ 30.953125 -1.421875 24.3125 -1.421875 \nQ 15.921875 -1.421875 10.953125 3.296875 \nQ 6 8.015625 6 15.921875 \nQ 6 25.140625 12.171875 29.828125 \nQ 18.359375 34.515625 30.609375 34.515625 \nL 43.21875 34.515625 \nL 43.21875 35.40625 \nQ 43.21875 41.609375 39.140625 45 \nQ 35.0625 48.390625 27.6875 48.390625 \nQ 23 48.390625 18.546875 47.265625 \nQ 14.109375 46.140625 10.015625 43.890625 \nL 10.015625 52.203125 \nQ 14.9375 54.109375 19.578125 55.046875 \nQ 24.21875 56 28.609375 56 \nQ 40.484375 56 46.34375 49.84375 \nQ 52.203125 43.703125 52.203125 31.203125 \nz\n\" id=\"DejaVuSans-97\"/>\n      </defs>\n      <use xlink:href=\"#DejaVuSans-67\"/>\n      <use x=\"69.824219\" xlink:href=\"#DejaVuSans-97\"/>\n      <use x=\"131.103516\" xlink:href=\"#DejaVuSans-115\"/>\n      <use x=\"183.203125\" xlink:href=\"#DejaVuSans-101\"/>\n      <use x=\"244.726562\" xlink:href=\"#DejaVuSans-115\"/>\n     </g>\n    </g>\n    <g id=\"line2d_23\">\n     <path d=\"M 288.853125 34.976562 \nL 308.853125 34.976562 \n\" style=\"fill:none;stroke:#ff7f0e;stroke-linecap:square;stroke-width:1.5;\"/>\n    </g>\n    <g id=\"line2d_24\"/>\n    <g id=\"text_21\">\n     <!-- Deaths -->\n     <g transform=\"translate(316.853125 38.476562)scale(0.1 -0.1)\">\n      <defs>\n       <path d=\"M 54.890625 33.015625 \nL 54.890625 0 \nL 45.90625 0 \nL 45.90625 32.71875 \nQ 45.90625 40.484375 42.875 44.328125 \nQ 39.84375 48.1875 33.796875 48.1875 \nQ 26.515625 48.1875 22.3125 43.546875 \nQ 18.109375 38.921875 18.109375 30.90625 \nL 18.109375 0 \nL 9.078125 0 \nL 9.078125 75.984375 \nL 18.109375 75.984375 \nL 18.109375 46.1875 \nQ 21.34375 51.125 25.703125 53.5625 \nQ 30.078125 56 35.796875 56 \nQ 45.21875 56 50.046875 50.171875 \nQ 54.890625 44.34375 54.890625 33.015625 \nz\n\" id=\"DejaVuSans-104\"/>\n      </defs>\n      <use xlink:href=\"#DejaVuSans-68\"/>\n      <use x=\"77.001953\" xlink:href=\"#DejaVuSans-101\"/>\n      <use x=\"138.525391\" xlink:href=\"#DejaVuSans-97\"/>\n      <use x=\"199.804688\" xlink:href=\"#DejaVuSans-116\"/>\n      <use x=\"239.013672\" xlink:href=\"#DejaVuSans-104\"/>\n      <use x=\"302.392578\" xlink:href=\"#DejaVuSans-115\"/>\n     </g>\n    </g>\n    <g id=\"line2d_25\">\n     <path d=\"M 288.853125 49.654687 \nL 308.853125 49.654687 \n\" style=\"fill:none;stroke:#2ca02c;stroke-linecap:square;stroke-width:1.5;\"/>\n    </g>\n    <g id=\"line2d_26\"/>\n    <g id=\"text_22\">\n     <!-- Recovered -->\n     <g transform=\"translate(316.853125 53.154687)scale(0.1 -0.1)\">\n      <defs>\n       <path d=\"M 44.390625 34.1875 \nQ 47.5625 33.109375 50.5625 29.59375 \nQ 53.5625 26.078125 56.59375 19.921875 \nL 66.609375 0 \nL 56 0 \nL 46.6875 18.703125 \nQ 43.0625 26.03125 39.671875 28.421875 \nQ 36.28125 30.8125 30.421875 30.8125 \nL 19.671875 30.8125 \nL 19.671875 0 \nL 9.8125 0 \nL 9.8125 72.90625 \nL 32.078125 72.90625 \nQ 44.578125 72.90625 50.734375 67.671875 \nQ 56.890625 62.453125 56.890625 51.90625 \nQ 56.890625 45.015625 53.6875 40.46875 \nQ 50.484375 35.9375 44.390625 34.1875 \nz\nM 19.671875 64.796875 \nL 19.671875 38.921875 \nL 32.078125 38.921875 \nQ 39.203125 38.921875 42.84375 42.21875 \nQ 46.484375 45.515625 46.484375 51.90625 \nQ 46.484375 58.296875 42.84375 61.546875 \nQ 39.203125 64.796875 32.078125 64.796875 \nz\n\" id=\"DejaVuSans-82\"/>\n       <path d=\"M 48.78125 52.59375 \nL 48.78125 44.1875 \nQ 44.96875 46.296875 41.140625 47.34375 \nQ 37.3125 48.390625 33.40625 48.390625 \nQ 24.65625 48.390625 19.8125 42.84375 \nQ 14.984375 37.3125 14.984375 27.296875 \nQ 14.984375 17.28125 19.8125 11.734375 \nQ 24.65625 6.203125 33.40625 6.203125 \nQ 37.3125 6.203125 41.140625 7.25 \nQ 44.96875 8.296875 48.78125 10.40625 \nL 48.78125 2.09375 \nQ 45.015625 0.34375 40.984375 -0.53125 \nQ 36.96875 -1.421875 32.421875 -1.421875 \nQ 20.0625 -1.421875 12.78125 6.34375 \nQ 5.515625 14.109375 5.515625 27.296875 \nQ 5.515625 40.671875 12.859375 48.328125 \nQ 20.21875 56 33.015625 56 \nQ 37.15625 56 41.109375 55.140625 \nQ 45.0625 54.296875 48.78125 52.59375 \nz\n\" id=\"DejaVuSans-99\"/>\n       <path d=\"M 30.609375 48.390625 \nQ 23.390625 48.390625 19.1875 42.75 \nQ 14.984375 37.109375 14.984375 27.296875 \nQ 14.984375 17.484375 19.15625 11.84375 \nQ 23.34375 6.203125 30.609375 6.203125 \nQ 37.796875 6.203125 41.984375 11.859375 \nQ 46.1875 17.53125 46.1875 27.296875 \nQ 46.1875 37.015625 41.984375 42.703125 \nQ 37.796875 48.390625 30.609375 48.390625 \nz\nM 30.609375 56 \nQ 42.328125 56 49.015625 48.375 \nQ 55.71875 40.765625 55.71875 27.296875 \nQ 55.71875 13.875 49.015625 6.21875 \nQ 42.328125 -1.421875 30.609375 -1.421875 \nQ 18.84375 -1.421875 12.171875 6.21875 \nQ 5.515625 13.875 5.515625 27.296875 \nQ 5.515625 40.765625 12.171875 48.375 \nQ 18.84375 56 30.609375 56 \nz\n\" id=\"DejaVuSans-111\"/>\n       <path d=\"M 2.984375 54.6875 \nL 12.5 54.6875 \nL 29.59375 8.796875 \nL 46.6875 54.6875 \nL 56.203125 54.6875 \nL 35.6875 0 \nL 23.484375 0 \nz\n\" id=\"DejaVuSans-118\"/>\n       <path d=\"M 41.109375 46.296875 \nQ 39.59375 47.171875 37.8125 47.578125 \nQ 36.03125 48 33.890625 48 \nQ 26.265625 48 22.1875 43.046875 \nQ 18.109375 38.09375 18.109375 28.8125 \nL 18.109375 0 \nL 9.078125 0 \nL 9.078125 54.6875 \nL 18.109375 54.6875 \nL 18.109375 46.1875 \nQ 20.953125 51.171875 25.484375 53.578125 \nQ 30.03125 56 36.53125 56 \nQ 37.453125 56 38.578125 55.875 \nQ 39.703125 55.765625 41.0625 55.515625 \nz\n\" id=\"DejaVuSans-114\"/>\n       <path d=\"M 45.40625 46.390625 \nL 45.40625 75.984375 \nL 54.390625 75.984375 \nL 54.390625 0 \nL 45.40625 0 \nL 45.40625 8.203125 \nQ 42.578125 3.328125 38.25 0.953125 \nQ 33.9375 -1.421875 27.875 -1.421875 \nQ 17.96875 -1.421875 11.734375 6.484375 \nQ 5.515625 14.40625 5.515625 27.296875 \nQ 5.515625 40.1875 11.734375 48.09375 \nQ 17.96875 56 27.875 56 \nQ 33.9375 56 38.25 53.625 \nQ 42.578125 51.265625 45.40625 46.390625 \nz\nM 14.796875 27.296875 \nQ 14.796875 17.390625 18.875 11.75 \nQ 22.953125 6.109375 30.078125 6.109375 \nQ 37.203125 6.109375 41.296875 11.75 \nQ 45.40625 17.390625 45.40625 27.296875 \nQ 45.40625 37.203125 41.296875 42.84375 \nQ 37.203125 48.484375 30.078125 48.484375 \nQ 22.953125 48.484375 18.875 42.84375 \nQ 14.796875 37.203125 14.796875 27.296875 \nz\n\" id=\"DejaVuSans-100\"/>\n      </defs>\n      <use xlink:href=\"#DejaVuSans-82\"/>\n      <use x=\"64.982422\" xlink:href=\"#DejaVuSans-101\"/>\n      <use x=\"126.505859\" xlink:href=\"#DejaVuSans-99\"/>\n      <use x=\"181.486328\" xlink:href=\"#DejaVuSans-111\"/>\n      <use x=\"242.667969\" xlink:href=\"#DejaVuSans-118\"/>\n      <use x=\"301.847656\" xlink:href=\"#DejaVuSans-101\"/>\n      <use x=\"363.371094\" xlink:href=\"#DejaVuSans-114\"/>\n      <use x=\"402.234375\" xlink:href=\"#DejaVuSans-101\"/>\n      <use x=\"463.757812\" xlink:href=\"#DejaVuSans-100\"/>\n     </g>\n    </g>\n   </g>\n  </g>\n </g>\n <defs>\n  <clipPath id=\"p80bc360e3c\">\n   <rect height=\"217.44\" width=\"334.8\" x=\"43.78125\" y=\"7.2\"/>\n  </clipPath>\n </defs>\n</svg>\n",
      "image/png": "[encoded data removed]"
     },
     "metadata": {
      "needs_background": "light"
     }
    }
   ],
   "source": [
    "cases_vs_deaths = data[['date', 'positive', 'recovered', 'death']].dropna()\n",
    "cases_vs_deaths = cases_vs_deaths.groupby(['date'], sort=True)['positive', 'recovered', 'death'].max().reset_index()\n",
    "display(stats.pearsonr(cases_vs_deaths['positive'], cases_vs_deaths['death']))\n",
    "cases_vs_deaths[['positive', 'recovered', 'death']] = StandardScaler().fit_transform(cases_vs_deaths[['positive', 'recovered', 'death']])\n",
    "\n",
    "sns.distplot(cases_vs_deaths['positive'], label='Cases', hist=False)\n",
    "sns.distplot(cases_vs_deaths['death'], label='Deaths', hist=False)\n",
    "sns.distplot(cases_vs_deaths['recovered'], label='Recovered', hist=False, axlabel='Time')\n",
    "plt.legend()\n",
    "plt.show()"
   ]
  },
  {
   "cell_type": "code",
   "execution_count": 74,
   "metadata": {},
   "outputs": [
    {
     "output_type": "display_data",
     "data": {
      "text/plain": "   state    death   positive     ratio\n0     AK    287.0    54736.0  0.005243\n1     AL   9257.0   482488.0  0.019186\n2     AR   5287.0   313525.0  0.016863\n3     AS      0.0        0.0       NaN\n4     AZ  14981.0   799740.0  0.018732\n5     CA  47107.0  3412057.0  0.013806\n6     CO   5828.0   415037.0  0.014042\n7     CT   7449.0   270822.0  0.027505\n8     DC    982.0    39131.0  0.025095\n9     DE   1291.0    83369.0  0.015485\n10    FL  29659.0  1803893.0  0.016442\n11    GA  16174.0   969702.0  0.016679\n12    GU    130.0     7701.0  0.016881\n13    HI    426.0    27623.0  0.015422\n14    IA   5263.0   275247.0  0.019121\n15    ID   1803.0   167483.0  0.010765\n16    IL  22199.0  1164922.0  0.019056\n17    IN  12231.0   650530.0  0.018802\n18    KS   4406.0   287450.0  0.015328\n19    KY   4318.0   390762.0  0.011050\n20    LA   9325.0   420394.0  0.022182\n21    MA  15567.0   560576.0  0.027770\n22    MD   7612.0   372221.0  0.020450\n23    ME    651.0    42768.0  0.015222\n24    MI  16149.0   631532.0  0.025571\n25    MN   6380.0   474621.0  0.013442\n26    MO   7458.0   472143.0  0.015796\n27    MP      2.0      134.0  0.014925\n28    MS   6501.0   288714.0  0.022517\n29    MT   1331.0    97666.0  0.013628\n30    NC  10562.0   826340.0  0.012782\n31    ND   1461.0    98781.0  0.014790\n32    NE   2004.0   197447.0  0.010150\n33    NH   1136.0    71215.0  0.015952\n34    NJ  22497.0   751065.0  0.029953\n35    NM   3550.0   181060.0  0.019607\n36    NV   4733.0   289029.0  0.016376\n37    NY  37328.0  1542887.0  0.024194\n38    OH  16453.0   943291.0  0.017442\n39    OK   4061.0   414780.0  0.009791\n40    OR   2137.0   150464.0  0.014203\n41    PA  23126.0   899237.0  0.025717\n42    PR   1924.0    98317.0  0.019569\n43    RI   2344.0   122072.0  0.019202\n44    SC   8055.0   490453.0  0.016424\n45    SD   1844.0   110593.0  0.016674\n46    TN  10954.0   759523.0  0.014422\n47    TX  40645.0  2567297.0  0.015832\n48    UT   1797.0   362347.0  0.004959\n49    VA   7037.0   553308.0  0.012718\n50    VI     25.0     2542.0  0.009835\n51    VT    191.0    13917.0  0.013724\n52    WA   4675.0   328047.0  0.014251\n53    WI   6788.0   608418.0  0.011157\n54    WV   2216.0   128117.0  0.017297\n55    WY    662.0    53351.0  0.012408",
      "text/html": "<div>\n<style scoped>\n    .dataframe tbody tr th:only-of-type {\n        vertical-align: middle;\n    }\n\n    .dataframe tbody tr th {\n        vertical-align: top;\n    }\n\n    .dataframe thead th {\n        text-align: right;\n    }\n</style>\n<table border=\"1\" class=\"dataframe\">\n  <thead>\n    <tr style=\"text-align: right;\">\n      <th></th>\n      <th>state</th>\n      <th>death</th>\n      <th>positive</th>\n      <th>ratio</th>\n    </tr>\n  </thead>\n  <tbody>\n    <tr>\n      <th>0</th>\n      <td>AK</td>\n      <td>287.0</td>\n      <td>54736.0</td>\n      <td>0.005243</td>\n    </tr>\n    <tr>\n      <th>1</th>\n      <td>AL</td>\n      <td>9257.0</td>\n      <td>482488.0</td>\n      <td>0.019186</td>\n    </tr>\n    <tr>\n      <th>2</th>\n      <td>AR</td>\n      <td>5287.0</td>\n      <td>313525.0</td>\n      <td>0.016863</td>\n    </tr>\n    <tr>\n      <th>3</th>\n      <td>AS</td>\n      <td>0.0</td>\n      <td>0.0</td>\n      <td>NaN</td>\n    </tr>\n    <tr>\n      <th>4</th>\n      <td>AZ</td>\n      <td>14981.0</td>\n      <td>799740.0</td>\n      <td>0.018732</td>\n    </tr>\n    <tr>\n      <th>5</th>\n      <td>CA</td>\n      <td>47107.0</td>\n      <td>3412057.0</td>\n      <td>0.013806</td>\n    </tr>\n    <tr>\n      <th>6</th>\n      <td>CO</td>\n      <td>5828.0</td>\n      <td>415037.0</td>\n      <td>0.014042</td>\n    </tr>\n    <tr>\n      <th>7</th>\n      <td>CT</td>\n      <td>7449.0</td>\n      <td>270822.0</td>\n      <td>0.027505</td>\n    </tr>\n    <tr>\n      <th>8</th>\n      <td>DC</td>\n      <td>982.0</td>\n      <td>39131.0</td>\n      <td>0.025095</td>\n    </tr>\n    <tr>\n      <th>9</th>\n      <td>DE</td>\n      <td>1291.0</td>\n      <td>83369.0</td>\n      <td>0.015485</td>\n    </tr>\n    <tr>\n      <th>10</th>\n      <td>FL</td>\n      <td>29659.0</td>\n      <td>1803893.0</td>\n      <td>0.016442</td>\n    </tr>\n    <tr>\n      <th>11</th>\n      <td>GA</td>\n      <td>16174.0</td>\n      <td>969702.0</td>\n      <td>0.016679</td>\n    </tr>\n    <tr>\n      <th>12</th>\n      <td>GU</td>\n      <td>130.0</td>\n      <td>7701.0</td>\n      <td>0.016881</td>\n    </tr>\n    <tr>\n      <th>13</th>\n      <td>HI</td>\n      <td>426.0</td>\n      <td>27623.0</td>\n      <td>0.015422</td>\n    </tr>\n    <tr>\n      <th>14</th>\n      <td>IA</td>\n      <td>5263.0</td>\n      <td>275247.0</td>\n      <td>0.019121</td>\n    </tr>\n    <tr>\n      <th>15</th>\n      <td>ID</td>\n      <td>1803.0</td>\n      <td>167483.0</td>\n      <td>0.010765</td>\n    </tr>\n    <tr>\n      <th>16</th>\n      <td>IL</td>\n      <td>22199.0</td>\n      <td>1164922.0</td>\n      <td>0.019056</td>\n    </tr>\n    <tr>\n      <th>17</th>\n      <td>IN</td>\n      <td>12231.0</td>\n      <td>650530.0</td>\n      <td>0.018802</td>\n    </tr>\n    <tr>\n      <th>18</th>\n      <td>KS</td>\n      <td>4406.0</td>\n      <td>287450.0</td>\n      <td>0.015328</td>\n    </tr>\n    <tr>\n      <th>19</th>\n      <td>KY</td>\n      <td>4318.0</td>\n      <td>390762.0</td>\n      <td>0.011050</td>\n    </tr>\n    <tr>\n      <th>20</th>\n      <td>LA</td>\n      <td>9325.0</td>\n      <td>420394.0</td>\n      <td>0.022182</td>\n    </tr>\n    <tr>\n      <th>21</th>\n      <td>MA</td>\n      <td>15567.0</td>\n      <td>560576.0</td>\n      <td>0.027770</td>\n    </tr>\n    <tr>\n      <th>22</th>\n      <td>MD</td>\n      <td>7612.0</td>\n      <td>372221.0</td>\n      <td>0.020450</td>\n    </tr>\n    <tr>\n      <th>23</th>\n      <td>ME</td>\n      <td>651.0</td>\n      <td>42768.0</td>\n      <td>0.015222</td>\n    </tr>\n    <tr>\n      <th>24</th>\n      <td>MI</td>\n      <td>16149.0</td>\n      <td>631532.0</td>\n      <td>0.025571</td>\n    </tr>\n    <tr>\n      <th>25</th>\n      <td>MN</td>\n      <td>6380.0</td>\n      <td>474621.0</td>\n      <td>0.013442</td>\n    </tr>\n    <tr>\n      <th>26</th>\n      <td>MO</td>\n      <td>7458.0</td>\n      <td>472143.0</td>\n      <td>0.015796</td>\n    </tr>\n    <tr>\n      <th>27</th>\n      <td>MP</td>\n      <td>2.0</td>\n      <td>134.0</td>\n      <td>0.014925</td>\n    </tr>\n    <tr>\n      <th>28</th>\n      <td>MS</td>\n      <td>6501.0</td>\n      <td>288714.0</td>\n      <td>0.022517</td>\n    </tr>\n    <tr>\n      <th>29</th>\n      <td>MT</td>\n      <td>1331.0</td>\n      <td>97666.0</td>\n      <td>0.013628</td>\n    </tr>\n    <tr>\n      <th>30</th>\n      <td>NC</td>\n      <td>10562.0</td>\n      <td>826340.0</td>\n      <td>0.012782</td>\n    </tr>\n    <tr>\n      <th>31</th>\n      <td>ND</td>\n      <td>1461.0</td>\n      <td>98781.0</td>\n      <td>0.014790</td>\n    </tr>\n    <tr>\n      <th>32</th>\n      <td>NE</td>\n      <td>2004.0</td>\n      <td>197447.0</td>\n      <td>0.010150</td>\n    </tr>\n    <tr>\n      <th>33</th>\n      <td>NH</td>\n      <td>1136.0</td>\n      <td>71215.0</td>\n      <td>0.015952</td>\n    </tr>\n    <tr>\n      <th>34</th>\n      <td>NJ</td>\n      <td>22497.0</td>\n      <td>751065.0</td>\n      <td>0.029953</td>\n    </tr>\n    <tr>\n      <th>35</th>\n      <td>NM</td>\n      <td>3550.0</td>\n      <td>181060.0</td>\n      <td>0.019607</td>\n    </tr>\n    <tr>\n      <th>36</th>\n      <td>NV</td>\n      <td>4733.0</td>\n      <td>289029.0</td>\n      <td>0.016376</td>\n    </tr>\n    <tr>\n      <th>37</th>\n      <td>NY</td>\n      <td>37328.0</td>\n      <td>1542887.0</td>\n      <td>0.024194</td>\n    </tr>\n    <tr>\n      <th>38</th>\n      <td>OH</td>\n      <td>16453.0</td>\n      <td>943291.0</td>\n      <td>0.017442</td>\n    </tr>\n    <tr>\n      <th>39</th>\n      <td>OK</td>\n      <td>4061.0</td>\n      <td>414780.0</td>\n      <td>0.009791</td>\n    </tr>\n    <tr>\n      <th>40</th>\n      <td>OR</td>\n      <td>2137.0</td>\n      <td>150464.0</td>\n      <td>0.014203</td>\n    </tr>\n    <tr>\n      <th>41</th>\n      <td>PA</td>\n      <td>23126.0</td>\n      <td>899237.0</td>\n      <td>0.025717</td>\n    </tr>\n    <tr>\n      <th>42</th>\n      <td>PR</td>\n      <td>1924.0</td>\n      <td>98317.0</td>\n      <td>0.019569</td>\n    </tr>\n    <tr>\n      <th>43</th>\n      <td>RI</td>\n      <td>2344.0</td>\n      <td>122072.0</td>\n      <td>0.019202</td>\n    </tr>\n    <tr>\n      <th>44</th>\n      <td>SC</td>\n      <td>8055.0</td>\n      <td>490453.0</td>\n      <td>0.016424</td>\n    </tr>\n    <tr>\n      <th>45</th>\n      <td>SD</td>\n      <td>1844.0</td>\n      <td>110593.0</td>\n      <td>0.016674</td>\n    </tr>\n    <tr>\n      <th>46</th>\n      <td>TN</td>\n      <td>10954.0</td>\n      <td>759523.0</td>\n      <td>0.014422</td>\n    </tr>\n    <tr>\n      <th>47</th>\n      <td>TX</td>\n      <td>40645.0</td>\n      <td>2567297.0</td>\n      <td>0.015832</td>\n    </tr>\n    <tr>\n      <th>48</th>\n      <td>UT</td>\n      <td>1797.0</td>\n      <td>362347.0</td>\n      <td>0.004959</td>\n    </tr>\n    <tr>\n      <th>49</th>\n      <td>VA</td>\n      <td>7037.0</td>\n      <td>553308.0</td>\n      <td>0.012718</td>\n    </tr>\n    <tr>\n      <th>50</th>\n      <td>VI</td>\n      <td>25.0</td>\n      <td>2542.0</td>\n      <td>0.009835</td>\n    </tr>\n    <tr>\n      <th>51</th>\n      <td>VT</td>\n      <td>191.0</td>\n      <td>13917.0</td>\n      <td>0.013724</td>\n    </tr>\n    <tr>\n      <th>52</th>\n      <td>WA</td>\n      <td>4675.0</td>\n      <td>328047.0</td>\n      <td>0.014251</td>\n    </tr>\n    <tr>\n      <th>53</th>\n      <td>WI</td>\n      <td>6788.0</td>\n      <td>608418.0</td>\n      <td>0.011157</td>\n    </tr>\n    <tr>\n      <th>54</th>\n      <td>WV</td>\n      <td>2216.0</td>\n      <td>128117.0</td>\n      <td>0.017297</td>\n    </tr>\n    <tr>\n      <th>55</th>\n      <td>WY</td>\n      <td>662.0</td>\n      <td>53351.0</td>\n      <td>0.012408</td>\n    </tr>\n  </tbody>\n</table>\n</div>"
     },
     "metadata": {}
    },
    {
     "output_type": "display_data",
     "data": {
      "application/vnd.plotly.v1+json": {
       "config": {
        "plotlyServerURL": "https://plot.ly"
       },
       "data": [
        {
         "colorscale": [
          [
           0,
           "rgb(255,245,240)"
          ],
          [
           0.125,
           "rgb(254,224,210)"
          ],
          [
           0.25,
           "rgb(252,187,161)"
          ],
          [
           0.375,
           "rgb(252,146,114)"
          ],
          [
           0.5,
           "rgb(251,106,74)"
          ],
          [
           0.625,
           "rgb(239,59,44)"
          ],
          [
           0.75,
           "rgb(203,24,29)"
          ],
          [
           0.875,
           "rgb(165,15,21)"
          ],
          [
           1,
           "rgb(103,0,13)"
          ]
         ],
         "locationmode": "USA-states",
         "locations": [
          "AK",
          "AL",
          "AR",
          "AS",
          "AZ",
          "CA",
          "CO",
          "CT",
          "DC",
          "DE",
          "FL",
          "GA",
          "GU",
          "HI",
          "IA",
          "ID",
          "IL",
          "IN",
          "KS",
          "KY",
          "LA",
          "MA",
          "MD",
          "ME",
          "MI",
          "MN",
          "MO",
          "MP",
          "MS",
          "MT",
          "NC",
          "ND",
          "NE",
          "NH",
          "NJ",
          "NM",
          "NV",
          "NY",
          "OH",
          "OK",
          "OR",
          "PA",
          "PR",
          "RI",
          "SC",
          "SD",
          "TN",
          "TX",
          "UT",
          "VA",
          "VI",
          "VT",
          "WA",
          "WI",
          "WV",
          "WY"
         ],
         "type": "choropleth",
         "z": [
          0.005243349897690734,
          0.01918596939198488,
          0.01686308906785743,
          null,
          0.018732338009853203,
          0.01380604134104442,
          0.014042121545789894,
          0.02750515098477967,
          0.02509519306943344,
          0.015485372260672432,
          0.016441662559808147,
          0.016679350975866813,
          0.016880924555252565,
          0.015421930999529378,
          0.019121007676741256,
          0.010765271699217234,
          0.01905621148883788,
          0.01880159254761502,
          0.015327883110106105,
          0.01105020447228748,
          0.022181572524821953,
          0.027769651215892224,
          0.020450216403695654,
          0.015221661054994388,
          0.025571150788875306,
          0.013442304491373116,
          0.01579606178636557,
          0.014925373134328358,
          0.022517093040171243,
          0.013628079372555444,
          0.012781663721954644,
          0.014790293679958696,
          0.010149559122194817,
          0.015951695569753562,
          0.029953466078169,
          0.01960676018999227,
          0.016375519411546937,
          0.024193605882997266,
          0.017442125494677677,
          0.009790732436472346,
          0.014202732879625691,
          0.025717358160307017,
          0.01956935219748365,
          0.019201782554557966,
          0.016423592066925882,
          0.01667374969482698,
          0.014422209729000966,
          0.015831826235920502,
          0.004959334560517957,
          0.012718052151785262,
          0.00983477576711251,
          0.013724222174319178,
          0.014251006715501132,
          0.01115680338188548,
          0.01729668974453039,
          0.012408389720904951
         ]
        }
       ],
       "layout": {
        "geo": {
         "scope": "usa"
        },
        "template": {
         "data": {
          "bar": [
           {
            "error_x": {
             "color": "#2a3f5f"
            },
            "error_y": {
             "color": "#2a3f5f"
            },
            "marker": {
             "line": {
              "color": "#E5ECF6",
              "width": 0.5
             }
            },
            "type": "bar"
           }
          ],
          "barpolar": [
           {
            "marker": {
             "line": {
              "color": "#E5ECF6",
              "width": 0.5
             }
            },
            "type": "barpolar"
           }
          ],
          "carpet": [
           {
            "aaxis": {
             "endlinecolor": "#2a3f5f",
             "gridcolor": "white",
             "linecolor": "white",
             "minorgridcolor": "white",
             "startlinecolor": "#2a3f5f"
            },
            "baxis": {
             "endlinecolor": "#2a3f5f",
             "gridcolor": "white",
             "linecolor": "white",
             "minorgridcolor": "white",
             "startlinecolor": "#2a3f5f"
            },
            "type": "carpet"
           }
          ],
          "choropleth": [
           {
            "colorbar": {
             "outlinewidth": 0,
             "ticks": ""
            },
            "type": "choropleth"
           }
          ],
          "contour": [
           {
            "colorbar": {
             "outlinewidth": 0,
             "ticks": ""
            },
            "colorscale": [
             [
              0,
              "#0d0887"
             ],
             [
              0.1111111111111111,
              "#46039f"
             ],
             [
              0.2222222222222222,
              "#7201a8"
             ],
             [
              0.3333333333333333,
              "#9c179e"
             ],
             [
              0.4444444444444444,
              "#bd3786"
             ],
             [
              0.5555555555555556,
              "#d8576b"
             ],
             [
              0.6666666666666666,
              "#ed7953"
             ],
             [
              0.7777777777777778,
              "#fb9f3a"
             ],
             [
              0.8888888888888888,
              "#fdca26"
             ],
             [
              1,
              "#f0f921"
             ]
            ],
            "type": "contour"
           }
          ],
          "contourcarpet": [
           {
            "colorbar": {
             "outlinewidth": 0,
             "ticks": ""
            },
            "type": "contourcarpet"
           }
          ],
          "heatmap": [
           {
            "colorbar": {
             "outlinewidth": 0,
             "ticks": ""
            },
            "colorscale": [
             [
              0,
              "#0d0887"
             ],
             [
              0.1111111111111111,
              "#46039f"
             ],
             [
              0.2222222222222222,
              "#7201a8"
             ],
             [
              0.3333333333333333,
              "#9c179e"
             ],
             [
              0.4444444444444444,
              "#bd3786"
             ],
             [
              0.5555555555555556,
              "#d8576b"
             ],
             [
              0.6666666666666666,
              "#ed7953"
             ],
             [
              0.7777777777777778,
              "#fb9f3a"
             ],
             [
              0.8888888888888888,
              "#fdca26"
             ],
             [
              1,
              "#f0f921"
             ]
            ],
            "type": "heatmap"
           }
          ],
          "heatmapgl": [
           {
            "colorbar": {
             "outlinewidth": 0,
             "ticks": ""
            },
            "colorscale": [
             [
              0,
              "#0d0887"
             ],
             [
              0.1111111111111111,
              "#46039f"
             ],
             [
              0.2222222222222222,
              "#7201a8"
             ],
             [
              0.3333333333333333,
              "#9c179e"
             ],
             [
              0.4444444444444444,
              "#bd3786"
             ],
             [
              0.5555555555555556,
              "#d8576b"
             ],
             [
              0.6666666666666666,
              "#ed7953"
             ],
             [
              0.7777777777777778,
              "#fb9f3a"
             ],
             [
              0.8888888888888888,
              "#fdca26"
             ],
             [
              1,
              "#f0f921"
             ]
            ],
            "type": "heatmapgl"
           }
          ],
          "histogram": [
           {
            "marker": {
             "colorbar": {
              "outlinewidth": 0,
              "ticks": ""
             }
            },
            "type": "histogram"
           }
          ],
          "histogram2d": [
           {
            "colorbar": {
             "outlinewidth": 0,
             "ticks": ""
            },
            "colorscale": [
             [
              0,
              "#0d0887"
             ],
             [
              0.1111111111111111,
              "#46039f"
             ],
             [
              0.2222222222222222,
              "#7201a8"
             ],
             [
              0.3333333333333333,
              "#9c179e"
             ],
             [
              0.4444444444444444,
              "#bd3786"
             ],
             [
              0.5555555555555556,
              "#d8576b"
             ],
             [
              0.6666666666666666,
              "#ed7953"
             ],
             [
              0.7777777777777778,
              "#fb9f3a"
             ],
             [
              0.8888888888888888,
              "#fdca26"
             ],
             [
              1,
              "#f0f921"
             ]
            ],
            "type": "histogram2d"
           }
          ],
          "histogram2dcontour": [
           {
            "colorbar": {
             "outlinewidth": 0,
             "ticks": ""
            },
            "colorscale": [
             [
              0,
              "#0d0887"
             ],
             [
              0.1111111111111111,
              "#46039f"
             ],
             [
              0.2222222222222222,
              "#7201a8"
             ],
             [
              0.3333333333333333,
              "#9c179e"
             ],
             [
              0.4444444444444444,
              "#bd3786"
             ],
             [
              0.5555555555555556,
              "#d8576b"
             ],
             [
              0.6666666666666666,
              "#ed7953"
             ],
             [
              0.7777777777777778,
              "#fb9f3a"
             ],
             [
              0.8888888888888888,
              "#fdca26"
             ],
             [
              1,
              "#f0f921"
             ]
            ],
            "type": "histogram2dcontour"
           }
          ],
          "mesh3d": [
           {
            "colorbar": {
             "outlinewidth": 0,
             "ticks": ""
            },
            "type": "mesh3d"
           }
          ],
          "parcoords": [
           {
            "line": {
             "colorbar": {
              "outlinewidth": 0,
              "ticks": ""
             }
            },
            "type": "parcoords"
           }
          ],
          "pie": [
           {
            "automargin": true,
            "type": "pie"
           }
          ],
          "scatter": [
           {
            "marker": {
             "colorbar": {
              "outlinewidth": 0,
              "ticks": ""
             }
            },
            "type": "scatter"
           }
          ],
          "scatter3d": [
           {
            "line": {
             "colorbar": {
              "outlinewidth": 0,
              "ticks": ""
             }
            },
            "marker": {
             "colorbar": {
              "outlinewidth": 0,
              "ticks": ""
             }
            },
            "type": "scatter3d"
           }
          ],
          "scattercarpet": [
           {
            "marker": {
             "colorbar": {
              "outlinewidth": 0,
              "ticks": ""
             }
            },
            "type": "scattercarpet"
           }
          ],
          "scattergeo": [
           {
            "marker": {
             "colorbar": {
              "outlinewidth": 0,
              "ticks": ""
             }
            },
            "type": "scattergeo"
           }
          ],
          "scattergl": [
           {
            "marker": {
             "colorbar": {
              "outlinewidth": 0,
              "ticks": ""
             }
            },
            "type": "scattergl"
           }
          ],
          "scattermapbox": [
           {
            "marker": {
             "colorbar": {
              "outlinewidth": 0,
              "ticks": ""
             }
            },
            "type": "scattermapbox"
           }
          ],
          "scatterpolar": [
           {
            "marker": {
             "colorbar": {
              "outlinewidth": 0,
              "ticks": ""
             }
            },
            "type": "scatterpolar"
           }
          ],
          "scatterpolargl": [
           {
            "marker": {
             "colorbar": {
              "outlinewidth": 0,
              "ticks": ""
             }
            },
            "type": "scatterpolargl"
           }
          ],
          "scatterternary": [
           {
            "marker": {
             "colorbar": {
              "outlinewidth": 0,
              "ticks": ""
             }
            },
            "type": "scatterternary"
           }
          ],
          "surface": [
           {
            "colorbar": {
             "outlinewidth": 0,
             "ticks": ""
            },
            "colorscale": [
             [
              0,
              "#0d0887"
             ],
             [
              0.1111111111111111,
              "#46039f"
             ],
             [
              0.2222222222222222,
              "#7201a8"
             ],
             [
              0.3333333333333333,
              "#9c179e"
             ],
             [
              0.4444444444444444,
              "#bd3786"
             ],
             [
              0.5555555555555556,
              "#d8576b"
             ],
             [
              0.6666666666666666,
              "#ed7953"
             ],
             [
              0.7777777777777778,
              "#fb9f3a"
             ],
             [
              0.8888888888888888,
              "#fdca26"
             ],
             [
              1,
              "#f0f921"
             ]
            ],
            "type": "surface"
           }
          ],
          "table": [
           {
            "cells": {
             "fill": {
              "color": "#EBF0F8"
             },
             "line": {
              "color": "white"
             }
            },
            "header": {
             "fill": {
              "color": "#C8D4E3"
             },
             "line": {
              "color": "white"
             }
            },
            "type": "table"
           }
          ]
         },
         "layout": {
          "annotationdefaults": {
           "arrowcolor": "#2a3f5f",
           "arrowhead": 0,
           "arrowwidth": 1
          },
          "autotypenumbers": "strict",
          "coloraxis": {
           "colorbar": {
            "outlinewidth": 0,
            "ticks": ""
           }
          },
          "colorscale": {
           "diverging": [
            [
             0,
             "#8e0152"
            ],
            [
             0.1,
             "#c51b7d"
            ],
            [
             0.2,
             "#de77ae"
            ],
            [
             0.3,
             "#f1b6da"
            ],
            [
             0.4,
             "#fde0ef"
            ],
            [
             0.5,
             "#f7f7f7"
            ],
            [
             0.6,
             "#e6f5d0"
            ],
            [
             0.7,
             "#b8e186"
            ],
            [
             0.8,
             "#7fbc41"
            ],
            [
             0.9,
             "#4d9221"
            ],
            [
             1,
             "#276419"
            ]
           ],
           "sequential": [
            [
             0,
             "#0d0887"
            ],
            [
             0.1111111111111111,
             "#46039f"
            ],
            [
             0.2222222222222222,
             "#7201a8"
            ],
            [
             0.3333333333333333,
             "#9c179e"
            ],
            [
             0.4444444444444444,
             "#bd3786"
            ],
            [
             0.5555555555555556,
             "#d8576b"
            ],
            [
             0.6666666666666666,
             "#ed7953"
            ],
            [
             0.7777777777777778,
             "#fb9f3a"
            ],
            [
             0.8888888888888888,
             "#fdca26"
            ],
            [
             1,
             "#f0f921"
            ]
           ],
           "sequentialminus": [
            [
             0,
             "#0d0887"
            ],
            [
             0.1111111111111111,
             "#46039f"
            ],
            [
             0.2222222222222222,
             "#7201a8"
            ],
            [
             0.3333333333333333,
             "#9c179e"
            ],
            [
             0.4444444444444444,
             "#bd3786"
            ],
            [
             0.5555555555555556,
             "#d8576b"
            ],
            [
             0.6666666666666666,
             "#ed7953"
            ],
            [
             0.7777777777777778,
             "#fb9f3a"
            ],
            [
             0.8888888888888888,
             "#fdca26"
            ],
            [
             1,
             "#f0f921"
            ]
           ]
          },
          "colorway": [
           "#636efa",
           "#EF553B",
           "#00cc96",
           "#ab63fa",
           "#FFA15A",
           "#19d3f3",
           "#FF6692",
           "#B6E880",
           "#FF97FF",
           "#FECB52"
          ],
          "font": {
           "color": "#2a3f5f"
          },
          "geo": {
           "bgcolor": "white",
           "lakecolor": "white",
           "landcolor": "#E5ECF6",
           "showlakes": true,
           "showland": true,
           "subunitcolor": "white"
          },
          "hoverlabel": {
           "align": "left"
          },
          "hovermode": "closest",
          "mapbox": {
           "style": "light"
          },
          "paper_bgcolor": "white",
          "plot_bgcolor": "#E5ECF6",
          "polar": {
           "angularaxis": {
            "gridcolor": "white",
            "linecolor": "white",
            "ticks": ""
           },
           "bgcolor": "#E5ECF6",
           "radialaxis": {
            "gridcolor": "white",
            "linecolor": "white",
            "ticks": ""
           }
          },
          "scene": {
           "xaxis": {
            "backgroundcolor": "#E5ECF6",
            "gridcolor": "white",
            "gridwidth": 2,
            "linecolor": "white",
            "showbackground": true,
            "ticks": "",
            "zerolinecolor": "white"
           },
           "yaxis": {
            "backgroundcolor": "#E5ECF6",
            "gridcolor": "white",
            "gridwidth": 2,
            "linecolor": "white",
            "showbackground": true,
            "ticks": "",
            "zerolinecolor": "white"
           },
           "zaxis": {
            "backgroundcolor": "#E5ECF6",
            "gridcolor": "white",
            "gridwidth": 2,
            "linecolor": "white",
            "showbackground": true,
            "ticks": "",
            "zerolinecolor": "white"
           }
          },
          "shapedefaults": {
           "line": {
            "color": "#2a3f5f"
           }
          },
          "ternary": {
           "aaxis": {
            "gridcolor": "white",
            "linecolor": "white",
            "ticks": ""
           },
           "baxis": {
            "gridcolor": "white",
            "linecolor": "white",
            "ticks": ""
           },
           "bgcolor": "#E5ECF6",
           "caxis": {
            "gridcolor": "white",
            "linecolor": "white",
            "ticks": ""
           }
          },
          "title": {
           "x": 0.05
          },
          "xaxis": {
           "automargin": true,
           "gridcolor": "white",
           "linecolor": "white",
           "ticks": "",
           "title": {
            "standoff": 15
           },
           "zerolinecolor": "white",
           "zerolinewidth": 2
          },
          "yaxis": {
           "automargin": true,
           "gridcolor": "white",
           "linecolor": "white",
           "ticks": "",
           "title": {
            "standoff": 15
           },
           "zerolinecolor": "white",
           "zerolinewidth": 2
          }
         }
        },
        "title": {
         "text": "Covid deaths per positive test by state"
        }
       }
      }
     },
     "metadata": {}
    }
   ],
   "source": [
    "cases_per_death_by_state = data[['state', 'death', 'positive']].dropna()\n",
    "cases_per_death_by_state = cases_per_death_by_state.groupby(['state'], sort=False)['death', 'positive'].max().reset_index()\n",
    "cases_per_death_by_state['ratio'] = (cases_per_death_by_state['death'] / cases_per_death_by_state['positive']).dropna()\n",
    "display(cases_per_death_by_state)\n",
    "\n",
    "fig = go.Figure(data=go.Choropleth(\n",
    "    locations=cases_per_death_by_state['state'], # Spatial coordinates\n",
    "    z = cases_per_death_by_state['ratio'].astype(float), # Data to be color-coded\n",
    "    locationmode = 'USA-states', # set of locations match entries in `locations`\n",
    "    colorscale = 'Reds'\n",
    "))\n",
    "\n",
    "fig.update_layout(\n",
    "    title_text = 'Covid deaths per positive test by state',\n",
    "    geo_scope='usa', # limite map scope to USA\n",
    ")\n",
    "\n",
    "fig.show()"
   ]
  },
  {
   "cell_type": "code",
   "execution_count": null,
   "metadata": {},
   "outputs": [],
   "source": []
  }
 ]
}